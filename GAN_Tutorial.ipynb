{
  "nbformat": 4,
  "nbformat_minor": 0,
  "metadata": {
    "colab": {
      "name": "GAN Tutorial",
      "provenance": [],
      "collapsed_sections": [],
      "authorship_tag": "ABX9TyNxprJxzKg8bYtCrVheryrx",
      "include_colab_link": true
    },
    "kernelspec": {
      "name": "python3",
      "display_name": "Python 3"
    },
    "accelerator": "GPU"
  },
  "cells": [
    {
      "cell_type": "markdown",
      "metadata": {
        "id": "view-in-github",
        "colab_type": "text"
      },
      "source": [
        "<a href=\"https://colab.research.google.com/github/DrLennon666/DAT4-students/blob/master/GAN_Tutorial.ipynb\" target=\"_parent\"><img src=\"https://colab.research.google.com/assets/colab-badge.svg\" alt=\"Open In Colab\"/></a>"
      ]
    },
    {
      "cell_type": "code",
      "metadata": {
        "id": "cSmJwSTFudEz",
        "colab_type": "code",
        "outputId": "685d5230-32ab-454c-892f-ac7d35d4040d",
        "colab": {
          "base_uri": "https://localhost:8080/",
          "height": 34
        }
      },
      "source": [
        "try:\n",
        "  %tensorflow_version 2.x\n",
        "except Exception:\n",
        "  pass\n",
        "import tensorflow as tf"
      ],
      "execution_count": 1,
      "outputs": [
        {
          "output_type": "stream",
          "text": [
            "TensorFlow 2.x selected.\n"
          ],
          "name": "stdout"
        }
      ]
    },
    {
      "cell_type": "code",
      "metadata": {
        "id": "P4DKWPFkne5A",
        "colab_type": "code",
        "outputId": "ff74d526-4488-4367-c25a-bb3615a33359",
        "colab": {
          "base_uri": "https://localhost:8080/",
          "height": 34
        }
      },
      "source": [
        "import numpy as np\n",
        "import tqdm\n",
        "from tensorflow import keras\n",
        "import matplotlib.pyplot as plt\n",
        "print(tf.__version__)"
      ],
      "execution_count": 2,
      "outputs": [
        {
          "output_type": "stream",
          "text": [
            "2.1.0\n"
          ],
          "name": "stdout"
        }
      ]
    },
    {
      "cell_type": "markdown",
      "metadata": {
        "id": "MA0YMtKDWbs8",
        "colab_type": "text"
      },
      "source": [
        "Generate real data and plot."
      ]
    },
    {
      "cell_type": "code",
      "metadata": {
        "id": "gsrh8PBJnv9P",
        "colab_type": "code",
        "colab": {}
      },
      "source": [
        "x = np.random.uniform(-1,1,10000)\n",
        "y = np.sin(4*x)\n",
        "data = np.stack((x,y), 1)"
      ],
      "execution_count": 0,
      "outputs": []
    },
    {
      "cell_type": "code",
      "metadata": {
        "id": "6hpcYoRKphZh",
        "colab_type": "code",
        "outputId": "1126d489-b2e3-41b0-e881-99c29729e853",
        "colab": {
          "base_uri": "https://localhost:8080/",
          "height": 265
        }
      },
      "source": [
        "plt.scatter(x,y)\n",
        "plt.show()"
      ],
      "execution_count": 31,
      "outputs": [
        {
          "output_type": "display_data",
          "data": {
            "image/png": "[encoded data removed]",
            "text/plain": [
              "<Figure size 432x288 with 1 Axes>"
            ]
          },
          "metadata": {
            "tags": []
          }
        }
      ]
    },
    {
      "cell_type": "code",
      "metadata": {
        "id": "I-cjQLdCqUGX",
        "colab_type": "code",
        "colab": {}
      },
      "source": [
        "def generate_discriminator(input_shape=2):\n",
        "'''\n",
        "Define and compile the discriminator network.\n",
        "the input is an x,y pair of the distribution to be learned\n",
        "'''\n",
        "  model = tf.keras.Sequential()\n",
        "  model.add(tf.keras.layers.Dense(16, activation='relu', \n",
        "                                 kernel_initializer='he_uniform', \n",
        "                                 input_dim=input_shape))\n",
        "  model.add(tf.keras.layers.Dense(16, activation='relu',\n",
        "                                  kernel_initializer='he_uniform'))\n",
        "  model.add(tf.keras.layers.Dense(1, activation='sigmoid'))\n",
        "\n",
        "  model.compile(loss='binary_crossentropy', optimizer='adam', metrics=['accuracy'])\n",
        "  return model\n",
        "\n",
        "def generate_generator(input_shape=3, output_shape=2):\n",
        "'''\n",
        "Define the genrator model. This model accepts a 1x3 vector\n",
        "of Gaussian noise and outputs x,y pairs.\n",
        "The model is not compiled as it is not trained directly.\n",
        "'''\n",
        "  model = tf.keras.Sequential()\n",
        "  model.add(tf.keras.layers.Dense(16, activation = 'relu',\n",
        "                                  kernel_initializer='he_uniform',\n",
        "                                  input_dim=input_shape))\n",
        "  model.add(tf.keras.layers.Dense(16, activation='relu',\n",
        "                                  kernel_initializer='he_uniform'))\n",
        "  model.add(tf.keras.layers.Dense(output_shape, activation='linear'))\n",
        "\n",
        "  return model\n",
        "\n",
        "def combined_gen_disc(gen, disc):\n",
        "\n",
        "  '''\n",
        "  Stack the generator and discriminator. This model is compiled\n",
        "  but the weights of the discriminator are not updated. The loss\n",
        "  of the stacked model is used to update the weights of the \n",
        "  generator.\n",
        "  '''\n",
        "  disc.trainable=False\n",
        "  model = tf.keras.Sequential()\n",
        "  model.add(gen)\n",
        "  model.add(disc)\n",
        "  model.compile(loss='binary_crossentropy', optimizer='adam')\n",
        "  return model"
      ],
      "execution_count": 0,
      "outputs": []
    },
    {
      "cell_type": "code",
      "metadata": {
        "id": "B9ruGtJEt0fn",
        "colab_type": "code",
        "colab": {}
      },
      "source": [
        "# Define the models\n",
        "discriminator = generate_discriminator()\n",
        "generator = generate_generator()\n",
        "stacked = combined_gen_disc(generator, discriminator)"
      ],
      "execution_count": 0,
      "outputs": []
    },
    {
      "cell_type": "code",
      "metadata": {
        "id": "4_YL6KeyNQ_C",
        "colab_type": "code",
        "outputId": "bed6b7d8-ed8f-405b-8c22-537a2ebfdffa",
        "colab": {
          "base_uri": "https://localhost:8080/",
          "height": 527
        }
      },
      "source": [
        "# Train the discriminator and stacked model.\n",
        "\n",
        "batch_size = 64\n",
        "epochs = 10000\n",
        "\n",
        "for i in range(epochs):\n",
        "  # Choose random batch of data of size half of the batch size and label\n",
        "  # as real.\n",
        "  half_batch_idx = np.random.randint(0,data.shape[0], batch_size)\n",
        "  half_real_data = data[half_batch_idx]\n",
        "  # label real data as ones, note the shape is n x 1. \n",
        "  # needed to add the column dimension.\n",
        "\n",
        "  real_labels = np.ones((half_real_data.shape[0],1))\n",
        "\n",
        "  # Generate random Gaussian noise and feed to generator network\n",
        "  # to generate a half batch of fake data. Create labels.\n",
        "  noise = np.random.randn(batch_size,3)\n",
        "  half_fake_data = generator(noise)\n",
        "  # again added the column dim.\n",
        "  fake_labels = np.zeros((half_fake_data.shape[0],1))\n",
        "\n",
        "  # Generate random Gaussian noise and feed to stacked network.\n",
        "  noise = np.random.randn(batch_size,3)\n",
        "  generated_data = generator(noise)\n",
        "  generated_labels = np.ones((noise.shape[0],1))\n",
        "\n",
        "  # Train discriminator on real and fake half batches\n",
        "  history_real = discriminator.fit(half_real_data, real_labels, verbose=0)\n",
        "  history_fake = discriminator.fit(half_fake_data, fake_labels, verbose =0)\n",
        "\n",
        "  history_stacked = stacked.fit(noise, generated_labels, verbose=0)\n",
        "\n",
        "  if i%1000 ==0:\n",
        "    print(i)\n",
        "    print('real', history_real.__dict__['history']['loss'])\n",
        "    print('fake', history_fake.__dict__['history']['loss'])\n",
        "    print('stacked', history_stacked.__dict__['history']['loss'])"
      ],
      "execution_count": 28,
      "outputs": [
        {
          "output_type": "stream",
          "text": [
            "0\n",
            "real [0.707372784614563]\n",
            "fake [0.660450667142868]\n",
            "1000\n",
            "real [0.6616074740886688]\n",
            "fake [0.6695310473442078]\n",
            "2000\n",
            "real [0.658218652009964]\n",
            "fake [0.6502715647220612]\n",
            "3000\n",
            "real [0.6535497307777405]\n",
            "fake [0.6459116339683533]\n",
            "4000\n",
            "real [0.6612668037414551]\n",
            "fake [0.6418148875236511]\n",
            "5000\n",
            "real [0.6674532294273376]\n",
            "fake [0.6805123090744019]\n",
            "6000\n",
            "real [0.6513858437538147]\n",
            "fake [0.6762011647224426]\n",
            "7000\n",
            "real [0.662776380777359]\n",
            "fake [0.6469886898994446]\n",
            "8000\n",
            "real [0.6542212069034576]\n",
            "fake [0.6997981667518616]\n",
            "9000\n",
            "real [0.6675196886062622]\n",
            "fake [0.6648907959461212]\n"
          ],
          "name": "stdout"
        }
      ]
    },
    {
      "cell_type": "code",
      "metadata": {
        "id": "yhg8YOlXRd6l",
        "colab_type": "code",
        "colab": {
          "base_uri": "https://localhost:8080/",
          "height": 265
        },
        "outputId": "dada2212-3f62-4f7e-81c5-59a6664e8a7d"
      },
      "source": [
        "outs = generator.predict(noise)\n",
        "plt.scatter(x,y)\n",
        "plt.scatter(outs[:,0], outs[:,1])\n",
        "plt.show()"
      ],
      "execution_count": 30,
      "outputs": [
        {
          "output_type": "display_data",
          "data": {
            "image/png": "[encoded data removed]",
            "text/plain": [
              "<Figure size 432x288 with 1 Axes>"
            ]
          },
          "metadata": {
            "tags": []
          }
        }
      ]
    }
  ]
}