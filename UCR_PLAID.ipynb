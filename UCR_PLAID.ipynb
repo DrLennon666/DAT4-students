{
  "nbformat": 4,
  "nbformat_minor": 0,
  "metadata": {
    "colab": {
      "name": "UCR_PLAID.ipynb",
      "provenance": [],
      "collapsed_sections": [],
      "authorship_tag": "ABX9TyM1lNjeoFJYpL+vF6Dz0pKN",
      "include_colab_link": true
    },
    "kernelspec": {
      "name": "python3",
      "display_name": "Python 3"
    }
  },
  "cells": [
    {
      "cell_type": "markdown",
      "metadata": {
        "id": "view-in-github",
        "colab_type": "text"
      },
      "source": [
        "<a href=\"https://colab.research.google.com/github/DrLennon666/DAT4-students/blob/master/UCR_PLAID.ipynb\" target=\"_parent\"><img src=\"https://colab.research.google.com/assets/colab-badge.svg\" alt=\"Open In Colab\"/></a>"
      ]
    },
    {
      "cell_type": "code",
      "metadata": {
        "id": "mN4Nx-xzFJgF",
        "colab": {
          "base_uri": "https://localhost:8080/",
          "height": 1000
        },
        "outputId": "54e0d073-ba27-49eb-c178-d7d638dc9383"
      },
      "source": [
        "!pip install gudhi\n",
        "!pip install pyts\n",
        "!pip install giotto-tda\n",
        "!pip install persim\n",
        "!pip install scikit-tda"
      ],
      "execution_count": null,
      "outputs": [
        {
          "output_type": "stream",
          "text": [
            "Collecting gudhi\n",
            "\u001b[?25l  Downloading https://files.pythonhosted.org/packages/fd/35/6900d78286f7707b7dbd21d01ad07eed09f4fe19551519a9b0e17eec7582/gudhi-3.3.0-cp36-cp36m-manylinux2014_x86_64.whl (25.2MB)\n",
            "\u001b[K     |████████████████████████████████| 25.2MB 176kB/s \n",
            "\u001b[?25hRequirement already satisfied: numpy>=1.9 in /usr/local/lib/python3.6/dist-packages (from gudhi) (1.18.5)\n",
            "Installing collected packages: gudhi\n",
            "Successfully installed gudhi-3.3.0\n",
            "Collecting pyts\n",
            "\u001b[?25l  Downloading https://files.pythonhosted.org/packages/b6/2b/1a62c0d32b40ee85daa8f6a6160828537b3d846c9fe93253b38846c6ec1f/pyts-0.11.0-py3-none-any.whl (2.5MB)\n",
            "\u001b[K     |████████████████████████████████| 2.5MB 3.3MB/s \n",
            "\u001b[?25hRequirement already satisfied: numpy>=1.17.5 in /usr/local/lib/python3.6/dist-packages (from pyts) (1.18.5)\n",
            "Requirement already satisfied: numba>=0.48.0 in /usr/local/lib/python3.6/dist-packages (from pyts) (0.48.0)\n",
            "Requirement already satisfied: scikit-learn>=0.22.1 in /usr/local/lib/python3.6/dist-packages (from pyts) (0.22.2.post1)\n",
            "Requirement already satisfied: scipy>=1.3.0 in /usr/local/lib/python3.6/dist-packages (from pyts) (1.4.1)\n",
            "Requirement already satisfied: joblib>=0.12 in /usr/local/lib/python3.6/dist-packages (from pyts) (0.17.0)\n",
            "Requirement already satisfied: setuptools in /usr/local/lib/python3.6/dist-packages (from numba>=0.48.0->pyts) (50.3.0)\n",
            "Requirement already satisfied: llvmlite<0.32.0,>=0.31.0dev0 in /usr/local/lib/python3.6/dist-packages (from numba>=0.48.0->pyts) (0.31.0)\n",
            "Installing collected packages: pyts\n",
            "Successfully installed pyts-0.11.0\n",
            "Collecting giotto-tda\n",
            "\u001b[?25l  Downloading https://files.pythonhosted.org/packages/d0/c8/6dac3bc9cc9e3b0b1e735670a614c93fad864ce317a454e38808cc51c993/giotto_tda-0.3.0-cp36-cp36m-manylinux2010_x86_64.whl (1.5MB)\n",
            "\u001b[K     |████████████████████████████████| 1.5MB 2.4MB/s \n",
            "\u001b[?25hCollecting scikit-learn>=0.23.1\n",
            "\u001b[?25l  Downloading https://files.pythonhosted.org/packages/5c/a1/273def87037a7fb010512bbc5901c31cfddfca8080bc63b42b26e3cc55b3/scikit_learn-0.23.2-cp36-cp36m-manylinux1_x86_64.whl (6.8MB)\n",
            "\u001b[K     |████████████████████████████████| 6.8MB 17.6MB/s \n",
            "\u001b[?25hCollecting numpy>=1.19.1\n",
            "\u001b[?25l  Downloading https://files.pythonhosted.org/packages/63/97/af8a92864a04bfa48f1b5c9b1f8bf2ccb2847f24530026f26dd223de4ca0/numpy-1.19.2-cp36-cp36m-manylinux2010_x86_64.whl (14.5MB)\n",
            "\u001b[K     |████████████████████████████████| 14.5MB 346kB/s \n",
            "\u001b[?25hCollecting plotly>=4.8.2\n",
            "\u001b[?25l  Downloading https://files.pythonhosted.org/packages/a6/66/af86e9d9bf1a3e4f2dabebeabd02a32e8ddf671a5d072b3af2b011efea99/plotly-4.12.0-py2.py3-none-any.whl (13.1MB)\n",
            "\u001b[K     |████████████████████████████████| 13.1MB 44.3MB/s \n",
            "\u001b[?25hRequirement already satisfied: ipywidgets>=7.5.1 in /usr/local/lib/python3.6/dist-packages (from giotto-tda) (7.5.1)\n",
            "Requirement already satisfied: joblib>=0.16.0 in /usr/local/lib/python3.6/dist-packages (from giotto-tda) (0.17.0)\n",
            "Collecting pyflagser>=0.4.1\n",
            "\u001b[?25l  Downloading https://files.pythonhosted.org/packages/67/c8/0d3e3713e763b29d45702326cc2a7c0432ce0162194fcf3da29bec82228f/pyflagser-0.4.1-cp36-cp36m-manylinux2010_x86_64.whl (389kB)\n",
            "\u001b[K     |████████████████████████████████| 399kB 40.4MB/s \n",
            "\u001b[?25hCollecting scipy>=1.5.0\n",
            "\u001b[?25l  Downloading https://files.pythonhosted.org/packages/8a/14/d0475ceeaa047f3eae2dc7597c3d40228e1d5beee42c1730f3c96ffb5526/scipy-1.5.3-cp36-cp36m-manylinux1_x86_64.whl (25.9MB)\n",
            "\u001b[K     |████████████████████████████████| 25.9MB 1.6MB/s \n",
            "\u001b[?25hCollecting python-igraph>=0.8.2\n",
            "\u001b[?25l  Downloading https://files.pythonhosted.org/packages/20/6e/3ac2fc339051f652d4a01570d133e4d15321aaec929ffb5f49a67852f8d9/python_igraph-0.8.3-cp36-cp36m-manylinux2010_x86_64.whl (3.2MB)\n",
            "\u001b[K     |████████████████████████████████| 3.2MB 37.5MB/s \n",
            "\u001b[?25hCollecting threadpoolctl>=2.0.0\n",
            "  Downloading https://files.pythonhosted.org/packages/f7/12/ec3f2e203afa394a149911729357aa48affc59c20e2c1c8297a60f33f133/threadpoolctl-2.1.0-py3-none-any.whl\n",
            "Requirement already satisfied: retrying>=1.3.3 in /usr/local/lib/python3.6/dist-packages (from plotly>=4.8.2->giotto-tda) (1.3.3)\n",
            "Requirement already satisfied: six in /usr/local/lib/python3.6/dist-packages (from plotly>=4.8.2->giotto-tda) (1.15.0)\n",
            "Requirement already satisfied: widgetsnbextension~=3.5.0 in /usr/local/lib/python3.6/dist-packages (from ipywidgets>=7.5.1->giotto-tda) (3.5.1)\n",
            "Requirement already satisfied: traitlets>=4.3.1 in /usr/local/lib/python3.6/dist-packages (from ipywidgets>=7.5.1->giotto-tda) (4.3.3)\n",
            "Requirement already satisfied: ipython>=4.0.0; python_version >= \"3.3\" in /usr/local/lib/python3.6/dist-packages (from ipywidgets>=7.5.1->giotto-tda) (5.5.0)\n",
            "Requirement already satisfied: ipykernel>=4.5.1 in /usr/local/lib/python3.6/dist-packages (from ipywidgets>=7.5.1->giotto-tda) (4.10.1)\n",
            "Requirement already satisfied: nbformat>=4.2.0 in /usr/local/lib/python3.6/dist-packages (from ipywidgets>=7.5.1->giotto-tda) (5.0.8)\n",
            "Collecting texttable>=1.6.2\n",
            "  Downloading https://files.pythonhosted.org/packages/06/f5/46201c428aebe0eecfa83df66bf3e6caa29659dbac5a56ddfd83cae0d4a4/texttable-1.6.3-py2.py3-none-any.whl\n",
            "Requirement already satisfied: notebook>=4.4.1 in /usr/local/lib/python3.6/dist-packages (from widgetsnbextension~=3.5.0->ipywidgets>=7.5.1->giotto-tda) (5.3.1)\n",
            "Requirement already satisfied: ipython-genutils in /usr/local/lib/python3.6/dist-packages (from traitlets>=4.3.1->ipywidgets>=7.5.1->giotto-tda) (0.2.0)\n",
            "Requirement already satisfied: decorator in /usr/local/lib/python3.6/dist-packages (from traitlets>=4.3.1->ipywidgets>=7.5.1->giotto-tda) (4.4.2)\n",
            "Requirement already satisfied: pickleshare in /usr/local/lib/python3.6/dist-packages (from ipython>=4.0.0; python_version >= \"3.3\"->ipywidgets>=7.5.1->giotto-tda) (0.7.5)\n",
            "Requirement already satisfied: pygments in /usr/local/lib/python3.6/dist-packages (from ipython>=4.0.0; python_version >= \"3.3\"->ipywidgets>=7.5.1->giotto-tda) (2.6.1)\n",
            "Requirement already satisfied: setuptools>=18.5 in /usr/local/lib/python3.6/dist-packages (from ipython>=4.0.0; python_version >= \"3.3\"->ipywidgets>=7.5.1->giotto-tda) (50.3.0)\n",
            "Requirement already satisfied: prompt-toolkit<2.0.0,>=1.0.4 in /usr/local/lib/python3.6/dist-packages (from ipython>=4.0.0; python_version >= \"3.3\"->ipywidgets>=7.5.1->giotto-tda) (1.0.18)\n",
            "Requirement already satisfied: pexpect; sys_platform != \"win32\" in /usr/local/lib/python3.6/dist-packages (from ipython>=4.0.0; python_version >= \"3.3\"->ipywidgets>=7.5.1->giotto-tda) (4.8.0)\n",
            "Requirement already satisfied: simplegeneric>0.8 in /usr/local/lib/python3.6/dist-packages (from ipython>=4.0.0; python_version >= \"3.3\"->ipywidgets>=7.5.1->giotto-tda) (0.8.1)\n",
            "Requirement already satisfied: tornado>=4.0 in /usr/local/lib/python3.6/dist-packages (from ipykernel>=4.5.1->ipywidgets>=7.5.1->giotto-tda) (5.1.1)\n",
            "Requirement already satisfied: jupyter-client in /usr/local/lib/python3.6/dist-packages (from ipykernel>=4.5.1->ipywidgets>=7.5.1->giotto-tda) (5.3.5)\n",
            "Requirement already satisfied: jsonschema!=2.5.0,>=2.4 in /usr/local/lib/python3.6/dist-packages (from nbformat>=4.2.0->ipywidgets>=7.5.1->giotto-tda) (2.6.0)\n",
            "Requirement already satisfied: jupyter-core in /usr/local/lib/python3.6/dist-packages (from nbformat>=4.2.0->ipywidgets>=7.5.1->giotto-tda) (4.6.3)\n",
            "Requirement already satisfied: terminado>=0.8.1 in /usr/local/lib/python3.6/dist-packages (from notebook>=4.4.1->widgetsnbextension~=3.5.0->ipywidgets>=7.5.1->giotto-tda) (0.9.1)\n",
            "Requirement already satisfied: Send2Trash in /usr/local/lib/python3.6/dist-packages (from notebook>=4.4.1->widgetsnbextension~=3.5.0->ipywidgets>=7.5.1->giotto-tda) (1.5.0)\n",
            "Requirement already satisfied: jinja2 in /usr/local/lib/python3.6/dist-packages (from notebook>=4.4.1->widgetsnbextension~=3.5.0->ipywidgets>=7.5.1->giotto-tda) (2.11.2)\n",
            "Requirement already satisfied: nbconvert in /usr/local/lib/python3.6/dist-packages (from notebook>=4.4.1->widgetsnbextension~=3.5.0->ipywidgets>=7.5.1->giotto-tda) (5.6.1)\n",
            "Requirement already satisfied: wcwidth in /usr/local/lib/python3.6/dist-packages (from prompt-toolkit<2.0.0,>=1.0.4->ipython>=4.0.0; python_version >= \"3.3\"->ipywidgets>=7.5.1->giotto-tda) (0.2.5)\n",
            "Requirement already satisfied: ptyprocess>=0.5 in /usr/local/lib/python3.6/dist-packages (from pexpect; sys_platform != \"win32\"->ipython>=4.0.0; python_version >= \"3.3\"->ipywidgets>=7.5.1->giotto-tda) (0.6.0)\n",
            "Requirement already satisfied: python-dateutil>=2.1 in /usr/local/lib/python3.6/dist-packages (from jupyter-client->ipykernel>=4.5.1->ipywidgets>=7.5.1->giotto-tda) (2.8.1)\n",
            "Requirement already satisfied: pyzmq>=13 in /usr/local/lib/python3.6/dist-packages (from jupyter-client->ipykernel>=4.5.1->ipywidgets>=7.5.1->giotto-tda) (19.0.2)\n",
            "Requirement already satisfied: MarkupSafe>=0.23 in /usr/local/lib/python3.6/dist-packages (from jinja2->notebook>=4.4.1->widgetsnbextension~=3.5.0->ipywidgets>=7.5.1->giotto-tda) (1.1.1)\n",
            "Requirement already satisfied: mistune<2,>=0.8.1 in /usr/local/lib/python3.6/dist-packages (from nbconvert->notebook>=4.4.1->widgetsnbextension~=3.5.0->ipywidgets>=7.5.1->giotto-tda) (0.8.4)\n",
            "Requirement already satisfied: pandocfilters>=1.4.1 in /usr/local/lib/python3.6/dist-packages (from nbconvert->notebook>=4.4.1->widgetsnbextension~=3.5.0->ipywidgets>=7.5.1->giotto-tda) (1.4.2)\n",
            "Requirement already satisfied: testpath in /usr/local/lib/python3.6/dist-packages (from nbconvert->notebook>=4.4.1->widgetsnbextension~=3.5.0->ipywidgets>=7.5.1->giotto-tda) (0.4.4)\n",
            "Requirement already satisfied: defusedxml in /usr/local/lib/python3.6/dist-packages (from nbconvert->notebook>=4.4.1->widgetsnbextension~=3.5.0->ipywidgets>=7.5.1->giotto-tda) (0.6.0)\n",
            "Requirement already satisfied: entrypoints>=0.2.2 in /usr/local/lib/python3.6/dist-packages (from nbconvert->notebook>=4.4.1->widgetsnbextension~=3.5.0->ipywidgets>=7.5.1->giotto-tda) (0.3)\n",
            "Requirement already satisfied: bleach in /usr/local/lib/python3.6/dist-packages (from nbconvert->notebook>=4.4.1->widgetsnbextension~=3.5.0->ipywidgets>=7.5.1->giotto-tda) (3.2.1)\n",
            "Requirement already satisfied: packaging in /usr/local/lib/python3.6/dist-packages (from bleach->nbconvert->notebook>=4.4.1->widgetsnbextension~=3.5.0->ipywidgets>=7.5.1->giotto-tda) (20.4)\n",
            "Requirement already satisfied: webencodings in /usr/local/lib/python3.6/dist-packages (from bleach->nbconvert->notebook>=4.4.1->widgetsnbextension~=3.5.0->ipywidgets>=7.5.1->giotto-tda) (0.5.1)\n",
            "Requirement already satisfied: pyparsing>=2.0.2 in /usr/local/lib/python3.6/dist-packages (from packaging->bleach->nbconvert->notebook>=4.4.1->widgetsnbextension~=3.5.0->ipywidgets>=7.5.1->giotto-tda) (2.4.7)\n",
            "\u001b[31mERROR: tensorflow 2.3.0 has requirement numpy<1.19.0,>=1.16.0, but you'll have numpy 1.19.2 which is incompatible.\u001b[0m\n",
            "\u001b[31mERROR: tensorflow 2.3.0 has requirement scipy==1.4.1, but you'll have scipy 1.5.3 which is incompatible.\u001b[0m\n",
            "\u001b[31mERROR: datascience 0.10.6 has requirement folium==0.2.1, but you'll have folium 0.8.3 which is incompatible.\u001b[0m\n",
            "\u001b[31mERROR: albumentations 0.1.12 has requirement imgaug<0.2.7,>=0.2.5, but you'll have imgaug 0.2.9 which is incompatible.\u001b[0m\n",
            "Installing collected packages: threadpoolctl, numpy, scipy, scikit-learn, plotly, pyflagser, texttable, python-igraph, giotto-tda\n",
            "  Found existing installation: numpy 1.18.5\n",
            "    Uninstalling numpy-1.18.5:\n",
            "      Successfully uninstalled numpy-1.18.5\n",
            "  Found existing installation: scipy 1.4.1\n",
            "    Uninstalling scipy-1.4.1:\n",
            "      Successfully uninstalled scipy-1.4.1\n",
            "  Found existing installation: scikit-learn 0.22.2.post1\n",
            "    Uninstalling scikit-learn-0.22.2.post1:\n",
            "      Successfully uninstalled scikit-learn-0.22.2.post1\n",
            "  Found existing installation: plotly 4.4.1\n",
            "    Uninstalling plotly-4.4.1:\n",
            "      Successfully uninstalled plotly-4.4.1\n",
            "Successfully installed giotto-tda-0.3.0 numpy-1.19.2 plotly-4.12.0 pyflagser-0.4.1 python-igraph-0.8.3 scikit-learn-0.23.2 scipy-1.5.3 texttable-1.6.3 threadpoolctl-2.1.0\n"
          ],
          "name": "stdout"
        },
        {
          "output_type": "display_data",
          "data": {
            "application/vnd.colab-display-data+json": {
              "pip_warning": {
                "packages": [
                  "numpy"
                ]
              }
            }
          },
          "metadata": {
            "tags": []
          }
        },
        {
          "output_type": "stream",
          "text": [
            "Collecting persim\n",
            "  Downloading https://files.pythonhosted.org/packages/a7/fe/94d90e44f1af92d098ddbcc331f50f62bf9348ef8b079f89b49f978f6018/persim-0.1.3-py3-none-any.whl\n",
            "Requirement already satisfied: scikit-learn in /usr/local/lib/python3.6/dist-packages (from persim) (0.23.2)\n",
            "Requirement already satisfied: matplotlib in /usr/local/lib/python3.6/dist-packages (from persim) (3.2.2)\n",
            "Collecting hopcroftkarp\n",
            "  Downloading https://files.pythonhosted.org/packages/6b/56/7b03eba3c43008c490c9d52e69ea5334b65955f66836eb4f1962f3b0d421/hopcroftkarp-1.2.5.tar.gz\n",
            "Requirement already satisfied: scipy in /usr/local/lib/python3.6/dist-packages (from persim) (1.5.3)\n",
            "Requirement already satisfied: numpy in /usr/local/lib/python3.6/dist-packages (from persim) (1.19.2)\n",
            "Requirement already satisfied: joblib>=0.11 in /usr/local/lib/python3.6/dist-packages (from scikit-learn->persim) (0.17.0)\n",
            "Requirement already satisfied: threadpoolctl>=2.0.0 in /usr/local/lib/python3.6/dist-packages (from scikit-learn->persim) (2.1.0)\n",
            "Requirement already satisfied: kiwisolver>=1.0.1 in /usr/local/lib/python3.6/dist-packages (from matplotlib->persim) (1.2.0)\n",
            "Requirement already satisfied: pyparsing!=2.0.4,!=2.1.2,!=2.1.6,>=2.0.1 in /usr/local/lib/python3.6/dist-packages (from matplotlib->persim) (2.4.7)\n",
            "Requirement already satisfied: python-dateutil>=2.1 in /usr/local/lib/python3.6/dist-packages (from matplotlib->persim) (2.8.1)\n",
            "Requirement already satisfied: cycler>=0.10 in /usr/local/lib/python3.6/dist-packages (from matplotlib->persim) (0.10.0)\n",
            "Requirement already satisfied: six>=1.5 in /usr/local/lib/python3.6/dist-packages (from python-dateutil>=2.1->matplotlib->persim) (1.15.0)\n",
            "Building wheels for collected packages: hopcroftkarp\n",
            "  Building wheel for hopcroftkarp (setup.py) ... \u001b[?25l\u001b[?25hdone\n",
            "  Created wheel for hopcroftkarp: filename=hopcroftkarp-1.2.5-py2.py3-none-any.whl size=18091 sha256=16a1ecc6e820fca1554477b8850e5905c3a9d8694bcf1911966f0a2e2f6c3541\n",
            "  Stored in directory: /root/.cache/pip/wheels/2b/e1/c9/1993c7f7f114b7d3fb2d3e895e02157a7ebf554861e9e54e01\n",
            "Successfully built hopcroftkarp\n",
            "Installing collected packages: hopcroftkarp, persim\n",
            "Successfully installed hopcroftkarp-1.2.5 persim-0.1.3\n",
            "Collecting scikit-tda\n",
            "  Downloading https://files.pythonhosted.org/packages/e2/67/14676df9d3c8fae3324f6a73e60e9b705c1dfea8131e275a313ab90bd09d/scikit_tda-0.0.3-py3-none-any.whl\n",
            "Requirement already satisfied: pillow in /usr/local/lib/python3.6/dist-packages (from scikit-tda) (7.0.0)\n",
            "Collecting ripser\n",
            "\u001b[?25l  Downloading https://files.pythonhosted.org/packages/57/a2/1f0e86b309054bbd264f6fca8f575aa682b4bdd102a73d86828f701992d3/ripser-0.5.4.tar.gz (81kB)\n",
            "\u001b[K     |████████████████████████████████| 81kB 2.4MB/s \n",
            "\u001b[?25hRequirement already satisfied: matplotlib in /usr/local/lib/python3.6/dist-packages (from scikit-tda) (3.2.2)\n",
            "Requirement already satisfied: umap-learn in /usr/local/lib/python3.6/dist-packages (from scikit-tda) (0.4.6)\n",
            "Requirement already satisfied: Cython in /usr/local/lib/python3.6/dist-packages (from scikit-tda) (0.29.21)\n",
            "Requirement already satisfied: numpy in /usr/local/lib/python3.6/dist-packages (from scikit-tda) (1.19.2)\n",
            "Requirement already satisfied: scipy in /usr/local/lib/python3.6/dist-packages (from scikit-tda) (1.5.3)\n",
            "Requirement already satisfied: scikit-learn in /usr/local/lib/python3.6/dist-packages (from scikit-tda) (0.23.2)\n",
            "Requirement already satisfied: persim in /usr/local/lib/python3.6/dist-packages (from scikit-tda) (0.1.3)\n",
            "Collecting kmapper\n",
            "\u001b[?25l  Downloading https://files.pythonhosted.org/packages/04/85/1d4489ee98d58417b5b01dd405bc078784cacb48c8068cd732b967b90f5c/kmapper-1.4.1-py3-none-any.whl (95kB)\n",
            "\u001b[K     |████████████████████████████████| 102kB 5.1MB/s \n",
            "\u001b[?25hRequirement already satisfied: numba in /usr/local/lib/python3.6/dist-packages (from scikit-tda) (0.48.0)\n",
            "Collecting tadasets\n",
            "  Downloading https://files.pythonhosted.org/packages/5b/06/d1b9edccfcd071b245b0d1ab4b22eb2ff7aaeaa6d015db58d701d9782122/tadasets-0.0.4-py3-none-any.whl\n",
            "Requirement already satisfied: kiwisolver>=1.0.1 in /usr/local/lib/python3.6/dist-packages (from matplotlib->scikit-tda) (1.2.0)\n",
            "Requirement already satisfied: python-dateutil>=2.1 in /usr/local/lib/python3.6/dist-packages (from matplotlib->scikit-tda) (2.8.1)\n",
            "Requirement already satisfied: cycler>=0.10 in /usr/local/lib/python3.6/dist-packages (from matplotlib->scikit-tda) (0.10.0)\n",
            "Requirement already satisfied: pyparsing!=2.0.4,!=2.1.2,!=2.1.6,>=2.0.1 in /usr/local/lib/python3.6/dist-packages (from matplotlib->scikit-tda) (2.4.7)\n",
            "Requirement already satisfied: joblib>=0.11 in /usr/local/lib/python3.6/dist-packages (from scikit-learn->scikit-tda) (0.17.0)\n",
            "Requirement already satisfied: threadpoolctl>=2.0.0 in /usr/local/lib/python3.6/dist-packages (from scikit-learn->scikit-tda) (2.1.0)\n",
            "Requirement already satisfied: hopcroftkarp in /usr/local/lib/python3.6/dist-packages (from persim->scikit-tda) (1.2.5)\n",
            "Requirement already satisfied: Jinja2 in /usr/local/lib/python3.6/dist-packages (from kmapper->scikit-tda) (2.11.2)\n",
            "Requirement already satisfied: setuptools in /usr/local/lib/python3.6/dist-packages (from numba->scikit-tda) (50.3.0)\n",
            "Requirement already satisfied: llvmlite<0.32.0,>=0.31.0dev0 in /usr/local/lib/python3.6/dist-packages (from numba->scikit-tda) (0.31.0)\n",
            "Requirement already satisfied: six>=1.5 in /usr/local/lib/python3.6/dist-packages (from python-dateutil>=2.1->matplotlib->scikit-tda) (1.15.0)\n",
            "Requirement already satisfied: MarkupSafe>=0.23 in /usr/local/lib/python3.6/dist-packages (from Jinja2->kmapper->scikit-tda) (1.1.1)\n",
            "Building wheels for collected packages: ripser\n",
            "  Building wheel for ripser (setup.py) ... \u001b[?25l\u001b[?25hdone\n",
            "  Created wheel for ripser: filename=ripser-0.5.4-cp36-cp36m-linux_x86_64.whl size=422134 sha256=14d7fd9694e145b8d825c3f43e6bdae1194556ee3e3c395eb0c6af385e487a3f\n",
            "  Stored in directory: /root/.cache/pip/wheels/b9/a1/06/bcb868233d3a612379e5d1eca67fa5e21a3c1bfc4501a921e9\n",
            "Successfully built ripser\n",
            "Installing collected packages: ripser, kmapper, tadasets, scikit-tda\n",
            "Successfully installed kmapper-1.4.1 ripser-0.5.4 scikit-tda-0.0.3 tadasets-0.0.4\n"
          ],
          "name": "stdout"
        }
      ]
    },
    {
      "cell_type": "code",
      "metadata": {
        "id": "40FivOK1E9S5"
      },
      "source": [
        "import pandas as pd\n",
        "import numpy as np\n",
        "import gudhi\n",
        "from gudhi.point_cloud.timedelay import TimeDelayEmbedding\n",
        "import pyts\n",
        "import sklearn\n",
        "from sklearn.model_selection import train_test_split\n",
        "import scipy\n",
        "import matplotlib.pyplot as plt\n",
        "# Giotto\n",
        "import gtda as gt\n",
        "import gtda.diagrams as diag\n",
        "import gtda.homology as hl\n",
        "from gtda.time_series import SlidingWindow\n",
        "from gtda.time_series import TakensEmbedding\n",
        "\n",
        "#sci-kit TDA\n",
        "from ripser import Rips\n",
        "from persim import PersImage"
      ],
      "execution_count": null,
      "outputs": []
    },
    {
      "cell_type": "code",
      "metadata": {
        "id": "EDxhQ7TEFQNu"
      },
      "source": [
        "# The password is the missing words from this sentence “Why would *******\n",
        "# use the archive and not acknowledge it?\n",
        "\n",
        "# Why would someone use the archive and not acknowledge it?\n",
        "\n"
      ],
      "execution_count": null,
      "outputs": []
    },
    {
      "cell_type": "code",
      "metadata": {
        "id": "5Qx2ipU2Gu5w",
        "colab": {
          "base_uri": "https://localhost:8080/",
          "height": 204
        },
        "outputId": "f45dd648-1527-4407-b36f-cab8ac1e2fab"
      },
      "source": [
        "!wget https://www.cs.ucr.edu/~eamonn/time_series_data_2018/UCRArchive_2018.zip"
      ],
      "execution_count": null,
      "outputs": [
        {
          "output_type": "stream",
          "text": [
            "--2020-10-27 00:24:00--  https://www.cs.ucr.edu/~eamonn/time_series_data_2018/UCRArchive_2018.zip\n",
            "Resolving www.cs.ucr.edu (www.cs.ucr.edu)... 169.235.30.15\n",
            "Connecting to www.cs.ucr.edu (www.cs.ucr.edu)|169.235.30.15|:443... connected.\n",
            "HTTP request sent, awaiting response... 200 OK\n",
            "Length: 316175400 (302M) [application/zip]\n",
            "Saving to: ‘UCRArchive_2018.zip’\n",
            "\n",
            "UCRArchive_2018.zip 100%[===================>] 301.53M  52.6MB/s    in 6.1s    \n",
            "\n",
            "2020-10-27 00:24:06 (49.1 MB/s) - ‘UCRArchive_2018.zip’ saved [316175400/316175400]\n",
            "\n"
          ],
          "name": "stdout"
        }
      ]
    },
    {
      "cell_type": "code",
      "metadata": {
        "id": "j91VqH-NG4EG",
        "colab": {
          "base_uri": "https://localhost:8080/",
          "height": 1000
        },
        "outputId": "33ae22a7-6424-400e-f507-e6beb4fb8b9f"
      },
      "source": [
        "# The password is the missing words from this sentence “Why would *******\n",
        "# use the archive and not acknowledge it?\n",
        "\n",
        "# Why would someone use the archive and not acknowledge it?\n",
        "\n",
        "!unzip -P someone UCRArchive_2018.zip "
      ],
      "execution_count": null,
      "outputs": [
        {
          "output_type": "stream",
          "text": [
            "Archive:  UCRArchive_2018.zip\n",
            "   creating: UCRArchive_2018/\n",
            "   creating: UCRArchive_2018/MixedShapesSmallTrain/\n",
            "  inflating: UCRArchive_2018/MixedShapesSmallTrain/README.md  \n",
            "  inflating: UCRArchive_2018/MixedShapesSmallTrain/MixedShapesSmallTrain_TEST.tsv  \n",
            "  inflating: UCRArchive_2018/MixedShapesSmallTrain/MixedShapesSmallTrain_TRAIN.tsv  \n",
            "   creating: UCRArchive_2018/Beef/\n",
            "  inflating: UCRArchive_2018/Beef/README.md  \n",
            "  inflating: UCRArchive_2018/Beef/Beef_TRAIN.tsv  \n",
            "  inflating: UCRArchive_2018/Beef/Beef_TEST.tsv  \n",
            "   creating: UCRArchive_2018/ShapesAll/\n",
            "  inflating: UCRArchive_2018/ShapesAll/README.md  \n",
            "  inflating: UCRArchive_2018/ShapesAll/ShapesAll_TEST.tsv  \n",
            "  inflating: UCRArchive_2018/ShapesAll/ShapesAll_TRAIN.tsv  \n",
            "   creating: UCRArchive_2018/RefrigerationDevices/\n",
            "  inflating: UCRArchive_2018/RefrigerationDevices/RefrigerationDevices_TEST.tsv  \n",
            "  inflating: UCRArchive_2018/RefrigerationDevices/README.md  \n",
            "  inflating: UCRArchive_2018/RefrigerationDevices/RefrigerationDevices_TRAIN.tsv  \n",
            "   creating: UCRArchive_2018/BeetleFly/\n",
            "  inflating: UCRArchive_2018/BeetleFly/BeetleFly_TEST.tsv  \n",
            "  inflating: UCRArchive_2018/BeetleFly/README.md  \n",
            "  inflating: UCRArchive_2018/BeetleFly/BeetleFly_TRAIN.tsv  \n",
            "   creating: UCRArchive_2018/Ham/\n",
            "  inflating: UCRArchive_2018/Ham/Ham_TEST.tsv  \n",
            "  inflating: UCRArchive_2018/Ham/README.md  \n",
            "  inflating: UCRArchive_2018/Ham/Ham_TRAIN.tsv  \n",
            "   creating: UCRArchive_2018/ShakeGestureWiimoteZ/\n",
            "  inflating: UCRArchive_2018/ShakeGestureWiimoteZ/ShakeGestureWiimoteZ_TRAIN.tsv  \n",
            "  inflating: UCRArchive_2018/ShakeGestureWiimoteZ/README.md  \n",
            "  inflating: UCRArchive_2018/ShakeGestureWiimoteZ/ShakeGestureWiimoteZ_TEST.tsv  \n",
            "   creating: UCRArchive_2018/UMD/\n",
            "  inflating: UCRArchive_2018/UMD/README.md  \n",
            "  inflating: UCRArchive_2018/UMD/UMD_TEST.tsv  \n",
            "  inflating: UCRArchive_2018/UMD/UMD_TRAIN.tsv  \n",
            "   creating: UCRArchive_2018/WordSynonyms/\n",
            "  inflating: UCRArchive_2018/WordSynonyms/WordSynonyms_TRAIN.tsv  \n",
            "  inflating: UCRArchive_2018/WordSynonyms/README.md  \n",
            "  inflating: UCRArchive_2018/WordSynonyms/WordSynonyms_TEST.tsv  \n",
            "   creating: UCRArchive_2018/AllGestureWiimoteZ/\n",
            "  inflating: UCRArchive_2018/AllGestureWiimoteZ/README.md  \n",
            "  inflating: UCRArchive_2018/AllGestureWiimoteZ/AllGestureWiimoteZ_TEST.tsv  \n",
            "  inflating: UCRArchive_2018/AllGestureWiimoteZ/AllGestureWiimoteZ_TRAIN.tsv  \n",
            "   creating: UCRArchive_2018/SemgHandGenderCh2/\n",
            "  inflating: UCRArchive_2018/SemgHandGenderCh2/SemgHandGenderCh2_TEST.tsv  \n",
            "  inflating: UCRArchive_2018/SemgHandGenderCh2/README.md  \n",
            "  inflating: UCRArchive_2018/SemgHandGenderCh2/SemgHandGenderCh2_TRAIN.tsv  \n",
            "   creating: UCRArchive_2018/SmoothSubspace/\n",
            "  inflating: UCRArchive_2018/SmoothSubspace/SmoothSubspace_TEST.tsv  \n",
            "  inflating: UCRArchive_2018/SmoothSubspace/README.md  \n",
            "  inflating: UCRArchive_2018/SmoothSubspace/SmoothSubspace_TRAIN.tsv  \n",
            "   creating: UCRArchive_2018/HouseTwenty/\n",
            "  inflating: UCRArchive_2018/HouseTwenty/README.md  \n",
            "  inflating: UCRArchive_2018/HouseTwenty/HouseTwenty_TRAIN.tsv  \n",
            "  inflating: UCRArchive_2018/HouseTwenty/HouseTwenty_TEST.tsv  \n",
            "   creating: UCRArchive_2018/SwedishLeaf/\n",
            "  inflating: UCRArchive_2018/SwedishLeaf/README.md  \n",
            "  inflating: UCRArchive_2018/SwedishLeaf/SwedishLeaf_TEST.tsv  \n",
            "  inflating: UCRArchive_2018/SwedishLeaf/SwedishLeaf_TRAIN.tsv  \n",
            "   creating: UCRArchive_2018/ElectricDevices/\n",
            "  inflating: UCRArchive_2018/ElectricDevices/README.md  \n",
            "  inflating: UCRArchive_2018/ElectricDevices/ElectricDevices_TEST.tsv  \n",
            "  inflating: UCRArchive_2018/ElectricDevices/ElectricDevices_TRAIN.tsv  \n",
            "   creating: UCRArchive_2018/FordA/\n",
            "  inflating: UCRArchive_2018/FordA/FordA_TEST.tsv  \n",
            "  inflating: UCRArchive_2018/FordA/README.md  \n",
            "  inflating: UCRArchive_2018/FordA/FordA_TRAIN.tsv  \n",
            "   creating: UCRArchive_2018/EOGVerticalSignal/\n",
            "  inflating: UCRArchive_2018/EOGVerticalSignal/README.md  \n",
            "  inflating: UCRArchive_2018/EOGVerticalSignal/EOGVerticalSignal_TRAIN.tsv  \n",
            "  inflating: UCRArchive_2018/EOGVerticalSignal/EOGVerticalSignal_TEST.tsv  \n",
            "   creating: UCRArchive_2018/SemgHandMovementCh2/\n",
            "  inflating: UCRArchive_2018/SemgHandMovementCh2/README.md  \n",
            "  inflating: UCRArchive_2018/SemgHandMovementCh2/SemgHandMovementCh2_TRAIN.tsv  \n",
            "  inflating: UCRArchive_2018/SemgHandMovementCh2/SemgHandMovementCh2_TEST.tsv  \n",
            "   creating: UCRArchive_2018/FordB/\n",
            "  inflating: UCRArchive_2018/FordB/README.md  \n",
            "  inflating: UCRArchive_2018/FordB/FordB_TRAIN.tsv  \n",
            "  inflating: UCRArchive_2018/FordB/FordB_TEST.tsv  \n",
            "   creating: UCRArchive_2018/Haptics/\n",
            "  inflating: UCRArchive_2018/Haptics/README.md  \n",
            "  inflating: UCRArchive_2018/Haptics/Haptics_TEST.tsv  \n",
            "  inflating: UCRArchive_2018/Haptics/Haptics_TRAIN.tsv  \n",
            "   creating: UCRArchive_2018/PowerCons/\n",
            "  inflating: UCRArchive_2018/PowerCons/PowerCons_TRAIN.tsv  \n",
            "  inflating: UCRArchive_2018/PowerCons/README.md  \n",
            "  inflating: UCRArchive_2018/PowerCons/PowerCons_TEST.tsv  \n",
            "   creating: UCRArchive_2018/GunPointMaleVersusFemale/\n",
            "  inflating: UCRArchive_2018/GunPointMaleVersusFemale/GunPointMaleVersusFemale_TRAIN.tsv  \n",
            "  inflating: UCRArchive_2018/GunPointMaleVersusFemale/README.md  \n",
            "  inflating: UCRArchive_2018/GunPointMaleVersusFemale/GunPointMaleVersusFemale_TEST.tsv  \n",
            "   creating: UCRArchive_2018/Chinatown/\n",
            "  inflating: UCRArchive_2018/Chinatown/README.md  \n",
            "  inflating: UCRArchive_2018/Chinatown/Chinatown_TRAIN.tsv  \n",
            "  inflating: UCRArchive_2018/Chinatown/Chinatown_TEST.tsv  \n",
            "   creating: UCRArchive_2018/Symbols/\n",
            "  inflating: UCRArchive_2018/Symbols/Symbols_TEST.tsv  \n",
            "  inflating: UCRArchive_2018/Symbols/Symbols_TRAIN.tsv  \n",
            "  inflating: UCRArchive_2018/Symbols/README.md  \n",
            "   creating: UCRArchive_2018/ItalyPowerDemand/\n",
            "  inflating: UCRArchive_2018/ItalyPowerDemand/README.md  \n",
            "  inflating: UCRArchive_2018/ItalyPowerDemand/ItalyPowerDemand_TEST.tsv  \n",
            "  inflating: UCRArchive_2018/ItalyPowerDemand/ItalyPowerDemand_TRAIN.tsv  \n",
            "   creating: UCRArchive_2018/ECG200/\n",
            "  inflating: UCRArchive_2018/ECG200/README.md  \n",
            "  inflating: UCRArchive_2018/ECG200/ECG200_TEST.tsv  \n",
            "  inflating: UCRArchive_2018/ECG200/ECG200_TRAIN.tsv  \n",
            "   creating: UCRArchive_2018/WormsTwoClass/\n",
            "  inflating: UCRArchive_2018/WormsTwoClass/README.md  \n",
            "  inflating: UCRArchive_2018/WormsTwoClass/WormsTwoClass_TEST.tsv  \n",
            "  inflating: UCRArchive_2018/WormsTwoClass/WormsTwoClass_TRAIN.tsv  \n",
            "   creating: UCRArchive_2018/Yoga/\n",
            "  inflating: UCRArchive_2018/Yoga/README.md  \n",
            "  inflating: UCRArchive_2018/Yoga/Yoga_TRAIN.tsv  \n",
            "  inflating: UCRArchive_2018/Yoga/Yoga_TEST.tsv  \n",
            "   creating: UCRArchive_2018/MixedShapesRegularTrain/\n",
            "  inflating: UCRArchive_2018/MixedShapesRegularTrain/README.md  \n",
            "  inflating: UCRArchive_2018/MixedShapesRegularTrain/MixedShapesRegularTrain_TRAIN.tsv  \n",
            "  inflating: UCRArchive_2018/MixedShapesRegularTrain/MixedShapesRegularTrain_TEST.tsv  \n",
            "   creating: UCRArchive_2018/MiddlePhalanxOutlineCorrect/\n",
            "  inflating: UCRArchive_2018/MiddlePhalanxOutlineCorrect/MiddlePhalanxOutlineCorrect_TRAIN.tsv  \n",
            "  inflating: UCRArchive_2018/MiddlePhalanxOutlineCorrect/README.md  \n",
            "  inflating: UCRArchive_2018/MiddlePhalanxOutlineCorrect/MiddlePhalanxOutlineCorrect_TEST.tsv  \n",
            "   creating: UCRArchive_2018/MedicalImages/\n",
            "  inflating: UCRArchive_2018/MedicalImages/MedicalImages_TRAIN.tsv  \n",
            "  inflating: UCRArchive_2018/MedicalImages/README.md  \n",
            "  inflating: UCRArchive_2018/MedicalImages/MedicalImages_TEST.tsv  \n",
            "   creating: UCRArchive_2018/InsectEPGSmallTrain/\n",
            "  inflating: UCRArchive_2018/InsectEPGSmallTrain/README.md  \n",
            "  inflating: UCRArchive_2018/InsectEPGSmallTrain/InsectEPGSmallTrain_TEST.tsv  \n",
            "  inflating: UCRArchive_2018/InsectEPGSmallTrain/InsectEPGSmallTrain_TRAIN.tsv  \n",
            "   creating: UCRArchive_2018/InsectEPGRegularTrain/\n",
            "  inflating: UCRArchive_2018/InsectEPGRegularTrain/README.md  \n",
            "  inflating: UCRArchive_2018/InsectEPGRegularTrain/InsectEPGRegularTrain_TEST.tsv  \n",
            "  inflating: UCRArchive_2018/InsectEPGRegularTrain/InsectEPGRegularTrain_TRAIN.tsv  \n",
            "   creating: UCRArchive_2018/GunPoint/\n",
            "  inflating: UCRArchive_2018/GunPoint/README.md  \n",
            "  inflating: UCRArchive_2018/GunPoint/GunPoint_TRAIN.tsv  \n",
            "  inflating: UCRArchive_2018/GunPoint/GunPoint_TEST.tsv  \n",
            "   creating: UCRArchive_2018/ToeSegmentation2/\n",
            "  inflating: UCRArchive_2018/ToeSegmentation2/ToeSegmentation2_TRAIN.tsv  \n",
            "  inflating: UCRArchive_2018/ToeSegmentation2/ToeSegmentation2_TEST.tsv  \n",
            "  inflating: UCRArchive_2018/ToeSegmentation2/README.md  \n",
            "   creating: UCRArchive_2018/NonInvasiveFetalECGThorax1/\n",
            "  inflating: UCRArchive_2018/NonInvasiveFetalECGThorax1/README.md  \n",
            "  inflating: UCRArchive_2018/NonInvasiveFetalECGThorax1/NonInvasiveFetalECGThorax1_TEST.tsv  \n",
            "  inflating: UCRArchive_2018/NonInvasiveFetalECGThorax1/NonInvasiveFetalECGThorax1_TRAIN.tsv  \n",
            "   creating: UCRArchive_2018/OliveOil/\n",
            "  inflating: UCRArchive_2018/OliveOil/OliveOil_TEST.tsv  \n",
            "  inflating: UCRArchive_2018/OliveOil/README.md  \n",
            "  inflating: UCRArchive_2018/OliveOil/OliveOil_TRAIN.tsv  \n",
            "   creating: UCRArchive_2018/ECGFiveDays/\n",
            "  inflating: UCRArchive_2018/ECGFiveDays/README.md  \n",
            "  inflating: UCRArchive_2018/ECGFiveDays/ECGFiveDays_TRAIN.tsv  \n",
            "  inflating: UCRArchive_2018/ECGFiveDays/ECGFiveDays_TEST.tsv  \n",
            "   creating: UCRArchive_2018/HandOutlines/\n",
            "  inflating: UCRArchive_2018/HandOutlines/HandOutlines_TEST.tsv  \n",
            "  inflating: UCRArchive_2018/HandOutlines/README.md  \n",
            "  inflating: UCRArchive_2018/HandOutlines/HandOutlines_TRAIN.tsv  \n",
            "   creating: UCRArchive_2018/TwoLeadECG/\n",
            "  inflating: UCRArchive_2018/TwoLeadECG/TwoLeadECG_TRAIN.tsv  \n",
            "  inflating: UCRArchive_2018/TwoLeadECG/README.md  \n",
            "  inflating: UCRArchive_2018/TwoLeadECG/TwoLeadECG_TEST.tsv  \n",
            "   creating: UCRArchive_2018/DistalPhalanxTW/\n",
            "  inflating: UCRArchive_2018/DistalPhalanxTW/README.md  \n",
            "  inflating: UCRArchive_2018/DistalPhalanxTW/DistalPhalanxTW_TRAIN.tsv  \n",
            "  inflating: UCRArchive_2018/DistalPhalanxTW/DistalPhalanxTW_TEST.tsv  \n",
            "   creating: UCRArchive_2018/Adiac/\n",
            "  inflating: UCRArchive_2018/Adiac/Adiac_TEST.tsv  \n",
            "  inflating: UCRArchive_2018/Adiac/README.md  \n",
            "  inflating: UCRArchive_2018/Adiac/Adiac_TRAIN.tsv  \n",
            "   creating: UCRArchive_2018/DistalPhalanxOutlineCorrect/\n",
            "  inflating: UCRArchive_2018/DistalPhalanxOutlineCorrect/README.md  \n",
            "  inflating: UCRArchive_2018/DistalPhalanxOutlineCorrect/DistalPhalanxOutlineCorrect_TRAIN.tsv  \n",
            "  inflating: UCRArchive_2018/DistalPhalanxOutlineCorrect/DistalPhalanxOutlineCorrect_TEST.tsv  \n",
            "   creating: UCRArchive_2018/UWaveGestureLibraryX/\n",
            "  inflating: UCRArchive_2018/UWaveGestureLibraryX/UWaveGestureLibraryX_TRAIN.tsv  \n",
            "  inflating: UCRArchive_2018/UWaveGestureLibraryX/UWaveGestureLibraryX_TEST.tsv  \n",
            "  inflating: UCRArchive_2018/UWaveGestureLibraryX/README.md  \n",
            "   creating: UCRArchive_2018/GunPointAgeSpan/\n",
            "  inflating: UCRArchive_2018/GunPointAgeSpan/README.md  \n",
            "  inflating: UCRArchive_2018/GunPointAgeSpan/GunPointAgeSpan_TRAIN.tsv  \n",
            "  inflating: UCRArchive_2018/GunPointAgeSpan/GunPointAgeSpan_TEST.tsv  \n",
            "   creating: UCRArchive_2018/CinCECGTorso/\n",
            "  inflating: UCRArchive_2018/CinCECGTorso/CinCECGTorso_TEST.tsv  \n",
            "  inflating: UCRArchive_2018/CinCECGTorso/README.md  \n",
            "  inflating: UCRArchive_2018/CinCECGTorso/CinCECGTorso_TRAIN.tsv  \n",
            "   creating: UCRArchive_2018/Fish/\n",
            "  inflating: UCRArchive_2018/Fish/Fish_TEST.tsv  \n",
            "  inflating: UCRArchive_2018/Fish/README.md  \n",
            "  inflating: UCRArchive_2018/Fish/Fish_TRAIN.tsv  \n",
            "   creating: UCRArchive_2018/PhalangesOutlinesCorrect/\n",
            "  inflating: UCRArchive_2018/PhalangesOutlinesCorrect/PhalangesOutlinesCorrect_TRAIN.tsv  \n",
            "  inflating: UCRArchive_2018/PhalangesOutlinesCorrect/README.md  \n",
            "  inflating: UCRArchive_2018/PhalangesOutlinesCorrect/PhalangesOutlinesCorrect_TEST.tsv  \n",
            "   creating: UCRArchive_2018/Phoneme/\n",
            "  inflating: UCRArchive_2018/Phoneme/README.md  \n",
            "  inflating: UCRArchive_2018/Phoneme/Phoneme_TEST.tsv  \n",
            "  inflating: UCRArchive_2018/Phoneme/Phoneme_TRAIN.tsv  \n",
            "   creating: UCRArchive_2018/Missing_value_and_variable_length_datasets_adjusted/\n",
            "   creating: UCRArchive_2018/Missing_value_and_variable_length_datasets_adjusted/ShakeGestureWiimoteZ/\n",
            "  inflating: UCRArchive_2018/Missing_value_and_variable_length_datasets_adjusted/ShakeGestureWiimoteZ/ShakeGestureWiimoteZ_TRAIN.tsv  \n",
            "  inflating: UCRArchive_2018/Missing_value_and_variable_length_datasets_adjusted/ShakeGestureWiimoteZ/ShakeGestureWiimoteZ_TEST.tsv  \n",
            "   creating: UCRArchive_2018/Missing_value_and_variable_length_datasets_adjusted/AllGestureWiimoteZ/\n",
            "  inflating: UCRArchive_2018/Missing_value_and_variable_length_datasets_adjusted/AllGestureWiimoteZ/AllGestureWiimoteZ_TEST.tsv  \n",
            "  inflating: UCRArchive_2018/Missing_value_and_variable_length_datasets_adjusted/AllGestureWiimoteZ/AllGestureWiimoteZ_TRAIN.tsv  \n",
            "  inflating: UCRArchive_2018/Missing_value_and_variable_length_datasets_adjusted/REAME.md  \n",
            "   creating: UCRArchive_2018/Missing_value_and_variable_length_datasets_adjusted/PLAID/\n",
            "  inflating: UCRArchive_2018/Missing_value_and_variable_length_datasets_adjusted/PLAID/PLAID_TEST.tsv  \n",
            "  inflating: UCRArchive_2018/Missing_value_and_variable_length_datasets_adjusted/PLAID/PLAID_TRAIN.tsv  \n",
            "   creating: UCRArchive_2018/Missing_value_and_variable_length_datasets_adjusted/PickupGestureWiimoteZ/\n",
            "  inflating: UCRArchive_2018/Missing_value_and_variable_length_datasets_adjusted/PickupGestureWiimoteZ/PickupGestureWiimoteZ_TRAIN.tsv  \n",
            "  inflating: UCRArchive_2018/Missing_value_and_variable_length_datasets_adjusted/PickupGestureWiimoteZ/PickupGestureWiimoteZ_TEST.tsv  \n",
            "   creating: UCRArchive_2018/Missing_value_and_variable_length_datasets_adjusted/MelbournePedestrian/\n",
            "  inflating: UCRArchive_2018/Missing_value_and_variable_length_datasets_adjusted/MelbournePedestrian/MelbournePedestrian_TRAIN.tsv  \n",
            "  inflating: UCRArchive_2018/Missing_value_and_variable_length_datasets_adjusted/MelbournePedestrian/MelbournePedestrian_TEST.tsv  \n",
            "   creating: UCRArchive_2018/Missing_value_and_variable_length_datasets_adjusted/DodgerLoopWeekend/\n",
            "  inflating: UCRArchive_2018/Missing_value_and_variable_length_datasets_adjusted/DodgerLoopWeekend/DodgerLoopWeekend_TEST.tsv  \n",
            "  inflating: UCRArchive_2018/Missing_value_and_variable_length_datasets_adjusted/DodgerLoopWeekend/DodgerLoopWeekend_TRAIN.tsv  \n",
            "   creating: UCRArchive_2018/Missing_value_and_variable_length_datasets_adjusted/AllGestureWiimoteX/\n",
            "  inflating: UCRArchive_2018/Missing_value_and_variable_length_datasets_adjusted/AllGestureWiimoteX/AllGestureWiimoteX_TRAIN.tsv  \n",
            "  inflating: UCRArchive_2018/Missing_value_and_variable_length_datasets_adjusted/AllGestureWiimoteX/AllGestureWiimoteX_TEST.tsv  \n",
            "   creating: UCRArchive_2018/Missing_value_and_variable_length_datasets_adjusted/DodgerLoopGame/\n",
            "  inflating: UCRArchive_2018/Missing_value_and_variable_length_datasets_adjusted/DodgerLoopGame/DodgerLoopGame_TRAIN.tsv  \n",
            "  inflating: UCRArchive_2018/Missing_value_and_variable_length_datasets_adjusted/DodgerLoopGame/DodgerLoopGame_TEST.tsv  \n",
            "   creating: UCRArchive_2018/Missing_value_and_variable_length_datasets_adjusted/GesturePebbleZ1/\n",
            "  inflating: UCRArchive_2018/Missing_value_and_variable_length_datasets_adjusted/GesturePebbleZ1/GesturePebbleZ1_TRAIN.tsv  \n",
            "  inflating: UCRArchive_2018/Missing_value_and_variable_length_datasets_adjusted/GesturePebbleZ1/GesturePebbleZ1_TEST.tsv  \n",
            "  inflating: UCRArchive_2018/Missing_value_and_variable_length_datasets_adjusted/missing_value_and_variable_length_datasets_info.csv  \n",
            "   creating: UCRArchive_2018/Missing_value_and_variable_length_datasets_adjusted/GestureMidAirD3/\n",
            "  inflating: UCRArchive_2018/Missing_value_and_variable_length_datasets_adjusted/GestureMidAirD3/GestureMidAirD3_TRAIN.tsv  \n",
            "  inflating: UCRArchive_2018/Missing_value_and_variable_length_datasets_adjusted/GestureMidAirD3/GestureMidAirD3_TEST.tsv  \n",
            "   creating: UCRArchive_2018/Missing_value_and_variable_length_datasets_adjusted/GestureMidAirD2/\n",
            "  inflating: UCRArchive_2018/Missing_value_and_variable_length_datasets_adjusted/GestureMidAirD2/GestureMidAirD2_TEST.tsv  \n",
            "  inflating: UCRArchive_2018/Missing_value_and_variable_length_datasets_adjusted/GestureMidAirD2/GestureMidAirD2_TRAIN.tsv  \n",
            "   creating: UCRArchive_2018/Missing_value_and_variable_length_datasets_adjusted/DodgerLoopDay/\n",
            "  inflating: UCRArchive_2018/Missing_value_and_variable_length_datasets_adjusted/DodgerLoopDay/DodgerLoopDay_TRAIN.tsv  \n",
            "  inflating: UCRArchive_2018/Missing_value_and_variable_length_datasets_adjusted/DodgerLoopDay/DodgerLoopDay_TEST.tsv  \n",
            "   creating: UCRArchive_2018/Missing_value_and_variable_length_datasets_adjusted/AllGestureWiimoteY/\n",
            "  inflating: UCRArchive_2018/Missing_value_and_variable_length_datasets_adjusted/AllGestureWiimoteY/AllGestureWiimoteY_TEST.tsv  \n",
            "  inflating: UCRArchive_2018/Missing_value_and_variable_length_datasets_adjusted/AllGestureWiimoteY/AllGestureWiimoteY_TRAIN.tsv  \n",
            "   creating: UCRArchive_2018/Missing_value_and_variable_length_datasets_adjusted/GesturePebbleZ2/\n",
            "  inflating: UCRArchive_2018/Missing_value_and_variable_length_datasets_adjusted/GesturePebbleZ2/GesturePebbleZ2_TEST.tsv  \n",
            "  inflating: UCRArchive_2018/Missing_value_and_variable_length_datasets_adjusted/GesturePebbleZ2/GesturePebbleZ2_TRAIN.tsv  \n",
            "   creating: UCRArchive_2018/Missing_value_and_variable_length_datasets_adjusted/GestureMidAirD1/\n",
            "  inflating: UCRArchive_2018/Missing_value_and_variable_length_datasets_adjusted/GestureMidAirD1/GestureMidAirD1_TEST.tsv  \n",
            "  inflating: UCRArchive_2018/Missing_value_and_variable_length_datasets_adjusted/GestureMidAirD1/GestureMidAirD1_TRAIN.tsv  \n",
            "   creating: UCRArchive_2018/Strawberry/\n",
            "  inflating: UCRArchive_2018/Strawberry/Strawberry_TEST.tsv  \n",
            "  inflating: UCRArchive_2018/Strawberry/README.md  \n",
            "  inflating: UCRArchive_2018/Strawberry/Strawberry_TRAIN.tsv  \n",
            "   creating: UCRArchive_2018/Computers/\n",
            "  inflating: UCRArchive_2018/Computers/README.md  \n",
            "  inflating: UCRArchive_2018/Computers/Computers_TEST.tsv  \n",
            "  inflating: UCRArchive_2018/Computers/Computers_TRAIN.tsv  \n",
            "   creating: UCRArchive_2018/SonyAIBORobotSurface2/\n",
            "  inflating: UCRArchive_2018/SonyAIBORobotSurface2/README.md  \n",
            "  inflating: UCRArchive_2018/SonyAIBORobotSurface2/SonyAIBORobotSurface2_TRAIN.tsv  \n",
            "  inflating: UCRArchive_2018/SonyAIBORobotSurface2/SonyAIBORobotSurface2_TEST.tsv  \n",
            "   creating: UCRArchive_2018/ToeSegmentation1/\n",
            "  inflating: UCRArchive_2018/ToeSegmentation1/README.md  \n",
            "  inflating: UCRArchive_2018/ToeSegmentation1/ToeSegmentation1_TRAIN.tsv  \n",
            "  inflating: UCRArchive_2018/ToeSegmentation1/ToeSegmentation1_TEST.tsv  \n",
            "   creating: UCRArchive_2018/PLAID/\n",
            "  inflating: UCRArchive_2018/PLAID/README.md  \n",
            "  inflating: UCRArchive_2018/PLAID/PLAID_TEST.tsv  \n",
            "  inflating: UCRArchive_2018/PLAID/PLAID_TRAIN.tsv  \n",
            "   creating: UCRArchive_2018/PickupGestureWiimoteZ/\n",
            "  inflating: UCRArchive_2018/PickupGestureWiimoteZ/PickupGestureWiimoteZ_TRAIN.tsv  \n",
            "  inflating: UCRArchive_2018/PickupGestureWiimoteZ/README.md  \n",
            "  inflating: UCRArchive_2018/PickupGestureWiimoteZ/PickupGestureWiimoteZ_TEST.tsv  \n",
            "   creating: UCRArchive_2018/ArrowHead/\n",
            "  inflating: UCRArchive_2018/ArrowHead/README.md  \n",
            "  inflating: UCRArchive_2018/ArrowHead/ArrowHead_TRAIN.tsv  \n",
            "  inflating: UCRArchive_2018/ArrowHead/ArrowHead_TEST.tsv  \n",
            "   creating: UCRArchive_2018/UWaveGestureLibraryY/\n",
            "  inflating: UCRArchive_2018/UWaveGestureLibraryY/UWaveGestureLibraryY_TEST.tsv  \n",
            "  inflating: UCRArchive_2018/UWaveGestureLibraryY/README.md  \n",
            "  inflating: UCRArchive_2018/UWaveGestureLibraryY/UWaveGestureLibraryY_TRAIN.tsv  \n",
            "   creating: UCRArchive_2018/InsectWingbeatSound/\n",
            "  inflating: UCRArchive_2018/InsectWingbeatSound/InsectWingbeatSound_TRAIN.tsv  \n",
            "  inflating: UCRArchive_2018/InsectWingbeatSound/README.md  \n",
            "  inflating: UCRArchive_2018/InsectWingbeatSound/InsectWingbeatSound_TEST.tsv  \n",
            "   creating: UCRArchive_2018/Wine/\n",
            "  inflating: UCRArchive_2018/Wine/Wine_TRAIN.tsv  \n",
            "  inflating: UCRArchive_2018/Wine/README.md  \n",
            "  inflating: UCRArchive_2018/Wine/Wine_TEST.tsv  \n",
            "   creating: UCRArchive_2018/MelbournePedestrian/\n",
            "  inflating: UCRArchive_2018/MelbournePedestrian/MelbournePedestrian_TRAIN.tsv  \n",
            "  inflating: UCRArchive_2018/MelbournePedestrian/README.md  \n",
            "  inflating: UCRArchive_2018/MelbournePedestrian/MelbournePedestrian_TEST.tsv  \n",
            "   creating: UCRArchive_2018/StarLightCurves/\n",
            "  inflating: UCRArchive_2018/StarLightCurves/README.md  \n",
            "  inflating: UCRArchive_2018/StarLightCurves/StarLightCurves_TEST.tsv  \n",
            "  inflating: UCRArchive_2018/StarLightCurves/StarLightCurves_TRAIN.tsv  \n",
            "   creating: UCRArchive_2018/FreezerSmallTrain/\n",
            "  inflating: UCRArchive_2018/FreezerSmallTrain/FreezerSmallTrain_TEST.tsv  \n",
            "  inflating: UCRArchive_2018/FreezerSmallTrain/README.md  \n",
            "  inflating: UCRArchive_2018/FreezerSmallTrain/FreezerSmallTrain_TRAIN.tsv  \n",
            "   creating: UCRArchive_2018/FaceAll/\n",
            "  inflating: UCRArchive_2018/FaceAll/README.md  \n",
            "  inflating: UCRArchive_2018/FaceAll/FaceAll_TRAIN.tsv  \n",
            "  inflating: UCRArchive_2018/FaceAll/FaceAll_TEST.tsv  \n",
            "   creating: UCRArchive_2018/Lightning2/\n",
            "  inflating: UCRArchive_2018/Lightning2/README.md  \n",
            "  inflating: UCRArchive_2018/Lightning2/Lightning2_TRAIN.tsv  \n",
            "  inflating: UCRArchive_2018/Lightning2/Lightning2_TEST.tsv  \n",
            "   creating: UCRArchive_2018/LargeKitchenAppliances/\n",
            "  inflating: UCRArchive_2018/LargeKitchenAppliances/README.md  \n",
            "  inflating: UCRArchive_2018/LargeKitchenAppliances/LargeKitchenAppliances_TRAIN.tsv  \n",
            "  inflating: UCRArchive_2018/LargeKitchenAppliances/LargeKitchenAppliances_TEST.tsv  \n",
            "   creating: UCRArchive_2018/CricketX/\n",
            "  inflating: UCRArchive_2018/CricketX/README.md  \n",
            "  inflating: UCRArchive_2018/CricketX/CricketX_TRAIN.tsv  \n",
            "  inflating: UCRArchive_2018/CricketX/CricketX_TEST.tsv  \n",
            "   creating: UCRArchive_2018/SemgHandSubjectCh2/\n",
            "  inflating: UCRArchive_2018/SemgHandSubjectCh2/README.md  \n",
            "  inflating: UCRArchive_2018/SemgHandSubjectCh2/SemgHandSubjectCh2_TEST.tsv  \n",
            "  inflating: UCRArchive_2018/SemgHandSubjectCh2/SemgHandSubjectCh2_TRAIN.tsv  \n",
            "   creating: UCRArchive_2018/OSULeaf/\n",
            "  inflating: UCRArchive_2018/OSULeaf/OSULeaf_TEST.tsv  \n",
            "  inflating: UCRArchive_2018/OSULeaf/README.md  \n",
            "  inflating: UCRArchive_2018/OSULeaf/OSULeaf_TRAIN.tsv  \n",
            "   creating: UCRArchive_2018/GunPointOldVersusYoung/\n",
            "  inflating: UCRArchive_2018/GunPointOldVersusYoung/README.md  \n",
            "  inflating: UCRArchive_2018/GunPointOldVersusYoung/GunPointOldVersusYoung_TEST.tsv  \n",
            "  inflating: UCRArchive_2018/GunPointOldVersusYoung/GunPointOldVersusYoung_TRAIN.tsv  \n",
            "   creating: UCRArchive_2018/DistalPhalanxOutlineAgeGroup/\n",
            "  inflating: UCRArchive_2018/DistalPhalanxOutlineAgeGroup/DistalPhalanxOutlineAgeGroup_TEST.tsv  \n",
            "  inflating: UCRArchive_2018/DistalPhalanxOutlineAgeGroup/README.md  \n",
            "  inflating: UCRArchive_2018/DistalPhalanxOutlineAgeGroup/DistalPhalanxOutlineAgeGroup_TRAIN.tsv  \n",
            "   creating: UCRArchive_2018/ProximalPhalanxOutlineCorrect/\n",
            "  inflating: UCRArchive_2018/ProximalPhalanxOutlineCorrect/ProximalPhalanxOutlineCorrect_TRAIN.tsv  \n",
            "  inflating: UCRArchive_2018/ProximalPhalanxOutlineCorrect/README.md  \n",
            "  inflating: UCRArchive_2018/ProximalPhalanxOutlineCorrect/ProximalPhalanxOutlineCorrect_TEST.tsv  \n",
            "   creating: UCRArchive_2018/DodgerLoopWeekend/\n",
            "  inflating: UCRArchive_2018/DodgerLoopWeekend/DodgerLoopWeekend_TEST.tsv  \n",
            "  inflating: UCRArchive_2018/DodgerLoopWeekend/README.md  \n",
            "  inflating: UCRArchive_2018/DodgerLoopWeekend/DodgerLoopWeekend_TRAIN.tsv  \n",
            "   creating: UCRArchive_2018/Rock/\n",
            "  inflating: UCRArchive_2018/Rock/README.md  \n",
            "  inflating: UCRArchive_2018/Rock/Rock_TRAIN.tsv  \n",
            "  inflating: UCRArchive_2018/Rock/Rock_TEST.tsv  \n",
            "   creating: UCRArchive_2018/SmallKitchenAppliances/\n",
            "  inflating: UCRArchive_2018/SmallKitchenAppliances/README.md  \n",
            "  inflating: UCRArchive_2018/SmallKitchenAppliances/SmallKitchenAppliances_TRAIN.tsv  \n",
            "  inflating: UCRArchive_2018/SmallKitchenAppliances/SmallKitchenAppliances_TEST.tsv  \n",
            "   creating: UCRArchive_2018/AllGestureWiimoteX/\n",
            "  inflating: UCRArchive_2018/AllGestureWiimoteX/README.md  \n",
            "  inflating: UCRArchive_2018/AllGestureWiimoteX/AllGestureWiimoteX_TRAIN.tsv  \n",
            "  inflating: UCRArchive_2018/AllGestureWiimoteX/AllGestureWiimoteX_TEST.tsv  \n",
            "   creating: UCRArchive_2018/ScreenType/\n",
            "  inflating: UCRArchive_2018/ScreenType/README.md  \n",
            "  inflating: UCRArchive_2018/ScreenType/ScreenType_TRAIN.tsv  \n",
            "  inflating: UCRArchive_2018/ScreenType/ScreenType_TEST.tsv  \n",
            "   creating: UCRArchive_2018/ProximalPhalanxTW/\n",
            "  inflating: UCRArchive_2018/ProximalPhalanxTW/README.md  \n",
            "  inflating: UCRArchive_2018/ProximalPhalanxTW/ProximalPhalanxTW_TEST.tsv  \n",
            "  inflating: UCRArchive_2018/ProximalPhalanxTW/ProximalPhalanxTW_TRAIN.tsv  \n",
            "   creating: UCRArchive_2018/DodgerLoopGame/\n",
            "  inflating: UCRArchive_2018/DodgerLoopGame/DodgerLoopGame_TRAIN.tsv  \n",
            "  inflating: UCRArchive_2018/DodgerLoopGame/README.md  \n",
            "  inflating: UCRArchive_2018/DodgerLoopGame/DodgerLoopGame_TEST.tsv  \n",
            "   creating: UCRArchive_2018/GesturePebbleZ1/\n",
            "  inflating: UCRArchive_2018/GesturePebbleZ1/GesturePebbleZ1_TRAIN.tsv  \n",
            "  inflating: UCRArchive_2018/GesturePebbleZ1/README.md  \n",
            "  inflating: UCRArchive_2018/GesturePebbleZ1/GesturePebbleZ1_TEST.tsv  \n",
            "   creating: UCRArchive_2018/MoteStrain/\n",
            "  inflating: UCRArchive_2018/MoteStrain/README.md  \n",
            "  inflating: UCRArchive_2018/MoteStrain/MoteStrain_TEST.tsv  \n",
            "  inflating: UCRArchive_2018/MoteStrain/MoteStrain_TRAIN.tsv  \n",
            "   creating: UCRArchive_2018/Plane/\n",
            "  inflating: UCRArchive_2018/Plane/Plane_TEST.tsv  \n",
            "  inflating: UCRArchive_2018/Plane/README.md  \n",
            "  inflating: UCRArchive_2018/Plane/Plane_TRAIN.tsv  \n",
            "   creating: UCRArchive_2018/Wafer/\n",
            "  inflating: UCRArchive_2018/Wafer/README.md  \n",
            "  inflating: UCRArchive_2018/Wafer/Wafer_TRAIN.tsv  \n",
            "  inflating: UCRArchive_2018/Wafer/Wafer_TEST.tsv  \n",
            "   creating: UCRArchive_2018/GestureMidAirD3/\n",
            "  inflating: UCRArchive_2018/GestureMidAirD3/README.md  \n",
            "  inflating: UCRArchive_2018/GestureMidAirD3/GestureMidAirD3_TRAIN.tsv  \n",
            "  inflating: UCRArchive_2018/GestureMidAirD3/GestureMidAirD3_TEST.tsv  \n",
            "   creating: UCRArchive_2018/SonyAIBORobotSurface1/\n",
            "  inflating: UCRArchive_2018/SonyAIBORobotSurface1/SonyAIBORobotSurface1_TRAIN.tsv  \n",
            "  inflating: UCRArchive_2018/SonyAIBORobotSurface1/README.md  \n",
            "  inflating: UCRArchive_2018/SonyAIBORobotSurface1/SonyAIBORobotSurface1_TEST.tsv  \n",
            "   creating: UCRArchive_2018/SyntheticControl/\n",
            "  inflating: UCRArchive_2018/SyntheticControl/README.md  \n",
            "  inflating: UCRArchive_2018/SyntheticControl/SyntheticControl_TEST.tsv  \n",
            "  inflating: UCRArchive_2018/SyntheticControl/SyntheticControl_TRAIN.tsv  \n",
            "   creating: UCRArchive_2018/MiddlePhalanxOutlineAgeGroup/\n",
            "  inflating: UCRArchive_2018/MiddlePhalanxOutlineAgeGroup/README.md  \n",
            "  inflating: UCRArchive_2018/MiddlePhalanxOutlineAgeGroup/MiddlePhalanxOutlineAgeGroup_TRAIN.tsv  \n",
            "  inflating: UCRArchive_2018/MiddlePhalanxOutlineAgeGroup/MiddlePhalanxOutlineAgeGroup_TEST.tsv  \n",
            "   creating: UCRArchive_2018/CBF/\n",
            "  inflating: UCRArchive_2018/CBF/CBF_TRAIN.tsv  \n",
            "  inflating: UCRArchive_2018/CBF/README.md  \n",
            "  inflating: UCRArchive_2018/CBF/CBF_TEST.tsv  \n",
            "   creating: UCRArchive_2018/GestureMidAirD2/\n",
            "  inflating: UCRArchive_2018/GestureMidAirD2/README.md  \n",
            "  inflating: UCRArchive_2018/GestureMidAirD2/GestureMidAirD2_TEST.tsv  \n",
            "  inflating: UCRArchive_2018/GestureMidAirD2/GestureMidAirD2_TRAIN.tsv  \n",
            "   creating: UCRArchive_2018/CricketZ/\n",
            "  inflating: UCRArchive_2018/CricketZ/README.md  \n",
            "  inflating: UCRArchive_2018/CricketZ/CricketZ_TRAIN.tsv  \n",
            "  inflating: UCRArchive_2018/CricketZ/CricketZ_TEST.tsv  \n",
            "   creating: UCRArchive_2018/Fungi/\n",
            "  inflating: UCRArchive_2018/Fungi/README.md  \n",
            "  inflating: UCRArchive_2018/Fungi/Fungi_TEST.tsv  \n",
            "  inflating: UCRArchive_2018/Fungi/Fungi_TRAIN.tsv  \n",
            "   creating: UCRArchive_2018/Car/\n",
            "  inflating: UCRArchive_2018/Car/Car_TRAIN.tsv  \n",
            "  inflating: UCRArchive_2018/Car/README.md  \n",
            "  inflating: UCRArchive_2018/Car/Car_TEST.tsv  \n",
            "   creating: UCRArchive_2018/Herring/\n",
            "  inflating: UCRArchive_2018/Herring/Herring_TRAIN.tsv  \n",
            "  inflating: UCRArchive_2018/Herring/README.md  \n",
            "  inflating: UCRArchive_2018/Herring/Herring_TEST.tsv  \n",
            "   creating: UCRArchive_2018/PigArtPressure/\n",
            "  inflating: UCRArchive_2018/PigArtPressure/PigArtPressure_TEST.tsv  \n",
            "  inflating: UCRArchive_2018/PigArtPressure/README.md  \n",
            "  inflating: UCRArchive_2018/PigArtPressure/PigArtPressure_TRAIN.tsv  \n",
            "   creating: UCRArchive_2018/DodgerLoopDay/\n",
            "  inflating: UCRArchive_2018/DodgerLoopDay/README.md  \n",
            "  inflating: UCRArchive_2018/DodgerLoopDay/DodgerLoopDay_TRAIN.tsv  \n",
            "  inflating: UCRArchive_2018/DodgerLoopDay/DodgerLoopDay_TEST.tsv  \n",
            "   creating: UCRArchive_2018/ChlorineConcentration/\n",
            "  inflating: UCRArchive_2018/ChlorineConcentration/README.md  \n",
            "  inflating: UCRArchive_2018/ChlorineConcentration/ChlorineConcentration_TEST.tsv  \n",
            "  inflating: UCRArchive_2018/ChlorineConcentration/ChlorineConcentration_TRAIN.tsv  \n",
            "   creating: UCRArchive_2018/AllGestureWiimoteY/\n",
            "  inflating: UCRArchive_2018/AllGestureWiimoteY/README.md  \n",
            "  inflating: UCRArchive_2018/AllGestureWiimoteY/AllGestureWiimoteY_TEST.tsv  \n",
            "  inflating: UCRArchive_2018/AllGestureWiimoteY/AllGestureWiimoteY_TRAIN.tsv  \n",
            "   creating: UCRArchive_2018/CricketY/\n",
            "  inflating: UCRArchive_2018/CricketY/CricketY_TEST.tsv  \n",
            "  inflating: UCRArchive_2018/CricketY/README.md  \n",
            "  inflating: UCRArchive_2018/CricketY/CricketY_TRAIN.tsv  \n",
            "   creating: UCRArchive_2018/BME/\n",
            "  inflating: UCRArchive_2018/BME/BME_TEST.tsv  \n",
            "  inflating: UCRArchive_2018/BME/README.md  \n",
            "  inflating: UCRArchive_2018/BME/BME_TRAIN.tsv  \n",
            "   creating: UCRArchive_2018/BirdChicken/\n",
            "  inflating: UCRArchive_2018/BirdChicken/BirdChicken_TEST.tsv  \n",
            "  inflating: UCRArchive_2018/BirdChicken/README.md  \n",
            "  inflating: UCRArchive_2018/BirdChicken/BirdChicken_TRAIN.tsv  \n",
            "   creating: UCRArchive_2018/MiddlePhalanxTW/\n",
            "  inflating: UCRArchive_2018/MiddlePhalanxTW/README.md  \n",
            "  inflating: UCRArchive_2018/MiddlePhalanxTW/MiddlePhalanxTW_TRAIN.tsv  \n",
            "  inflating: UCRArchive_2018/MiddlePhalanxTW/MiddlePhalanxTW_TEST.tsv  \n",
            "   creating: UCRArchive_2018/UWaveGestureLibraryAll/\n",
            "  inflating: UCRArchive_2018/UWaveGestureLibraryAll/README.md  \n",
            "  inflating: UCRArchive_2018/UWaveGestureLibraryAll/UWaveGestureLibraryAll_TEST.tsv  \n",
            "  inflating: UCRArchive_2018/UWaveGestureLibraryAll/UWaveGestureLibraryAll_TRAIN.tsv  \n",
            "   creating: UCRArchive_2018/Meat/\n",
            "  inflating: UCRArchive_2018/Meat/Meat_TEST.tsv  \n",
            "  inflating: UCRArchive_2018/Meat/README.md  \n",
            "  inflating: UCRArchive_2018/Meat/Meat_TRAIN.tsv  \n",
            "   creating: UCRArchive_2018/PigAirwayPressure/\n",
            "  inflating: UCRArchive_2018/PigAirwayPressure/README.md  \n",
            "  inflating: UCRArchive_2018/PigAirwayPressure/PigAirwayPressure_TRAIN.tsv  \n",
            "  inflating: UCRArchive_2018/PigAirwayPressure/PigAirwayPressure_TEST.tsv  \n",
            "   creating: UCRArchive_2018/EthanolLevel/\n",
            "  inflating: UCRArchive_2018/EthanolLevel/EthanolLevel_TRAIN.tsv  \n",
            "  inflating: UCRArchive_2018/EthanolLevel/README.md  \n",
            "  inflating: UCRArchive_2018/EthanolLevel/EthanolLevel_TEST.tsv  \n",
            "   creating: UCRArchive_2018/Trace/\n",
            "  inflating: UCRArchive_2018/Trace/Trace_TRAIN.tsv  \n",
            "  inflating: UCRArchive_2018/Trace/README.md  \n",
            "  inflating: UCRArchive_2018/Trace/Trace_TEST.tsv  \n",
            "   creating: UCRArchive_2018/Mallat/\n",
            "  inflating: UCRArchive_2018/Mallat/Mallat_TRAIN.tsv  \n",
            "  inflating: UCRArchive_2018/Mallat/README.md  \n",
            "  inflating: UCRArchive_2018/Mallat/Mallat_TEST.tsv  \n",
            "   creating: UCRArchive_2018/Coffee/\n",
            "  inflating: UCRArchive_2018/Coffee/README.md  \n",
            "  inflating: UCRArchive_2018/Coffee/Coffee_TEST.tsv  \n",
            "  inflating: UCRArchive_2018/Coffee/Coffee_TRAIN.tsv  \n",
            "   creating: UCRArchive_2018/DiatomSizeReduction/\n",
            "  inflating: UCRArchive_2018/DiatomSizeReduction/DiatomSizeReduction_TEST.tsv  \n",
            "  inflating: UCRArchive_2018/DiatomSizeReduction/README.md  \n",
            "  inflating: UCRArchive_2018/DiatomSizeReduction/DiatomSizeReduction_TRAIN.tsv  \n",
            "   creating: UCRArchive_2018/EOGHorizontalSignal/\n",
            "  inflating: UCRArchive_2018/EOGHorizontalSignal/README.md  \n",
            "  inflating: UCRArchive_2018/EOGHorizontalSignal/EOGHorizontalSignal_TEST.tsv  \n",
            "  inflating: UCRArchive_2018/EOGHorizontalSignal/EOGHorizontalSignal_TRAIN.tsv  \n",
            "   creating: UCRArchive_2018/GesturePebbleZ2/\n",
            "  inflating: UCRArchive_2018/GesturePebbleZ2/README.md  \n",
            "  inflating: UCRArchive_2018/GesturePebbleZ2/GesturePebbleZ2_TEST.tsv  \n",
            "  inflating: UCRArchive_2018/GesturePebbleZ2/GesturePebbleZ2_TRAIN.tsv  \n",
            "   creating: UCRArchive_2018/ShapeletSim/\n",
            "  inflating: UCRArchive_2018/ShapeletSim/ShapeletSim_TRAIN.tsv  \n",
            "  inflating: UCRArchive_2018/ShapeletSim/README.md  \n",
            "  inflating: UCRArchive_2018/ShapeletSim/ShapeletSim_TEST.tsv  \n",
            "   creating: UCRArchive_2018/Earthquakes/\n",
            "  inflating: UCRArchive_2018/Earthquakes/Earthquakes_TRAIN.tsv  \n",
            "  inflating: UCRArchive_2018/Earthquakes/README.md  \n",
            "  inflating: UCRArchive_2018/Earthquakes/Earthquakes_TEST.tsv  \n",
            "   creating: UCRArchive_2018/TwoPatterns/\n",
            "  inflating: UCRArchive_2018/TwoPatterns/README.md  \n",
            "  inflating: UCRArchive_2018/TwoPatterns/TwoPatterns_TEST.tsv  \n",
            "  inflating: UCRArchive_2018/TwoPatterns/TwoPatterns_TRAIN.tsv  \n",
            "   creating: UCRArchive_2018/FaceFour/\n",
            "  inflating: UCRArchive_2018/FaceFour/README.md  \n",
            "  inflating: UCRArchive_2018/FaceFour/FaceFour_TRAIN.tsv  \n",
            "  inflating: UCRArchive_2018/FaceFour/FaceFour_TEST.tsv  \n",
            "   creating: UCRArchive_2018/Lightning7/\n",
            "  inflating: UCRArchive_2018/Lightning7/README.md  \n",
            "  inflating: UCRArchive_2018/Lightning7/Lightning7_TEST.tsv  \n",
            "  inflating: UCRArchive_2018/Lightning7/Lightning7_TRAIN.tsv  \n",
            "   creating: UCRArchive_2018/Worms/\n",
            "  inflating: UCRArchive_2018/Worms/Worms_TEST.tsv  \n",
            "  inflating: UCRArchive_2018/Worms/README.md  \n",
            "  inflating: UCRArchive_2018/Worms/Worms_TRAIN.tsv  \n",
            "   creating: UCRArchive_2018/UWaveGestureLibraryZ/\n",
            "  inflating: UCRArchive_2018/UWaveGestureLibraryZ/README.md  \n",
            "  inflating: UCRArchive_2018/UWaveGestureLibraryZ/UWaveGestureLibraryZ_TEST.tsv  \n",
            "  inflating: UCRArchive_2018/UWaveGestureLibraryZ/UWaveGestureLibraryZ_TRAIN.tsv  \n",
            "   creating: UCRArchive_2018/ECG5000/\n",
            "  inflating: UCRArchive_2018/ECG5000/ECG5000_TEST.tsv  \n",
            "  inflating: UCRArchive_2018/ECG5000/README.md  \n",
            "  inflating: UCRArchive_2018/ECG5000/ECG5000_TRAIN.tsv  \n",
            "   creating: UCRArchive_2018/ProximalPhalanxOutlineAgeGroup/\n",
            "  inflating: UCRArchive_2018/ProximalPhalanxOutlineAgeGroup/README.md  \n",
            "  inflating: UCRArchive_2018/ProximalPhalanxOutlineAgeGroup/ProximalPhalanxOutlineAgeGroup_TEST.tsv  \n",
            "  inflating: UCRArchive_2018/ProximalPhalanxOutlineAgeGroup/ProximalPhalanxOutlineAgeGroup_TRAIN.tsv  \n",
            "   creating: UCRArchive_2018/GestureMidAirD1/\n",
            "  inflating: UCRArchive_2018/GestureMidAirD1/GestureMidAirD1_TEST.tsv  \n",
            "  inflating: UCRArchive_2018/GestureMidAirD1/README.md  \n",
            "  inflating: UCRArchive_2018/GestureMidAirD1/GestureMidAirD1_TRAIN.tsv  \n",
            "   creating: UCRArchive_2018/Crop/\n",
            "  inflating: UCRArchive_2018/Crop/README.md  \n",
            "  inflating: UCRArchive_2018/Crop/Crop_TRAIN.tsv  \n",
            "  inflating: UCRArchive_2018/Crop/Crop_TEST.tsv  \n",
            "   creating: UCRArchive_2018/PigCVP/\n",
            "  inflating: UCRArchive_2018/PigCVP/PigCVP_TEST.tsv  \n",
            "  inflating: UCRArchive_2018/PigCVP/README.md  \n",
            "  inflating: UCRArchive_2018/PigCVP/PigCVP_TRAIN.tsv  \n",
            "   creating: UCRArchive_2018/NonInvasiveFetalECGThorax2/\n",
            "  inflating: UCRArchive_2018/NonInvasiveFetalECGThorax2/README.md  \n",
            "  inflating: UCRArchive_2018/NonInvasiveFetalECGThorax2/NonInvasiveFetalECGThorax2_TRAIN.tsv  \n",
            "  inflating: UCRArchive_2018/NonInvasiveFetalECGThorax2/NonInvasiveFetalECGThorax2_TEST.tsv  \n",
            "   creating: UCRArchive_2018/InlineSkate/\n",
            "  inflating: UCRArchive_2018/InlineSkate/README.md  \n",
            "  inflating: UCRArchive_2018/InlineSkate/InlineSkate_TRAIN.tsv  \n",
            "  inflating: UCRArchive_2018/InlineSkate/InlineSkate_TEST.tsv  \n",
            "   creating: UCRArchive_2018/FreezerRegularTrain/\n",
            "  inflating: UCRArchive_2018/FreezerRegularTrain/README.md  \n",
            "  inflating: UCRArchive_2018/FreezerRegularTrain/FreezerRegularTrain_TRAIN.tsv  \n",
            "  inflating: UCRArchive_2018/FreezerRegularTrain/FreezerRegularTrain_TEST.tsv  \n",
            "   creating: UCRArchive_2018/FacesUCR/\n",
            "  inflating: UCRArchive_2018/FacesUCR/README.md  \n",
            "  inflating: UCRArchive_2018/FacesUCR/FacesUCR_TRAIN.tsv  \n",
            "  inflating: UCRArchive_2018/FacesUCR/FacesUCR_TEST.tsv  \n",
            "   creating: UCRArchive_2018/ACSF1/\n",
            "  inflating: UCRArchive_2018/ACSF1/README.md  \n",
            "  inflating: UCRArchive_2018/ACSF1/ACSF1_TEST.tsv  \n",
            "  inflating: UCRArchive_2018/ACSF1/ACSF1_TRAIN.tsv  \n",
            "   creating: UCRArchive_2018/FiftyWords/\n",
            "  inflating: UCRArchive_2018/FiftyWords/FiftyWords_TRAIN.tsv  \n",
            "  inflating: UCRArchive_2018/FiftyWords/README.md  \n",
            "  inflating: UCRArchive_2018/FiftyWords/FiftyWords_TEST.tsv  \n"
          ],
          "name": "stdout"
        }
      ]
    },
    {
      "cell_type": "code",
      "metadata": {
        "id": "EMNUk2oOiQUV"
      },
      "source": [
        "from sklearn import preprocessing\n"
      ],
      "execution_count": null,
      "outputs": []
    },
    {
      "cell_type": "code",
      "metadata": {
        "id": "5N9B_VAOG9ME"
      },
      "source": [
        "# PLAID data\n",
        "sr =  30_000 # sample rate\n",
        "train_df = pd.read_csv('./UCRArchive_2018/PLAID/PLAID_TRAIN.tsv', \n",
        "                       sep='\\t', header=None)\n",
        "labels = train_df.iloc[:,0]\n",
        "#labels = labels.fillna(value=0)\n",
        "ts = train_df.iloc[:,1:]\n",
        "\n",
        "X_train, X_test, y_train, y_test = train_test_split(ts, labels, \n",
        "                                   test_size=0.33, random_state=13)"
      ],
      "execution_count": null,
      "outputs": []
    },
    {
      "cell_type": "code",
      "metadata": {
        "id": "X2HA1ts6iZjG",
        "colab": {
          "base_uri": "https://localhost:8080/",
          "height": 34
        },
        "outputId": "0f99ac97-29c1-4088-baea-3f0bb9fad3dc"
      },
      "source": [
        "le = preprocessing.LabelEncoder()\n",
        "le.fit_transform(y_test)\n",
        "le.classes_"
      ],
      "execution_count": null,
      "outputs": [
        {
          "output_type": "execute_result",
          "data": {
            "text/plain": [
              "array([ 0,  1,  2,  3,  4,  5,  6,  7,  8,  9, 10])"
            ]
          },
          "metadata": {
            "tags": []
          },
          "execution_count": 62
        }
      ]
    },
    {
      "cell_type": "code",
      "metadata": {
        "id": "QsJVuILoj2a0"
      },
      "source": [
        "def remove_inf(persist_interval):\n",
        "  mask = ~np.isinf(persist_interval[:,1])\n",
        "  return persist_interval[mask]\n",
        "\n",
        "def top_lifetime(h_n, n=1):\n",
        "  '''\n",
        "  Calculte top n lifetimes of n-dimension homology group.\n",
        "  '''\n",
        "  _ = remove_inf(h_n)\n",
        "  temp = _[:,1] - _[:,0]\n",
        "  temp = np.sort(temp)[::-1]\n",
        "\n",
        "  if n>1:\n",
        "   return temp[0:n]\n",
        "  elif n==1:\n",
        "    return temp.max()\n",
        "\n",
        "def avg_lifetime(h_n):\n",
        "  '''\n",
        "  Calculte mean lifetime of n-dimension homology group.\n",
        "  '''\n",
        "  _ = remove_inf(h_n)\n",
        "  return np.mean(_[:,1] - _[:,0])\n",
        "\n",
        "def num_points(h_n):\n",
        "  '''\n",
        "  Calculte the number of points in each dimension.\n",
        "  '''\n",
        "  _ = remove_inf(h_n)\n",
        "  return _.shape[0]\n",
        "\n",
        "def sum_lifetime(h_n):\n",
        "  _ = remove_inf(h_n)\n",
        "  return sum(_[:,1] - _[:,0])\n",
        "\n",
        "def relevant_holes(h_n, theta=0.5):\n",
        "  _ = remove_inf(h_n)\n",
        "  temp = _[:,1] - _[:,0]\n",
        "  threshold = temp.max()*theta\n",
        "  rel_idx = np.where(temp>threshold)\n",
        "  rel_holes = temp[rel_idx]\n",
        "  return rel_holes.shape[0]\n",
        "\n",
        "#d=3\n",
        "#tau=4\n",
        "#ts_max = X_train.iloc[idx].dropna()[0:].max()\n",
        "\n",
        "#embedding = TimeDelayEmbedding(dim=d, delay=tau)(X_train.iloc[idx].dropna()[0:]/ts_max)\n",
        "\n",
        "#rips_complex = gudhi.RipsComplex(embedding, max_edge_length=np.sqrt(2), sparse=2)\n",
        "#simplex_tree = rips_complex.create_simplex_tree(max_dimension=2)\n",
        "#simplex_tree.compute_persistence()\n",
        "\n",
        "#H0 = simplex_tree.persistence_intervals_in_dimension(0)\n",
        "#H1 = simplex_tree.persistence_intervals_in_dimension(1)\n",
        "#betti_num = simplex_tree.betti_numbers()\n",
        "\n",
        "def prepare_features(ts_df, d=3, tau=4, theta=0.5):\n",
        "  avg_lifetime_0 = []\n",
        "  avg_lifetime_1 = []\n",
        "  betti_0 = []\n",
        "  betti_1 = []\n",
        "  num_points_0 = []\n",
        "  num_points_1 = []\n",
        "  sum_lifetime_0 = []\n",
        "  sum_lifetime_1 = []\n",
        "  rel_holes_0 = []\n",
        "  rel_holes_1 = []\n",
        "  top_lifetime_0 = []\n",
        "  top_lifetime_1 = []\n",
        "\n",
        "  for idx in range(ts_df.shape[0]):\n",
        "    # embed and normalize\n",
        "    ts_max = ts_df.iloc[idx].dropna()[0:].max()\n",
        "    embedding = TimeDelayEmbedding(dim=d, delay=tau)(ts_df.iloc[idx].dropna()/ts_max)\n",
        "\n",
        "    # Compute persistence for 0 and 1-d homologies. Max filtration \n",
        "    # radius sqrt 2\n",
        "    rips_complex = gudhi.RipsComplex(embedding, max_edge_length=np.sqrt(2), sparse=2)\n",
        "    simplex_tree = rips_complex.create_simplex_tree(max_dimension=2)\n",
        "    simplex_tree.compute_persistence()\n",
        "\n",
        "    # Persistent homologies and Betti numbers\n",
        "    H0 = simplex_tree.persistence_intervals_in_dimension(0)\n",
        "    H1 = simplex_tree.persistence_intervals_in_dimension(1)\n",
        "    betti_num = simplex_tree.betti_numbers()\n",
        "\n",
        "    # Generate features\n",
        "    avg_lifetime_0.append(avg_lifetime(H0))\n",
        "    avg_lifetime_1.append(avg_lifetime(H1))\n",
        "    betti_0.append(betti_num[0])\n",
        "    betti_1.append(betti_num[1])\n",
        "    num_points_0.append(num_points(H0))\n",
        "    num_points_1.append(num_points(H1))\n",
        "    sum_lifetime_0.append(sum_lifetime(H0))\n",
        "    sum_lifetime_1.append(sum_lifetime(H1))\n",
        "    rel_holes_0.append(relevant_holes(H0, theta=theta))\n",
        "    rel_holes_1.append(relevant_holes(H1, theta=theta))\n",
        "    top_lifetime_0.append(top_lifetime(H0))\n",
        "    top_lifetime_1.append(top_lifetime(H1))\n",
        "  \n",
        "  data_dict = {'avg_lifetime_0':avg_lifetime_0, \n",
        "               'avg_lifetime_1':avg_lifetime_1,\n",
        "               'betti_0':betti_0, 'betti_1':betti_1, \n",
        "               'num_points_0':num_points_0,\n",
        "               'num_points_1':num_points_1,\n",
        "               'sum_lifetime_0':sum_lifetime_0,\n",
        "               'sum_lifetime_1':sum_lifetime_1,\n",
        "               'rel_holes_0':rel_holes_0,\n",
        "               'rel_holes_1':rel_holes_1,\n",
        "               'top_lifetime_0':top_lifetime_0,\n",
        "               'top_lifetime_1':top_lifetime_1}\n",
        "  df = pd.DataFrame(data=data_dict)\n",
        "  return df\n",
        "\n",
        "#top_lifetime(H0)\n",
        "#sum_lifetime(H1)\n",
        "#relevant_holes(H0, theta=0.5)"
      ],
      "execution_count": null,
      "outputs": []
    },
    {
      "cell_type": "code",
      "metadata": {
        "id": "KCD1glbE2sqp"
      },
      "source": [
        "tda_df_train = prepare_features(X_train[0:], d=3, tau=4, theta=0.5)\n",
        "tda_df_test = prepare_features(X_test[0:], d=3, tau=4, theta=0.5)"
      ],
      "execution_count": null,
      "outputs": []
    },
    {
      "cell_type": "code",
      "metadata": {
        "id": "5NZfnDN-4uCV",
        "colab": {
          "base_uri": "https://localhost:8080/",
          "height": 317
        },
        "outputId": "de7cbee1-2145-4849-fba0-d9c4c2ccc4fc"
      },
      "source": [
        "tda_df_train.describe()"
      ],
      "execution_count": null,
      "outputs": [
        {
          "output_type": "execute_result",
          "data": {
            "text/html": [
              "<div>\n",
              "<style scoped>\n",
              "    .dataframe tbody tr th:only-of-type {\n",
              "        vertical-align: middle;\n",
              "    }\n",
              "\n",
              "    .dataframe tbody tr th {\n",
              "        vertical-align: top;\n",
              "    }\n",
              "\n",
              "    .dataframe thead th {\n",
              "        text-align: right;\n",
              "    }\n",
              "</style>\n",
              "<table border=\"1\" class=\"dataframe\">\n",
              "  <thead>\n",
              "    <tr style=\"text-align: right;\">\n",
              "      <th></th>\n",
              "      <th>avg_lifetime_0</th>\n",
              "      <th>avg_lifetime_1</th>\n",
              "      <th>betti_0</th>\n",
              "      <th>betti_1</th>\n",
              "      <th>num_points_0</th>\n",
              "      <th>num_points_1</th>\n",
              "      <th>sum_lifetime_0</th>\n",
              "      <th>sum_lifetime_1</th>\n",
              "      <th>rel_holes_0</th>\n",
              "      <th>rel_holes_1</th>\n",
              "      <th>top_lifetime_0</th>\n",
              "      <th>top_lifetime_1</th>\n",
              "    </tr>\n",
              "  </thead>\n",
              "  <tbody>\n",
              "    <tr>\n",
              "      <th>count</th>\n",
              "      <td>359.000000</td>\n",
              "      <td>359.000000</td>\n",
              "      <td>359.000000</td>\n",
              "      <td>359.000000</td>\n",
              "      <td>359.000000</td>\n",
              "      <td>359.000000</td>\n",
              "      <td>359.000000</td>\n",
              "      <td>359.000000</td>\n",
              "      <td>359.000000</td>\n",
              "      <td>359.000000</td>\n",
              "      <td>359.000000</td>\n",
              "      <td>359.000000</td>\n",
              "    </tr>\n",
              "    <tr>\n",
              "      <th>mean</th>\n",
              "      <td>0.026313</td>\n",
              "      <td>0.028731</td>\n",
              "      <td>1.013928</td>\n",
              "      <td>0.038997</td>\n",
              "      <td>314.334262</td>\n",
              "      <td>43.125348</td>\n",
              "      <td>7.251035</td>\n",
              "      <td>1.104731</td>\n",
              "      <td>6.203343</td>\n",
              "      <td>2.448468</td>\n",
              "      <td>0.693391</td>\n",
              "      <td>0.218663</td>\n",
              "    </tr>\n",
              "    <tr>\n",
              "      <th>std</th>\n",
              "      <td>0.013834</td>\n",
              "      <td>0.029236</td>\n",
              "      <td>0.117354</td>\n",
              "      <td>0.244801</td>\n",
              "      <td>153.135861</td>\n",
              "      <td>48.577570</td>\n",
              "      <td>3.418092</td>\n",
              "      <td>1.911929</td>\n",
              "      <td>5.913755</td>\n",
              "      <td>2.585303</td>\n",
              "      <td>0.267236</td>\n",
              "      <td>0.162175</td>\n",
              "    </tr>\n",
              "    <tr>\n",
              "      <th>min</th>\n",
              "      <td>0.004791</td>\n",
              "      <td>0.000098</td>\n",
              "      <td>1.000000</td>\n",
              "      <td>0.000000</td>\n",
              "      <td>91.000000</td>\n",
              "      <td>1.000000</td>\n",
              "      <td>1.489223</td>\n",
              "      <td>0.000098</td>\n",
              "      <td>1.000000</td>\n",
              "      <td>1.000000</td>\n",
              "      <td>0.022880</td>\n",
              "      <td>0.000098</td>\n",
              "    </tr>\n",
              "    <tr>\n",
              "      <th>25%</th>\n",
              "      <td>0.017136</td>\n",
              "      <td>0.007061</td>\n",
              "      <td>1.000000</td>\n",
              "      <td>0.000000</td>\n",
              "      <td>191.000000</td>\n",
              "      <td>14.000000</td>\n",
              "      <td>5.155663</td>\n",
              "      <td>0.149403</td>\n",
              "      <td>3.000000</td>\n",
              "      <td>1.000000</td>\n",
              "      <td>0.530608</td>\n",
              "      <td>0.098640</td>\n",
              "    </tr>\n",
              "    <tr>\n",
              "      <th>50%</th>\n",
              "      <td>0.023688</td>\n",
              "      <td>0.018896</td>\n",
              "      <td>1.000000</td>\n",
              "      <td>0.000000</td>\n",
              "      <td>281.000000</td>\n",
              "      <td>28.000000</td>\n",
              "      <td>6.503283</td>\n",
              "      <td>0.444259</td>\n",
              "      <td>4.000000</td>\n",
              "      <td>2.000000</td>\n",
              "      <td>0.683517</td>\n",
              "      <td>0.183328</td>\n",
              "    </tr>\n",
              "    <tr>\n",
              "      <th>75%</th>\n",
              "      <td>0.029964</td>\n",
              "      <td>0.041781</td>\n",
              "      <td>1.000000</td>\n",
              "      <td>0.000000</td>\n",
              "      <td>423.000000</td>\n",
              "      <td>57.000000</td>\n",
              "      <td>8.462542</td>\n",
              "      <td>1.322494</td>\n",
              "      <td>7.000000</td>\n",
              "      <td>3.000000</td>\n",
              "      <td>0.900141</td>\n",
              "      <td>0.305725</td>\n",
              "    </tr>\n",
              "    <tr>\n",
              "      <th>max</th>\n",
              "      <td>0.094065</td>\n",
              "      <td>0.167721</td>\n",
              "      <td>2.000000</td>\n",
              "      <td>3.000000</td>\n",
              "      <td>1335.000000</td>\n",
              "      <td>422.000000</td>\n",
              "      <td>39.550324</td>\n",
              "      <td>21.335356</td>\n",
              "      <td>47.000000</td>\n",
              "      <td>24.000000</td>\n",
              "      <td>1.405904</td>\n",
              "      <td>1.028980</td>\n",
              "    </tr>\n",
              "  </tbody>\n",
              "</table>\n",
              "</div>"
            ],
            "text/plain": [
              "       avg_lifetime_0  avg_lifetime_1  ...  top_lifetime_0  top_lifetime_1\n",
              "count      359.000000      359.000000  ...      359.000000      359.000000\n",
              "mean         0.026313        0.028731  ...        0.693391        0.218663\n",
              "std          0.013834        0.029236  ...        0.267236        0.162175\n",
              "min          0.004791        0.000098  ...        0.022880        0.000098\n",
              "25%          0.017136        0.007061  ...        0.530608        0.098640\n",
              "50%          0.023688        0.018896  ...        0.683517        0.183328\n",
              "75%          0.029964        0.041781  ...        0.900141        0.305725\n",
              "max          0.094065        0.167721  ...        1.405904        1.028980\n",
              "\n",
              "[8 rows x 12 columns]"
            ]
          },
          "metadata": {
            "tags": []
          },
          "execution_count": 65
        }
      ]
    },
    {
      "cell_type": "code",
      "metadata": {
        "id": "IT5Lyk_I5MX9",
        "colab": {
          "base_uri": "https://localhost:8080/",
          "height": 265
        },
        "outputId": "11d399f0-3e1a-42fe-a968-79fb88c11c52"
      },
      "source": [
        "plt.hist(tda_df_train.top_lifetime_1, bins=20)\n",
        "plt.show()"
      ],
      "execution_count": null,
      "outputs": [
        {
          "output_type": "display_data",
          "data": {
            "image/png": "[encoded data removed]",
            "text/plain": [
              "<Figure size 432x288 with 1 Axes>"
            ]
          },
          "metadata": {
            "tags": [],
            "needs_background": "light"
          }
        }
      ]
    },
    {
      "cell_type": "code",
      "metadata": {
        "id": "qjPUzREydXVz"
      },
      "source": [
        "from sklearn.ensemble import RandomForestClassifier\n",
        "from sklearn.metrics import accuracy_score"
      ],
      "execution_count": null,
      "outputs": []
    },
    {
      "cell_type": "code",
      "metadata": {
        "id": "orSusi8Sd1dP",
        "colab": {
          "base_uri": "https://localhost:8080/",
          "height": 34
        },
        "outputId": "0479fe4d-ccdf-4243-f750-21a5df53a3ed"
      },
      "source": [
        "le = preprocessing.LabelEncoder()\n",
        "yt = le.fit_transform(y_train)\n",
        "ytt = le.transform(y_test)\n",
        "\n",
        "clf = RandomForestClassifier(max_depth=12, random_state=0)\n",
        "clf.fit(tda_df_train, yt)\n",
        "y_pred = clf.predict(tda_df_test)\n",
        "#y_test\n",
        "accuracy_score(ytt, y_pred)"
      ],
      "execution_count": null,
      "outputs": [
        {
          "output_type": "execute_result",
          "data": {
            "text/plain": [
              "0.601123595505618"
            ]
          },
          "metadata": {
            "tags": []
          },
          "execution_count": 69
        }
      ]
    },
    {
      "cell_type": "code",
      "metadata": {
        "id": "DTmh4wkDl8Hu"
      },
      "source": [
        "from sklearn.cluster import DBSCAN\n",
        "from sklearn import metrics\n",
        "from sklearn.preprocessing import StandardScaler\n",
        "\n",
        "X_train_standard = StandardScaler().fit_transform(tda_df_train)\n",
        "X_test_standard = StandardScaler().fit(tda_df_test)"
      ],
      "execution_count": null,
      "outputs": []
    },
    {
      "cell_type": "code",
      "metadata": {
        "id": "-J_satmUnOlb",
        "colab": {
          "base_uri": "https://localhost:8080/",
          "height": 306
        },
        "outputId": "77f20669-6648-48c5-b35a-e4d5bdb6406f"
      },
      "source": [
        "from sklearn.cluster import KMeans\n",
        "from sklearn.metrics.pairwise import pairwise_distances_argmin\n",
        "\n",
        "km = KMeans(n_clusters=10)\n",
        "km.fit(X_train_standard)\n",
        "km.labels_\n",
        "#pairwise_distances_argmin(X_train_standard, km.cluster_centers_)\n",
        "#y_train"
      ],
      "execution_count": null,
      "outputs": [
        {
          "output_type": "execute_result",
          "data": {
            "text/plain": [
              "array([6, 3, 2, 0, 0, 7, 7, 0, 6, 0, 7, 7, 6, 0, 7, 2, 6, 7, 0, 3, 1, 3,\n",
              "       7, 7, 1, 6, 7, 0, 7, 1, 6, 8, 0, 0, 7, 0, 3, 6, 7, 0, 8, 7, 1, 6,\n",
              "       7, 6, 0, 7, 1, 1, 1, 0, 8, 6, 6, 0, 6, 4, 0, 7, 0, 7, 1, 7, 7, 1,\n",
              "       7, 0, 4, 7, 0, 8, 8, 6, 1, 7, 7, 1, 1, 6, 5, 6, 6, 0, 0, 8, 7, 2,\n",
              "       2, 5, 7, 9, 6, 7, 8, 8, 1, 0, 6, 7, 0, 0, 0, 7, 7, 0, 3, 1, 5, 1,\n",
              "       6, 0, 1, 8, 7, 0, 0, 7, 5, 6, 0, 6, 7, 8, 1, 6, 7, 8, 6, 7, 8, 7,\n",
              "       8, 7, 0, 6, 6, 1, 8, 6, 7, 1, 8, 7, 7, 0, 7, 0, 4, 6, 3, 0, 7, 0,\n",
              "       6, 4, 7, 0, 6, 6, 0, 7, 7, 1, 7, 6, 7, 6, 7, 0, 6, 0, 7, 7, 8, 8,\n",
              "       0, 1, 8, 7, 7, 6, 7, 6, 6, 1, 6, 1, 7, 6, 7, 4, 1, 0, 7, 2, 7, 7,\n",
              "       7, 6, 3, 8, 1, 7, 6, 7, 0, 1, 7, 1, 6, 1, 0, 7, 0, 7, 8, 0, 6, 7,\n",
              "       6, 2, 0, 0, 7, 7, 6, 0, 7, 8, 8, 7, 8, 7, 7, 7, 7, 7, 0, 1, 7, 6,\n",
              "       7, 7, 1, 7, 1, 8, 0, 7, 1, 4, 8, 7, 1, 6, 1, 0, 7, 7, 7, 1, 8, 0,\n",
              "       1, 7, 8, 7, 7, 1, 6, 6, 1, 7, 7, 4, 2, 7, 8, 1, 1, 6, 6, 1, 2, 6,\n",
              "       1, 0, 7, 4, 8, 7, 7, 6, 8, 1, 8, 6, 7, 7, 6, 8, 8, 7, 5, 6, 0, 3,\n",
              "       4, 7, 1, 8, 8, 6, 2, 1, 0, 7, 1, 7, 0, 7, 4, 1, 7, 7, 1, 7, 0, 7,\n",
              "       6, 7, 2, 2, 8, 1, 1, 1, 7, 7, 7, 4, 3, 1, 6, 8, 1, 6, 8, 6, 6, 7,\n",
              "       0, 0, 6, 6, 1, 0, 7], dtype=int32)"
            ]
          },
          "metadata": {
            "tags": []
          },
          "execution_count": 99
        }
      ]
    },
    {
      "cell_type": "code",
      "metadata": {
        "id": "h3vWSJprj26m",
        "colab": {
          "base_uri": "https://localhost:8080/",
          "height": 281
        },
        "outputId": "5ccd6f85-58b5-499b-fa5b-1b55658ebc4d"
      },
      "source": [
        "d=3\n",
        "tau=4\n",
        "\n",
        "embedding = TimeDelayEmbedding(dim=d, delay=tau)(X_train.iloc[idx].dropna()[0:]/ts_max)\n",
        "plt.scatter(embedding[:,0], embedding[:,1])\n",
        "plt.title('Class Type: {}'.format( y_train.iloc[idx]))\n",
        "plt.show()"
      ],
      "execution_count": null,
      "outputs": [
        {
          "output_type": "display_data",
          "data": {
            "image/png": "[encoded data removed]",
            "text/plain": [
              "<Figure size 432x288 with 1 Axes>"
            ]
          },
          "metadata": {
            "tags": [],
            "needs_background": "light"
          }
        }
      ]
    },
    {
      "cell_type": "code",
      "metadata": {
        "id": "xx9ehte15KaP"
      },
      "source": [
        ""
      ],
      "execution_count": null,
      "outputs": []
    },
    {
      "cell_type": "code",
      "metadata": {
        "id": "is9tsslcJrxb",
        "colab": {
          "base_uri": "https://localhost:8080/",
          "height": 281
        },
        "outputId": "7e732f7a-9570-4af0-c8fd-c98ca993294f"
      },
      "source": [
        "idx = 55#250\n",
        "ts_max = X_train.iloc[idx].dropna()[0:].max()\n",
        "plt.plot(X_train.iloc[idx].dropna()[0:])#/ts_max)\n",
        "plt.title('Class Type: {}'.format( y_train.iloc[idx]))\n",
        "plt.show()"
      ],
      "execution_count": null,
      "outputs": [
        {
          "output_type": "display_data",
          "data": {
            "image/png": "[encoded data removed]",
            "text/plain": [
              "<Figure size 432x288 with 1 Axes>"
            ]
          },
          "metadata": {
            "tags": [],
            "needs_background": "light"
          }
        }
      ]
    },
    {
      "cell_type": "code",
      "metadata": {
        "id": "zaKzIKc5Rbss",
        "colab": {
          "base_uri": "https://localhost:8080/",
          "height": 281
        },
        "outputId": "95cdd276-34e6-4514-be32-9a629a592655"
      },
      "source": [
        "d=3\n",
        "tau=4\n",
        "\n",
        "embedding = TimeDelayEmbedding(dim=d, delay=tau)(X_train.iloc[idx].dropna()[0:])\n",
        "plt.scatter(embedding[:,0], embedding[:,1])\n",
        "plt.title('Class Type: {}'.format( y_train.iloc[idx]))\n",
        "plt.show()"
      ],
      "execution_count": null,
      "outputs": [
        {
          "output_type": "display_data",
          "data": {
            "image/png": "[encoded data removed]",
            "text/plain": [
              "<Figure size 432x288 with 1 Axes>"
            ]
          },
          "metadata": {
            "tags": [],
            "needs_background": "light"
          }
        }
      ]
    },
    {
      "cell_type": "code",
      "metadata": {
        "id": "uSZ0gZnjx_Wf",
        "colab": {
          "base_uri": "https://localhost:8080/",
          "height": 319
        },
        "outputId": "fb6f555b-bdaf-4a78-d53d-322e65932483"
      },
      "source": [
        "rips_complex = gudhi.RipsComplex(embedding, max_edge_length=np.sqrt(2), sparse=1)\n",
        "simplex_tree = rips_complex.create_simplex_tree(max_dimension=3)\n",
        "persist = simplex_tree.persistence() #barcode list\n",
        "gudhi.plot_persistence_diagram(persist)"
      ],
      "execution_count": null,
      "outputs": [
        {
          "output_type": "execute_result",
          "data": {
            "text/plain": [
              "<matplotlib.axes._subplots.AxesSubplot at 0x7f2870033240>"
            ]
          },
          "metadata": {
            "tags": []
          },
          "execution_count": 133
        },
        {
          "output_type": "display_data",
          "data": {
            "image/png": "[encoded data removed]",
            "text/plain": [
              "<Figure size 432x288 with 1 Axes>"
            ]
          },
          "metadata": {
            "tags": [],
            "needs_background": "light"
          }
        }
      ]
    },
    {
      "cell_type": "code",
      "metadata": {
        "id": "c8POMjo7dsHU"
      },
      "source": [
        "test = simplex_tree.persistence_intervals_in_dimension(1)\n",
        "\n",
        "def remove_inf(persist_interval):\n",
        "  mask = ~np.isinf(persist_interval[:,1])\n",
        "  return persist_interval[mask]\n",
        "\n",
        "test = remove_inf(test)"
      ],
      "execution_count": null,
      "outputs": []
    },
    {
      "cell_type": "code",
      "metadata": {
        "id": "Un0X6ArRfmAb",
        "colab": {
          "base_uri": "https://localhost:8080/",
          "height": 34
        },
        "outputId": "46db7cf2-8556-4794-f394-d6cdf90e2fcb"
      },
      "source": [
        "test[:,1]-test[:,0]\n",
        "\n",
        "test[:,1].max()\n",
        "\n",
        "n_steps = 500\n",
        "maxr = 0.5\n",
        "radii = np.linspace(0, maxr, n_steps)\n",
        "betti_list = []\n",
        "\n",
        "sum(test[:,1]>=radii[0])"
      ],
      "execution_count": null,
      "outputs": [
        {
          "output_type": "execute_result",
          "data": {
            "text/plain": [
              "31"
            ]
          },
          "metadata": {
            "tags": []
          },
          "execution_count": 135
        }
      ]
    },
    {
      "cell_type": "code",
      "metadata": {
        "id": "rfmSuLPBeVj6",
        "colab": {
          "base_uri": "https://localhost:8080/",
          "height": 283
        },
        "outputId": "3b33dcbd-c6e6-4e13-87b6-9dc2b6fbb160"
      },
      "source": [
        "gudhi.plot_persistence_barcode(simplex_tree.persistence_intervals_in_dimension(1)) \n",
        "#gudhi.plot_persistence_barcode(test)\n",
        "plt.show()"
      ],
      "execution_count": null,
      "outputs": [
        {
          "output_type": "display_data",
          "data": {
            "image/png": "[encoded data removed]",
            "text/plain": [
              "<Figure size 432x288 with 1 Axes>"
            ]
          },
          "metadata": {
            "tags": [],
            "needs_background": "light"
          }
        }
      ]
    },
    {
      "cell_type": "code",
      "metadata": {
        "id": "6oMARbOmX88O"
      },
      "source": [
        "#gudhi.representations.vector_methods.Landscape(num_landscapes=5, resolution=100, sample_range=[nan, nan])\n",
        "\n",
        "from gudhi.representations.vector_methods import Landscape\n"
      ],
      "execution_count": null,
      "outputs": []
    },
    {
      "cell_type": "code",
      "metadata": {
        "id": "H2DQdKdRYMQE",
        "colab": {
          "base_uri": "https://localhost:8080/",
          "height": 282
        },
        "outputId": "e1284f9b-69e9-4148-b3f4-1c27c8ec8719"
      },
      "source": [
        "ls = Landscape(num_landscapes=5)\n",
        "mask = np.where(simplex_tree.persistence_intervals_in_dimension(1)[:,1]!=np.inf)\n",
        "ls.fit([simplex_tree.persistence_intervals_in_dimension(1)[mask]])\n",
        "pers_land=ls.transform([simplex_tree.persistence_intervals_in_dimension(1)[mask]])\n",
        "plt.plot(pers_land.reshape(-1))\n"
      ],
      "execution_count": null,
      "outputs": [
        {
          "output_type": "execute_result",
          "data": {
            "text/plain": [
              "[<matplotlib.lines.Line2D at 0x7f286dbf7be0>]"
            ]
          },
          "metadata": {
            "tags": []
          },
          "execution_count": 138
        },
        {
          "output_type": "display_data",
          "data": {
            "image/png": "[encoded data removed]",
            "text/plain": [
              "<Figure size 432x288 with 1 Axes>"
            ]
          },
          "metadata": {
            "tags": [],
            "needs_background": "light"
          }
        }
      ]
    },
    {
      "cell_type": "code",
      "metadata": {
        "id": "-Odp3CjWambn",
        "colab": {
          "base_uri": "https://localhost:8080/",
          "height": 282
        },
        "outputId": "b99552ca-6167-4e37-df8a-c2318e833bba"
      },
      "source": [
        "\n",
        "plt.plot(pers_land.reshape(-1))\n"
      ],
      "execution_count": null,
      "outputs": [
        {
          "output_type": "execute_result",
          "data": {
            "text/plain": [
              "[<matplotlib.lines.Line2D at 0x7f286ec59f28>]"
            ]
          },
          "metadata": {
            "tags": []
          },
          "execution_count": 97
        },
        {
          "output_type": "display_data",
          "data": {
            "image/png": "[encoded data removed]",
            "text/plain": [
              "<Figure size 432x288 with 1 Axes>"
            ]
          },
          "metadata": {
            "tags": [],
            "needs_background": "light"
          }
        }
      ]
    },
    {
      "cell_type": "code",
      "metadata": {
        "id": "A5kKwyiaK_7u"
      },
      "source": [
        "alpha_complex = gudhi.AlphaComplex(points=embedding)\n",
        "simplex_tree_alpha = alpha_complex.create_simplex_tree(max_alpha_square=.3)\n",
        "diag_alpha = simplex_tree_alpha.persistence()"
      ],
      "execution_count": null,
      "outputs": []
    },
    {
      "cell_type": "code",
      "metadata": {
        "id": "xOZCkUKmNdo0",
        "colab": {
          "base_uri": "https://localhost:8080/",
          "height": 282
        },
        "outputId": "ad2c3d6e-948e-4f4c-f678-05735eee0a86"
      },
      "source": [
        "ls = Landscape(num_landscapes=3, resolution=100)\n",
        "mask = np.where(simplex_tree_alpha.persistence_intervals_in_dimension(1)[:,1]!=np.inf)\n",
        "ls.fit([simplex_tree_alpha.persistence_intervals_in_dimension(1)[mask]])\n",
        "pers_land=ls.transform([simplex_tree_alpha.persistence_intervals_in_dimension(1)[mask]])\n",
        "plt.plot(pers_land.reshape(-1))\n"
      ],
      "execution_count": null,
      "outputs": [
        {
          "output_type": "execute_result",
          "data": {
            "text/plain": [
              "[<matplotlib.lines.Line2D at 0x7f286db760b8>]"
            ]
          },
          "metadata": {
            "tags": []
          },
          "execution_count": 140
        },
        {
          "output_type": "display_data",
          "data": {
            "image/png": "[encoded data removed]",
            "text/plain": [
              "<Figure size 432x288 with 1 Axes>"
            ]
          },
          "metadata": {
            "tags": [],
            "needs_background": "light"
          }
        }
      ]
    },
    {
      "cell_type": "code",
      "metadata": {
        "id": "kySWHp_vnvTS",
        "colab": {
          "base_uri": "https://localhost:8080/",
          "height": 282
        },
        "outputId": "2d24c091-de7b-4afe-8f02-adee7aecf147"
      },
      "source": [
        "mask = np.where(simplex_tree_alpha.persistence_intervals_in_dimension(0)[:,1]!=np.inf)\n",
        "ls.fit([simplex_tree_alpha.persistence_intervals_in_dimension(0)[mask]])\n",
        "pers_land=ls.transform([simplex_tree_alpha.persistence_intervals_in_dimension(0)[mask]])\n",
        "plt.plot(pers_land.reshape(-1))"
      ],
      "execution_count": null,
      "outputs": [
        {
          "output_type": "execute_result",
          "data": {
            "text/plain": [
              "[<matplotlib.lines.Line2D at 0x7f286dad15f8>]"
            ]
          },
          "metadata": {
            "tags": []
          },
          "execution_count": 141
        },
        {
          "output_type": "display_data",
          "data": {
            "image/png": "[encoded data removed]",
            "text/plain": [
              "<Figure size 432x288 with 1 Axes>"
            ]
          },
          "metadata": {
            "tags": [],
            "needs_background": "light"
          }
        }
      ]
    },
    {
      "cell_type": "code",
      "metadata": {
        "id": "zH2NKrOirx0n",
        "colab": {
          "base_uri": "https://localhost:8080/",
          "height": 282
        },
        "outputId": "a5eefdc8-ba2d-4e67-f2eb-3852016b66c1"
      },
      "source": [
        "mask = np.where(simplex_tree_alpha.persistence_intervals_in_dimension(2)[:,1]!=np.inf)\n",
        "ls.fit([simplex_tree_alpha.persistence_intervals_in_dimension(2)[mask]])\n",
        "pers_land=ls.transform([simplex_tree_alpha.persistence_intervals_in_dimension(2)[mask]])\n",
        "plt.plot(pers_land.reshape(-1))"
      ],
      "execution_count": null,
      "outputs": [
        {
          "output_type": "execute_result",
          "data": {
            "text/plain": [
              "[<matplotlib.lines.Line2D at 0x7f286daae828>]"
            ]
          },
          "metadata": {
            "tags": []
          },
          "execution_count": 142
        },
        {
          "output_type": "display_data",
          "data": {
            "image/png": "[encoded data removed]",
            "text/plain": [
              "<Figure size 432x288 with 1 Axes>"
            ]
          },
          "metadata": {
            "tags": [],
            "needs_background": "light"
          }
        }
      ]
    },
    {
      "cell_type": "markdown",
      "metadata": {
        "id": "4-nzJmyxCkL-"
      },
      "source": [
        "Giotto\n"
      ]
    },
    {
      "cell_type": "code",
      "metadata": {
        "id": "5kUbMxeVtI8W",
        "colab": {
          "base_uri": "https://localhost:8080/",
          "height": 282
        },
        "outputId": "9f3669f7-5bf0-4d62-b39d-10f58919fbdf"
      },
      "source": [
        "idx = 200\n",
        "ts_max = ts.iloc[idx].dropna().max()\n",
        "norm_ts = ts.iloc[idx].dropna()/ts_max\n",
        "plt.plot(norm_ts)\n",
        "plt.show()\n",
        "print(norm_ts.size)"
      ],
      "execution_count": null,
      "outputs": [
        {
          "output_type": "display_data",
          "data": {
            "image/png": "[encoded data removed]",
            "text/plain": [
              "<Figure size 432x288 with 1 Axes>"
            ]
          },
          "metadata": {
            "tags": [],
            "needs_background": "light"
          }
        },
        {
          "output_type": "stream",
          "text": [
            "200\n"
          ],
          "name": "stdout"
        }
      ]
    },
    {
      "cell_type": "code",
      "metadata": {
        "id": "k6V2J6CSECyZ"
      },
      "source": [
        "y = np.linspace(0, norm_ts.size/sr, norm_ts.size)"
      ],
      "execution_count": null,
      "outputs": []
    },
    {
      "cell_type": "code",
      "metadata": {
        "id": "cSrEve9VCQ1R",
        "colab": {
          "base_uri": "https://localhost:8080/",
          "height": 231
        },
        "outputId": "ab3bf90c-ce0a-4e27-af40-fd72e1ae3225"
      },
      "source": [
        "window_size = 5\n",
        "stride = 2\n",
        "\n",
        "SW = SlidingWindow(width=window_size, stride=stride)\n",
        "X_sw, yr = SW.fit_transform_resample(norm_ts, y)\n",
        "#X_sw, yr"
      ],
      "execution_count": null,
      "outputs": [
        {
          "output_type": "error",
          "ename": "TypeError",
          "evalue": "ignored",
          "traceback": [
            "\u001b[0;31m---------------------------------------------------------------------------\u001b[0m",
            "\u001b[0;31mTypeError\u001b[0m                                 Traceback (most recent call last)",
            "\u001b[0;32m<ipython-input-22-1b0a4ee439fd>\u001b[0m in \u001b[0;36m<module>\u001b[0;34m()\u001b[0m\n\u001b[1;32m      2\u001b[0m \u001b[0mstride\u001b[0m \u001b[0;34m=\u001b[0m \u001b[0;36m2\u001b[0m\u001b[0;34m\u001b[0m\u001b[0;34m\u001b[0m\u001b[0m\n\u001b[1;32m      3\u001b[0m \u001b[0;34m\u001b[0m\u001b[0m\n\u001b[0;32m----> 4\u001b[0;31m \u001b[0mSW\u001b[0m \u001b[0;34m=\u001b[0m \u001b[0mSlidingWindow\u001b[0m\u001b[0;34m(\u001b[0m\u001b[0mwidth\u001b[0m\u001b[0;34m=\u001b[0m\u001b[0mwindow_size\u001b[0m\u001b[0;34m,\u001b[0m \u001b[0mstride\u001b[0m\u001b[0;34m=\u001b[0m\u001b[0mstride\u001b[0m\u001b[0;34m)\u001b[0m\u001b[0;34m\u001b[0m\u001b[0;34m\u001b[0m\u001b[0m\n\u001b[0m\u001b[1;32m      5\u001b[0m \u001b[0mX_sw\u001b[0m\u001b[0;34m,\u001b[0m \u001b[0myr\u001b[0m \u001b[0;34m=\u001b[0m \u001b[0mSW\u001b[0m\u001b[0;34m.\u001b[0m\u001b[0mfit_transform_resample\u001b[0m\u001b[0;34m(\u001b[0m\u001b[0mnorm_ts\u001b[0m\u001b[0;34m,\u001b[0m \u001b[0my\u001b[0m\u001b[0;34m)\u001b[0m\u001b[0;34m\u001b[0m\u001b[0;34m\u001b[0m\u001b[0m\n\u001b[1;32m      6\u001b[0m \u001b[0;31m#X_sw, yr\u001b[0m\u001b[0;34m\u001b[0m\u001b[0;34m\u001b[0m\u001b[0;34m\u001b[0m\u001b[0m\n",
            "\u001b[0;31mTypeError\u001b[0m: __init__() got an unexpected keyword argument 'width'"
          ]
        }
      ]
    },
    {
      "cell_type": "code",
      "metadata": {
        "id": "C-uD0hhRD3Jb",
        "colab": {
          "base_uri": "https://localhost:8080/",
          "height": 197
        },
        "outputId": "1c1947b6-3574-4a3e-96bd-3525a82e319a"
      },
      "source": [
        "time_delay = 4\n",
        "dimension = 3\n",
        "\n",
        "TE = TakensEmbedding(time_delay=time_delay, dimension=dimension)\n",
        "X_te = TE.fit_transform(X_train.iloc[idx].dropna())"
      ],
      "execution_count": null,
      "outputs": [
        {
          "output_type": "error",
          "ename": "NameError",
          "evalue": "ignored",
          "traceback": [
            "\u001b[0;31m---------------------------------------------------------------------------\u001b[0m",
            "\u001b[0;31mNameError\u001b[0m                                 Traceback (most recent call last)",
            "\u001b[0;32m<ipython-input-18-3b7a6a586c52>\u001b[0m in \u001b[0;36m<module>\u001b[0;34m()\u001b[0m\n\u001b[1;32m      3\u001b[0m \u001b[0;34m\u001b[0m\u001b[0m\n\u001b[1;32m      4\u001b[0m \u001b[0mTE\u001b[0m \u001b[0;34m=\u001b[0m \u001b[0mTakensEmbedding\u001b[0m\u001b[0;34m(\u001b[0m\u001b[0mtime_delay\u001b[0m\u001b[0;34m=\u001b[0m\u001b[0mtime_delay\u001b[0m\u001b[0;34m,\u001b[0m \u001b[0mdimension\u001b[0m\u001b[0;34m=\u001b[0m\u001b[0mdimension\u001b[0m\u001b[0;34m)\u001b[0m\u001b[0;34m\u001b[0m\u001b[0;34m\u001b[0m\u001b[0m\n\u001b[0;32m----> 5\u001b[0;31m \u001b[0mX_te\u001b[0m \u001b[0;34m=\u001b[0m \u001b[0mTE\u001b[0m\u001b[0;34m.\u001b[0m\u001b[0mfit_transform\u001b[0m\u001b[0;34m(\u001b[0m\u001b[0mX_train\u001b[0m\u001b[0;34m.\u001b[0m\u001b[0miloc\u001b[0m\u001b[0;34m[\u001b[0m\u001b[0midx\u001b[0m\u001b[0;34m]\u001b[0m\u001b[0;34m.\u001b[0m\u001b[0mdropna\u001b[0m\u001b[0;34m(\u001b[0m\u001b[0;34m)\u001b[0m\u001b[0;34m)\u001b[0m\u001b[0;34m\u001b[0m\u001b[0;34m\u001b[0m\u001b[0m\n\u001b[0m",
            "\u001b[0;31mNameError\u001b[0m: name 'idx' is not defined"
          ]
        }
      ]
    },
    {
      "cell_type": "code",
      "metadata": {
        "id": "62aSQacFGgqj"
      },
      "source": [
        "X_te.shape"
      ],
      "execution_count": null,
      "outputs": []
    },
    {
      "cell_type": "code",
      "metadata": {
        "id": "2J1C2ymiHbFy"
      },
      "source": [
        "#plt.scatter(X_te[:,0], X_te[:,1])"
      ],
      "execution_count": null,
      "outputs": []
    },
    {
      "cell_type": "code",
      "metadata": {
        "id": "oZyc-s2UIbYU"
      },
      "source": [
        "from gtda.homology import VietorisRipsPersistence\n",
        "\n",
        "# 0 - connected components, 1 - loops, 2 - voids\n",
        "#homology_dimensions = [0, 1]\n",
        "\n",
        "#periodic_persistence = VietorisRipsPersistence(\n",
        "#    homology_dimensions=homology_dimensions, n_jobs=6\n",
        "#)\n",
        "#print(\"Persistence diagram for periodic signal\")\n",
        "#periodic_persistence.fit_transform_plot([X_te])\n"
      ],
      "execution_count": null,
      "outputs": []
    },
    {
      "cell_type": "code",
      "metadata": {
        "id": "2unUBv35wG0s",
        "colab": {
          "base_uri": "https://localhost:8080/",
          "height": 231
        },
        "outputId": "a47666e8-8a59-4350-f521-3df28ad9d3dd"
      },
      "source": [
        "embedder = TakensEmbedding(parameters_type='search', dimension=d,\n",
        "                                  time_delay=4, n_jobs=-1)\n",
        "embedder.fit(X_train[idx].dropna())\n",
        "embedder_time_delay = embedder.time_delay_\n",
        "embedder_dimension = embedder.dimension_\n",
        "\n",
        "print('Optimal embedding time delay based on mutual information: ', embedder_time_delay)\n",
        "print('Optimal embedding dimension based on false nearest neighbors: ', embedder_dimension)\n",
        "\n",
        "X_te = embedder.fit_transform(X_train.iloc[idx].dropna())\n",
        "\n",
        "# 0 - connected components, 1 - loops, 2 - voids\n",
        "homology_dimensions = [0, 1]\n",
        "\n",
        "persistence_diagram = VietorisRipsPersistence(\n",
        "    homology_dimensions=homology_dimensions, n_jobs=-1)\n",
        "\n",
        "X_diagrams = persistence_diagram.fit_transform([X_te])\n",
        "diagram_scaler = diag.Scaler()\n",
        "diagram_scaler.fit(X_diagrams)\n",
        "X_scaled = diagram_scaler.transform(X_diagrams)\n",
        "\n",
        "persistent_entropy = diag.PersistenceEntropy()\n",
        "X_persistent_entropy = persistent_entropy.fit_transform(X_scaled)\n",
        "\n",
        "betti_curves = diag.BettiCurve(n_bins=500)\n",
        "betti_curves.fit(X_scaled)\n",
        "X_betti_curves = betti_curves.transform(X_scaled)\n",
        "\n",
        "df_betti_list = []\n",
        "for i in homology_dimensions:\n",
        "  df_betti_list.append(pd.DataFrame(X_betti_curves[:, i, :]))\n",
        "\n",
        " # if return_betti_surface==True:\n",
        "  #    return (X_scaled, df_betti_list, X_betti_curves)\n",
        "   # else:\n",
        "    #    return (X_scaled, df_betti_list"
      ],
      "execution_count": null,
      "outputs": [
        {
          "output_type": "error",
          "ename": "NameError",
          "evalue": "ignored",
          "traceback": [
            "\u001b[0;31m---------------------------------------------------------------------------\u001b[0m",
            "\u001b[0;31mNameError\u001b[0m                                 Traceback (most recent call last)",
            "\u001b[0;32m<ipython-input-16-5e71ce5f5368>\u001b[0m in \u001b[0;36m<module>\u001b[0;34m()\u001b[0m\n\u001b[0;32m----> 1\u001b[0;31m embedder = TakensEmbedding(parameters_type='search', dimension=d,\n\u001b[0m\u001b[1;32m      2\u001b[0m                                   time_delay=4, n_jobs=-1)\n\u001b[1;32m      3\u001b[0m \u001b[0membedder\u001b[0m\u001b[0;34m.\u001b[0m\u001b[0mfit\u001b[0m\u001b[0;34m(\u001b[0m\u001b[0mX_train\u001b[0m\u001b[0;34m[\u001b[0m\u001b[0midx\u001b[0m\u001b[0;34m]\u001b[0m\u001b[0;34m.\u001b[0m\u001b[0mdropna\u001b[0m\u001b[0;34m(\u001b[0m\u001b[0;34m)\u001b[0m\u001b[0;34m)\u001b[0m\u001b[0;34m\u001b[0m\u001b[0;34m\u001b[0m\u001b[0m\n\u001b[1;32m      4\u001b[0m \u001b[0membedder_time_delay\u001b[0m \u001b[0;34m=\u001b[0m \u001b[0membedder\u001b[0m\u001b[0;34m.\u001b[0m\u001b[0mtime_delay_\u001b[0m\u001b[0;34m\u001b[0m\u001b[0;34m\u001b[0m\u001b[0m\n\u001b[1;32m      5\u001b[0m \u001b[0membedder_dimension\u001b[0m \u001b[0;34m=\u001b[0m \u001b[0membedder\u001b[0m\u001b[0;34m.\u001b[0m\u001b[0mdimension_\u001b[0m\u001b[0;34m\u001b[0m\u001b[0;34m\u001b[0m\u001b[0m\n",
            "\u001b[0;31mNameError\u001b[0m: name 'd' is not defined"
          ]
        }
      ]
    },
    {
      "cell_type": "code",
      "metadata": {
        "id": "gbo8k0y-1YUl"
      },
      "source": [
        "def num_relevant_holes(X_scaled, homology_dim, theta=0.7):\n",
        "    \"\"\"\n",
        "    INPUT:\n",
        "        X_scaled: scaled persistence diagrams, numpy array\n",
        "        homology_dim: dimension of the homology to consider, integer\n",
        "        theta: value between 0 and 1 to be used to calculate the threshold, float\n",
        "    OUTPUT:\n",
        "        n_rel_holes: list of the number of relevant holes in each time window\n",
        "    \"\"\"\n",
        "\n",
        "    n_rel_holes = []\n",
        "\n",
        "    for i in range(X_scaled.shape[0]):\n",
        "        persistence_table = pd.DataFrame(X_scaled[i], columns=['birth', 'death', 'homology'])\n",
        "        persistence_table['lifetime'] = persistence_table['death'] - persistence_table['birth']\n",
        "        threshold = persistence_table[persistence_table['homology'] == homology_dim]['lifetime'].max() * theta\n",
        "        n_rel_holes.append(persistence_table[(persistence_table['lifetime'] > threshold)\n",
        "                                             & (persistence_table['homology'] == homology_dim)].shape[0])\n",
        "    return n_rel_holes\n",
        "\n",
        "num_relevant_holes(X_scaled, 1, theta=0.7)"
      ],
      "execution_count": null,
      "outputs": []
    },
    {
      "cell_type": "code",
      "metadata": {
        "id": "jMuEQhl4hXZX",
        "colab": {
          "base_uri": "https://localhost:8080/",
          "height": 928
        },
        "outputId": "92184b17-a6a1-4fa0-8c21-b32f2dfcc1be"
      },
      "source": [
        "plt.plot(X_betti_curves[0][0])\n",
        "\n",
        "X_te.shape\n",
        "\n",
        "X_betti_curves[0][0]\n"
      ],
      "execution_count": null,
      "outputs": [
        {
          "output_type": "execute_result",
          "data": {
            "text/plain": [
              "array([195,  96,  36,  22,  22,  21,  19,  19,  18,  17,  16,  15,  15,\n",
              "        15,  15,  15,  15,  15,  15,  15,  15,  15,  15,  15,  15,  15,\n",
              "        14,  14,  14,  14,  13,  13,  13,  13,  13,  13,  13,  13,  13,\n",
              "        13,  13,  13,  12,  11,  10,   9,   9,   9,   9,   9,   9,   9,\n",
              "         9,   9,   9,   9,   9,   9,   9,   9,   9,   9,   9,   9,   9,\n",
              "         9,   9,   9,   9,   9,   9,   8,   8,   8,   8,   8,   8,   8,\n",
              "         8,   8,   8,   8,   8,   8,   8,   8,   8,   8,   8,   8,   8,\n",
              "         8,   8,   8,   8,   8,   8,   8,   8,   8,   8,   8,   8,   8,\n",
              "         8,   8,   8,   8,   8,   8,   8,   8,   8,   8,   8,   8,   8,\n",
              "         8,   8,   8,   8,   8,   8,   8,   8,   8,   8,   8,   8,   8,\n",
              "         8,   8,   8,   8,   8,   8,   8,   8,   8,   8,   8,   8,   8,\n",
              "         8,   8,   8,   8,   8,   8,   8,   8,   8,   8,   8,   8,   8,\n",
              "         8,   8,   8,   8,   8,   8,   8,   8,   8,   8,   8,   8,   8,\n",
              "         8,   8,   8,   8,   8,   8,   8,   8,   8,   8,   8,   8,   8,\n",
              "         8,   8,   8,   8,   8,   8,   8,   8,   8,   8,   8,   8,   8,\n",
              "         8,   8,   8,   8,   8,   8,   8,   8,   8,   8,   8,   8,   8,\n",
              "         8,   8,   8,   8,   8,   8,   8,   8,   8,   8,   8,   7,   7,\n",
              "         7,   7,   7,   7,   7,   7,   7,   7,   7,   7,   7,   7,   7,\n",
              "         7,   7,   7,   7,   7,   7,   7,   7,   7,   7,   7,   7,   7,\n",
              "         7,   7,   7,   7,   7,   7,   7,   7,   7,   7,   7,   7,   7,\n",
              "         7,   7,   7,   7,   7,   7,   6,   6,   6,   6,   6,   6,   6,\n",
              "         6,   6,   6,   6,   6,   6,   6,   6,   6,   6,   6,   6,   6,\n",
              "         6,   6,   6,   6,   6,   6,   6,   6,   6,   6,   6,   6,   6,\n",
              "         6,   6,   6,   6,   6,   6,   6,   6,   6,   6,   6,   6,   6,\n",
              "         6,   6,   6,   6,   6,   6,   6,   6,   6,   6,   6,   6,   6,\n",
              "         6,   6,   6,   6,   6,   6,   6,   6,   6,   6,   6,   5,   4,\n",
              "         4,   4,   4,   4,   4,   4,   4,   4,   4,   4,   4,   4,   4,\n",
              "         4,   4,   4,   4,   4,   4,   4,   4,   4,   4,   4,   4,   4,\n",
              "         4,   4,   4,   4,   4,   4,   4,   4,   4,   3,   3,   2,   2,\n",
              "         2,   2,   2,   2,   2,   2,   2,   2,   2,   2,   2,   2,   2,\n",
              "         2,   2,   1,   1,   1,   1,   1,   1,   1,   1,   1,   1,   1,\n",
              "         1,   1,   1,   1,   1,   1,   1,   1,   1,   1,   1,   1,   1,\n",
              "         1,   1,   1,   1,   1,   1,   1,   1,   1,   1,   1,   1,   1,\n",
              "         1,   1,   1,   1,   1,   1,   1,   1,   1,   1,   1,   1,   1,\n",
              "         1,   1,   1,   1,   1,   1,   1,   1,   1,   1,   1,   1,   1,\n",
              "         1,   1,   1,   1,   1,   1,   1,   1,   1,   1,   1,   1,   1,\n",
              "         1,   1,   1,   1,   1,   1,   1,   1,   1,   1,   1,   1,   1,\n",
              "         1,   1,   1,   1,   1,   1,   1,   1,   1,   1,   1,   1,   1,\n",
              "         1,   1,   1,   1,   1,   0])"
            ]
          },
          "metadata": {
            "tags": []
          },
          "execution_count": 14
        },
        {
          "output_type": "display_data",
          "data": {
            "image/png": "[encoded data removed]",
            "text/plain": [
              "<Figure size 432x288 with 1 Axes>"
            ]
          },
          "metadata": {
            "tags": [],
            "needs_background": "light"
          }
        }
      ]
    },
    {
      "cell_type": "markdown",
      "metadata": {
        "id": "jXijpLnSb0_s"
      },
      "source": [
        "Data preparation"
      ]
    },
    {
      "cell_type": "code",
      "metadata": {
        "id": "G0iM9-Mzb4l3"
      },
      "source": [
        ""
      ],
      "execution_count": null,
      "outputs": []
    },
    {
      "cell_type": "code",
      "metadata": {
        "id": "-zwtrMgEb_aG",
        "colab": {
          "base_uri": "https://localhost:8080/",
          "height": 282
        },
        "outputId": "c923cb15-5c84-44dd-8792-fedb9fdac9bb"
      },
      "source": [
        "# PLAID data\n",
        "sr =  30_000 # sample rate\n",
        "train_df = pd.read_csv('./UCRArchive_2018/PLAID/PLAID_TRAIN.tsv', \n",
        "                       sep='\\t', header=None)\n",
        "labels = train_df.iloc[:,0]\n",
        "ts = train_df.iloc[:,1:]\n",
        "\n",
        "X_train, X_test, y_train, y_test = train_test_split(ts, labels, \n",
        "                                   test_size=0.33, random_state=13)\n",
        "\n",
        "# not using search, fixing d and tau\n",
        "# Define embedding dimension and delay factor\n",
        "d = 3\n",
        "tau =1 \n",
        "embedder = TakensEmbedding(parameters_type='fixed', dimension=d,\n",
        "                                  time_delay=1, n_jobs=-1)\n",
        "idx=39\n",
        "embedder.fit(X_train[idx].dropna())\n",
        "X_te = embedder.fit_transform(X_train.iloc[idx].dropna())\n",
        "\n",
        "\n",
        "# Look at 0-dimension connected components and 1-d loops\n",
        "homology_dimensions = [0, 1]\n",
        "\n",
        "persistence_diagram = VietorisRipsPersistence(\n",
        "    homology_dimensions=homology_dimensions, n_jobs=-1)\n",
        "\n",
        "X_diagrams = persistence_diagram.fit_transform([X_te])\n",
        "diagram_scaler = diag.Scaler()\n",
        "diagram_scaler.fit(X_diagrams)\n",
        "X_scaled = diagram_scaler.transform(X_diagrams)\n",
        "\n",
        "#persistent_entropy = diag.PersistenceEntropy()\n",
        "#X_persistent_entropy = persistent_entropy.fit_transform(X_scaled)\n",
        "\n",
        "# Calculate Betti curves for each homology dimension\n",
        "betti_curves = diag.BettiCurve(n_bins=500)\n",
        "betti_curves.fit(X_scaled)\n",
        "X_betti_curves = betti_curves.transform(X_scaled)\n",
        "\n",
        "X_betti_curves.shape # batch, channels, time\n",
        "plt.plot(X_betti_curves[0][0])\n",
        "\n",
        "# for every sample create this 0 and 1 d betti surface"
      ],
      "execution_count": null,
      "outputs": [
        {
          "output_type": "execute_result",
          "data": {
            "text/plain": [
              "[<matplotlib.lines.Line2D at 0x7fe67d64bc18>]"
            ]
          },
          "metadata": {
            "tags": []
          },
          "execution_count": 104
        },
        {
          "output_type": "display_data",
          "data": {
            "image/png": "[encoded data removed]",
            "text/plain": [
              "<Figure size 432x288 with 1 Axes>"
            ]
          },
          "metadata": {
            "tags": [],
            "needs_background": "light"
          }
        }
      ]
    },
    {
      "cell_type": "code",
      "metadata": {
        "id": "iU0MH2UsiaTd",
        "colab": {
          "base_uri": "https://localhost:8080/",
          "height": 282
        },
        "outputId": "029757a0-2a27-4577-937b-d98d96ba78b1"
      },
      "source": [
        "import torch\n",
        "from torch import nn\n",
        "import torchvision\n",
        "\n",
        "m = nn.Conv1d(2,10,4,stride=2)\n",
        "output = m(torch.tensor(X_betti_curves[0]).unsqueeze(0).float())\n",
        "\n",
        "plt.plot(output[0,2,:].detach().numpy())"
      ],
      "execution_count": null,
      "outputs": [
        {
          "output_type": "execute_result",
          "data": {
            "text/plain": [
              "[<matplotlib.lines.Line2D at 0x7fe67ad57be0>]"
            ]
          },
          "metadata": {
            "tags": []
          },
          "execution_count": 107
        },
        {
          "output_type": "display_data",
          "data": {
            "image/png": "[encoded data removed]",
            "text/plain": [
              "<Figure size 432x288 with 1 Axes>"
            ]
          },
          "metadata": {
            "tags": [],
            "needs_background": "light"
          }
        }
      ]
    },
    {
      "cell_type": "code",
      "metadata": {
        "id": "Bf6Po4b9sowA",
        "colab": {
          "base_uri": "https://localhost:8080/",
          "height": 281
        },
        "outputId": "a8a1b5b4-0f69-4c32-a631-b56a0461eff5"
      },
      "source": [
        "plt.scatter(X_te[:,0], X_te[:,1])\n",
        "plt.title('Class Type: {}'.format( y_train.iloc[idx]))\n",
        "plt.show()"
      ],
      "execution_count": null,
      "outputs": [
        {
          "output_type": "display_data",
          "data": {
            "image/png": "[encoded data removed]",
            "text/plain": [
              "<Figure size 432x288 with 1 Axes>"
            ]
          },
          "metadata": {
            "tags": [],
            "needs_background": "light"
          }
        }
      ]
    },
    {
      "cell_type": "code",
      "metadata": {
        "id": "GHTKXJ9Ktojz",
        "colab": {
          "base_uri": "https://localhost:8080/",
          "height": 265
        },
        "outputId": "03f95d4a-f780-4c28-a624-14725b72054a"
      },
      "source": [
        "import matplotlib.pyplot as plt\n",
        "from mpl_toolkits.mplot3d import Axes3D\n",
        "fig = plt.figure()\n",
        "ax = fig.add_subplot(111, projection='3d')\n",
        "\n",
        "ax.scatter(X_te[:,0], X_te[:,1], X_te[:,2])\n"
      ],
      "execution_count": null,
      "outputs": [
        {
          "output_type": "execute_result",
          "data": {
            "text/plain": [
              "<mpl_toolkits.mplot3d.art3d.Path3DCollection at 0x7fe67a9382e8>"
            ]
          },
          "metadata": {
            "tags": []
          },
          "execution_count": 98
        },
        {
          "output_type": "display_data",
          "data": {
            "image/png": "[encoded data removed]",
            "text/plain": [
              "<Figure size 432x288 with 1 Axes>"
            ]
          },
          "metadata": {
            "tags": [],
            "needs_background": "light"
          }
        }
      ]
    },
    {
      "cell_type": "code",
      "metadata": {
        "id": "RPyOfuVfI49n"
      },
      "source": [
        "ef tda_diagrams(path,\n",
        "                 embedding_time_delay,\n",
        "                 embedding_dimension,\n",
        "                 window_width,\n",
        "                 window_stride,\n",
        "                 homology_dim=2,\n",
        "                 return_betti_surface=False):\n",
        "    \"\"\"\n",
        "    INPUT:\n",
        "        path: int (number to OpenML dataset)\n",
        "        embedder_time_delay: int\n",
        "        embedding_dimension: int\n",
        "        window_width: int\n",
        "        window_stride: int\n",
        "        homology_dim: int\n",
        "        return_betti_surface: boolean\n",
        "    OUTPUT:\n",
        "        X_scaled: persistence diagrams\n",
        "        df_betti_list: List of Betti curve DataFrames\n",
        "    \"\"\"\n",
        "\n",
        "    df = get_dataset(path)\n",
        "    df = df.get_data()[0]\n",
        "    df.rename({'label': 'y', 'coord_0': 'x'}, axis='columns', inplace=True)\n",
        "    df['idx'] = np.arange(len(df))\n",
        "\n",
        "    embedder = ts.TakensEmbedding(parameters_type='search', dimension=embedding_dimension,\n",
        "                                  time_delay=embedding_time_delay, n_jobs=-1)\n",
        "    embedder.fit(df['x'])\n",
        "    embedder_time_delay = embedder.time_delay_\n",
        "    embedder_dimension = embedder.dimension_\n",
        "\n",
        "    print('Optimal embedding time delay based on mutual information: ', embedder_time_delay)\n",
        "    print('Optimal embedding dimension based on false nearest neighbors: ', embedder_dimension)\n",
        "\n",
        "    X_embedded, y_embedded = embedder.transform_resample(df['x'], df['y'])\n",
        "    sliding_window = ts.SlidingWindow(width=window_width, stride=window_stride)\n",
        "    sliding_window.fit(X_embedded, y_embedded)\n",
        "\n",
        "    X_windows, y_windows = sliding_window.transform_resample(X_embedded, y_embedded)\n",
        "\n",
        "    homology_dimensions = [0, 1, 2]\n",
        "    persistenceDiagram = hl.VietorisRipsPersistence(metric='euclidean', max_edge_length=10,\n",
        "                                                    homology_dimensions=homology_dimensions, n_jobs=-1)\n",
        "\n",
        "    X_diagrams = persistenceDiagram.fit_transform(X_windows[:])\n",
        "    diagram_scaler = diag.Scaler()\n",
        "    diagram_scaler.fit(X_diagrams)\n",
        "    X_scaled = diagram_scaler.transform(X_diagrams)\n",
        "\n",
        "    persistent_entropy = diag.PersistenceEntropy()\n",
        "    X_persistent_entropy = persistent_entropy.fit_transform(X_scaled)\n",
        "\n",
        "    betti_curves = diag.BettiCurve()\n",
        "    betti_curves.fit(X_scaled)\n",
        "    X_betti_curves = betti_curves.transform(X_scaled)\n",
        "\n",
        "    df_betti_list = []\n",
        "    for i in homology_dimensions:\n",
        "        df_betti_list.append(pd.DataFrame(X_betti_curves[:, i, :]))\n",
        "\n",
        "    if return_betti_surface==True:\n",
        "        return (X_scaled, df_betti_list, X_betti_curves)\n",
        "    else:\n",
        "        return (X_scaled, df_betti_list"
      ],
      "execution_count": null,
      "outputs": []
    },
    {
      "cell_type": "code",
      "metadata": {
        "id": "AXXYhqmo3Z0B"
      },
      "source": [
        "\"\"\"Plot functions \"\"\"\n",
        "\n",
        "import numpy as np\n",
        "import plotly.graph_objs as gobj\n",
        "from gtda.diagrams._utils import _subdiagrams\n",
        "\n",
        "\n",
        "def plot_point_cloud(point_cloud, dimension=None):\n",
        "    \"\"\"Plot the first 2 or 3 coordinates of the point cloud.\n",
        "     This function will not work on 1-dimensional arrays.\n",
        "    Parameters\n",
        "    ----------\n",
        "    point_cloud : ndarray, shape (n_samples, n_dimensions)\n",
        "        Data points to be represented in a 2D or 3D scatter plot. Only the\n",
        "        first 2 or 3 dimensions will be considered for plotting.\n",
        "    dimension : int or None, default : ``None``\n",
        "        This parameter sets the dimension of the resulting plot. If ``None``,\n",
        "        the dimension will be chosen between 2 and 3 depending on\n",
        "        ``n_dimensions`` see Input).\n",
        "    \"\"\"\n",
        "    if dimension is None:\n",
        "        dimension = np.min((3, point_cloud.shape[1]))\n",
        "\n",
        "    # Check consistency between point_cloud and dimension\n",
        "    if point_cloud.shape[1] < dimension:\n",
        "        raise ValueError(\"Not enough dimensions available in the input point\"\n",
        "                         \"cloud.\")\n",
        "\n",
        "    if dimension == 2:\n",
        "        layout = {\n",
        "            \"title\": \"Point Cloud\",\n",
        "            \"width\": 800,\n",
        "            \"height\": 800,\n",
        "            \"xaxis1\": {\n",
        "                \"title\": \"First coordinate\",\n",
        "                \"side\": \"bottom\",\n",
        "                \"type\": \"linear\",\n",
        "                \"ticks\": \"outside\",\n",
        "                \"anchor\": \"x1\",\n",
        "                \"showline\": True,\n",
        "                \"zeroline\": True,\n",
        "                \"showexponent\": \"all\",\n",
        "                \"exponentformat\": \"e\"\n",
        "            },\n",
        "            \"yaxis1\": {\n",
        "                \"title\": \"Second coordinate\",\n",
        "                \"side\": \"left\",\n",
        "                \"type\": \"linear\",\n",
        "                \"ticks\": \"outside\",\n",
        "                \"anchor\": \"y1\",\n",
        "                \"showline\": True,\n",
        "                \"zeroline\": True,\n",
        "                \"showexponent\": \"all\",\n",
        "                \"exponentformat\": \"e\"\n",
        "            },\n",
        "            \"plot_bgcolor\": \"white\"\n",
        "        }\n",
        "\n",
        "        fig = gobj.Figure(layout=layout)\n",
        "        fig.update_xaxes(zeroline=True, linewidth=1, linecolor='black',\n",
        "                         mirror=False)\n",
        "        fig.update_yaxes(zeroline=True, linewidth=1, linecolor='black',\n",
        "                         mirror=False)\n",
        "\n",
        "        fig.add_trace(gobj.Scatter(x=point_cloud[:, 0],\n",
        "                                   y=point_cloud[:, 1],\n",
        "                                   mode='markers',\n",
        "                                   marker=dict(size=4,\n",
        "                                               color=list(range(\n",
        "                                                   point_cloud.shape[0])),\n",
        "                                               colorscale='Viridis',\n",
        "                                               opacity=0.8)))\n",
        "        fig.show()\n",
        "    elif dimension == 3:\n",
        "\n",
        "        scene = {\n",
        "            \"xaxis\": {\n",
        "                \"title\": \"First coordinate\",\n",
        "                \"type\": \"linear\",\n",
        "                \"showexponent\": \"all\",\n",
        "                \"exponentformat\": \"e\"\n",
        "            },\n",
        "            \"yaxis\": {\n",
        "                \"title\": \"Second coordinate\",\n",
        "                \"type\": \"linear\",\n",
        "                \"showexponent\": \"all\",\n",
        "                \"exponentformat\": \"e\"\n",
        "            },\n",
        "            \"zaxis\": {\n",
        "                \"title\": \"Third coordinate\",\n",
        "                \"type\": \"linear\",\n",
        "                \"showexponent\": \"all\",\n",
        "                \"exponentformat\": \"e\"\n",
        "            }\n",
        "        }\n",
        "\n",
        "        fig = gobj.Figure()\n",
        "        fig.update_layout(scene=scene, title=\"Point cloud\")\n",
        "\n",
        "        fig.add_trace(gobj.Scatter3d(x=point_cloud[:, 0],\n",
        "                                     y=point_cloud[:, 1],\n",
        "                                     z=point_cloud[:, 2],\n",
        "                                     mode='markers',\n",
        "                                     marker=dict(size=4,\n",
        "                                                 color=list(range(\n",
        "                                                     point_cloud.shape[0])),\n",
        "                                                 colorscale='Viridis',\n",
        "                                                 opacity=0.8)))\n",
        "\n",
        "        fig.show()\n",
        "    else:\n",
        "        raise ValueError(\"The value of the dimension is different from 2 or 3\")\n",
        "\n",
        "\n",
        "def plot_diagram(diagram, homology_dimensions=None):\n",
        "    \"\"\"Plot a single persistence diagram.\n",
        "    Parameters\n",
        "    ----------\n",
        "    diagram : ndarray, shape (n_points, 3)\n",
        "        The persistence diagram to plot, where the third dimension along axis 1\n",
        "        contains homology dimensions, and the other two contain (birth, death)\n",
        "        pairs to be used as coordinates in the two-dimensional plot.\n",
        "    homology_dimensions : list of int or None, default: ``None``\n",
        "        Homology dimensions which will appear on the plot. If ``None``, all\n",
        "        homology dimensions which appear in `diagram` will be plotted.\n",
        "    \"\"\"\n",
        "    if homology_dimensions is None:\n",
        "        homology_dimensions = np.unique(diagram[:, 2])\n",
        "\n",
        "    maximum_persistence = np.where(np.isinf(diagram), -np.inf, diagram).max()\n",
        "\n",
        "    layout = {\n",
        "        \"title\": \"Persistence diagram\",\n",
        "        \"width\": 500,\n",
        "        \"height\": 500,\n",
        "        \"xaxis1\": {\n",
        "            \"title\": \"Birth\",\n",
        "            \"side\": \"bottom\",\n",
        "            \"type\": \"linear\",\n",
        "            \"range\": [0, 1.1 * maximum_persistence],\n",
        "            \"ticks\": \"outside\",\n",
        "            \"anchor\": \"y1\",\n",
        "            \"showline\": True,\n",
        "            \"zeroline\": True,\n",
        "            \"showexponent\": \"all\",\n",
        "            \"exponentformat\": \"e\"\n",
        "        },\n",
        "        \"yaxis1\": {\n",
        "            \"title\": \"Death\",\n",
        "            \"side\": \"left\",\n",
        "            \"type\": \"linear\",\n",
        "            \"range\": [0, 1.1 * maximum_persistence],\n",
        "            \"ticks\": \"outside\",\n",
        "            \"anchor\": \"x1\",\n",
        "            \"showline\": True,\n",
        "            \"zeroline\": True,\n",
        "            \"showexponent\": \"all\",\n",
        "            \"exponentformat\": \"e\"\n",
        "        },\n",
        "        \"plot_bgcolor\": \"white\"\n",
        "    }\n",
        "\n",
        "    fig = gobj.Figure(layout=layout)\n",
        "    fig.update_xaxes(zeroline=True, linewidth=1, linecolor='black',\n",
        "                     mirror=False)\n",
        "    fig.update_yaxes(zeroline=True, linewidth=1, linecolor='black',\n",
        "                     mirror=False)\n",
        "\n",
        "    fig.add_trace(gobj.Scatter(x=np.array([-100 * maximum_persistence,\n",
        "                                           100 * maximum_persistence]),\n",
        "                               y=np.array([-100 * maximum_persistence,\n",
        "                                           100 * maximum_persistence]),\n",
        "                               mode='lines',\n",
        "                               line=dict(dash='dash', width=1, color='black'),\n",
        "                               showlegend=False, hoverinfo='none'))\n",
        "\n",
        "    for i, dimension in enumerate(homology_dimensions):\n",
        "        name = f\"H{int(dimension)}\"\n",
        "        subdiagram = _subdiagrams(np.asarray([diagram]), [dimension],\n",
        "                                  remove_dim=True)[0]\n",
        "        diff = (subdiagram[:, 1] != subdiagram[:, 0])\n",
        "        subdiagram = subdiagram[diff]\n",
        "        fig.add_trace(gobj.Scatter(x=subdiagram[:, 0], y=subdiagram[:, 1],\n",
        "                                   mode='markers', name=name))\n",
        "\n",
        "    fig.show()\n",
        "\n",
        "\n",
        "def plot_landscapes(landscapes, homology_dimensions=None, samplings=None):\n",
        "    \"\"\"Plot landscapes by homology dimension.\n",
        "    Parameters\n",
        "    ----------\n",
        "    landscapes : ndarray, shape (n_homology_dimension, n_layers, n_values)\n",
        "        Collection of ``n_homology_dimension`` discretised persistence\n",
        "        landscapes. Each landscape contains ``n_layers`` layers. Entry i along\n",
        "        axis 0 should be the persistence landscape in homology dimension i.\n",
        "    homology_dimensions : list of int or None, default: ``None``\n",
        "        Homology dimensions for which the Betti curves should be plotted.\n",
        "        If ``None``, all available dimensions will be used.\n",
        "    samplings : ndarray, shape (n_homology_dimension, n_layers, n_values), \\\n",
        "                default: ``None``\n",
        "        For each homology dimension, (filtration parameter) values to be used\n",
        "        on the x-axis against the corresponding values in `landscapes` on\n",
        "        the y-axis. If ``None``, the samplings will start at 0 with step 1.\n",
        "    \"\"\"\n",
        "    if homology_dimensions is None:\n",
        "        homology_dimensions = np.arange(0, landscapes.shape[0])\n",
        "    if samplings is None:\n",
        "        samplings = np.arange(0, landscapes.shape[2])\n",
        "    layout = {\n",
        "        \"xaxis1\": {\n",
        "            \"side\": \"bottom\",\n",
        "            \"type\": \"linear\",\n",
        "            \"ticks\": \"outside\",\n",
        "            \"anchor\": \"y1\",\n",
        "            \"showline\": True,\n",
        "            \"zeroline\": True,\n",
        "            \"showexponent\": \"all\",\n",
        "            \"exponentformat\": \"e\"\n",
        "        },\n",
        "        \"yaxis1\": {\n",
        "            \"side\": \"left\",\n",
        "            \"type\": \"linear\",\n",
        "            \"ticks\": \"outside\",\n",
        "            \"anchor\": \"x1\",\n",
        "            \"showline\": True,\n",
        "            \"zeroline\": True,\n",
        "            \"showexponent\": \"all\",\n",
        "            \"exponentformat\": \"e\"\n",
        "        },\n",
        "        \"plot_bgcolor\": \"white\"\n",
        "    }\n",
        "\n",
        "    for i, dimension in enumerate(homology_dimensions):\n",
        "        layout_dim = layout.copy()\n",
        "        layout_dim['title'] = f\"Persistence landscape for homology dimension\" \\\n",
        "                              f\"{int(dimension)}\"\n",
        "        fig = gobj.Figure(layout=layout_dim)\n",
        "        fig.update_xaxes(zeroline=True, linewidth=1, linecolor='black',\n",
        "                         mirror=False)\n",
        "        fig.update_yaxes(zeroline=True, linewidth=1, linecolor='black',\n",
        "                         mirror=False)\n",
        "\n",
        "        n_layers = landscapes.shape[1]\n",
        "        for layer in range(n_layers):\n",
        "            fig.add_trace(gobj.Scatter(x=samplings,\n",
        "                                       y=landscapes[i, layer, :],\n",
        "                                       mode='lines', showlegend=False,\n",
        "                                       hoverinfo='none',\n",
        "                                       name=f\"layer {layer + 1}\"))\n",
        "\n",
        "        fig.show()\n",
        "\n",
        "\n",
        "def plot_betti_curves(betti_curves, homology_dimensions=None, samplings=None):\n",
        "    \"\"\"Plot the Betti curves of a single persistence diagram by homology\n",
        "    dimension.\n",
        "    Parameters\n",
        "    ----------\n",
        "    betti_curves : ndarray, shape (n_homology_dimension, n_values)\n",
        "        Collection of ``n_homology_dimension`` discretised Betti curves.\n",
        "        Entry i along axis 0 should be the Betti curve in homology dimension i.\n",
        "    homology_dimensions : list of int or None, default: ``None``\n",
        "        Homology dimensions for which the Betti curves should be plotted.\n",
        "        If ``None``, all available dimensions will be used.\n",
        "    samplings : ndarray, shape (n_homology_dimension, n_values), \\\n",
        "                default: ``None``\n",
        "        For each homology dimension, (filtration parameter) values to be used\n",
        "        on the x-axis against the corresponding values in `betti_curves` on\n",
        "        the y-axis. If ``None``, the samplings will start at 0 with step 1.\n",
        "    \"\"\"\n",
        "    if homology_dimensions is None:\n",
        "        homology_dimensions = np.arange(0, betti_curves.shape[0])\n",
        "    if samplings is None:\n",
        "        samplings = np.arange(0, betti_curves.shape[1])\n",
        "    layout = {\n",
        "        \"title\": \"Betti curves\",\n",
        "        \"xaxis1\": {\n",
        "            \"title\": \"Epsilon\",\n",
        "            \"side\": \"bottom\",\n",
        "            \"type\": \"linear\",\n",
        "            \"ticks\": \"outside\",\n",
        "            \"anchor\": \"x1\",\n",
        "            \"showline\": True,\n",
        "            \"zeroline\": True,\n",
        "            \"showexponent\": \"all\",\n",
        "            \"exponentformat\": \"e\"\n",
        "        },\n",
        "        \"yaxis1\": {\n",
        "            \"title\": \"Betti number\",\n",
        "            \"side\": \"left\",\n",
        "            \"type\": \"linear\",\n",
        "            \"ticks\": \"outside\",\n",
        "            \"anchor\": \"y1\",\n",
        "            \"showline\": True,\n",
        "            \"zeroline\": True,\n",
        "            \"showexponent\": \"all\",\n",
        "            \"exponentformat\": \"e\"\n",
        "        },\n",
        "        \"plot_bgcolor\": \"white\"\n",
        "    }\n",
        "    fig = gobj.Figure(layout=layout)\n",
        "    fig.update_xaxes(zeroline=True, linewidth=1, linecolor='black',\n",
        "                     mirror=False)\n",
        "    fig.update_yaxes(zeroline=True, linewidth=1, linecolor='black',\n",
        "                     mirror=False)\n",
        "\n",
        "    for i, dimension in enumerate(homology_dimensions):\n",
        "        fig.add_trace(gobj.Scatter(x=samplings,\n",
        "                                   y=betti_curves[i, :],\n",
        "                                   mode='lines', showlegend=False,\n",
        "                                   hoverinfo='none'))\n",
        "\n",
        "\n",
        "    return fig\n",
        "\n",
        "\n",
        "def plot_betti_surfaces(betti_curves, samplings=None,\n",
        "                        homology_dimensions=None):\n",
        "    \"\"\"Plots the Betti surfaces (Betti numbers against time and filtration\n",
        "    parameter) by homology dimension.\n",
        "    Parameters\n",
        "    ----------\n",
        "    betti_curves : ndarray, shape (n_samples, n_homology_dimensions, \\\n",
        "                   n_values)\n",
        "        ``n_samples`` collections of discretised Betti curves. There are\n",
        "        ``n_homology_dimension`` curves in each collection. Index i along axis\n",
        "        1 should yield all Betti curves in homology dimension i.\n",
        "    homology_dimensions : list of int or None, default: ``None``\n",
        "        Homology dimensions for which the Betti surfaces should be plotted.\n",
        "        If ``None``, all available dimensions will be used.\n",
        "    samplings : ndarray, shape (n_homology_dimension, n_values), \\\n",
        "                default: ``None``\n",
        "        For each homology dimension, (filtration parameter) values to be used\n",
        "        on the x-axis against the corresponding values in `betti_curves` on the\n",
        "        y-axis. If ``None``, the samplings will start at 0 with step 1.\n",
        "    \"\"\"\n",
        "    if homology_dimensions is None:\n",
        "        homology_dimensions = np.arange(0, betti_curves.shape[1])\n",
        "    if samplings is None:\n",
        "        samplings = np.arange(0, betti_curves.shape[2])\n",
        "\n",
        "    scene = {\n",
        "        \"xaxis\": {\n",
        "            \"title\": \"Epsilon\",\n",
        "            \"type\": \"linear\",\n",
        "            \"showexponent\": \"all\",\n",
        "            \"exponentformat\": \"e\"\n",
        "        },\n",
        "        \"yaxis\": {\n",
        "            \"title\": \"Time\",\n",
        "            \"type\": \"linear\",\n",
        "            \"showexponent\": \"all\",\n",
        "            \"exponentformat\": \"e\"\n",
        "        },\n",
        "        \"zaxis\": {\n",
        "            \"title\": \"Betti number\",\n",
        "            \"type\": \"linear\",\n",
        "            \"showexponent\": \"all\",\n",
        "            \"exponentformat\": \"e\"\n",
        "        }\n",
        "    }\n",
        "    if betti_curves.shape[0] == 1:\n",
        "        plot_betti_curves(betti_curves[0], samplings, homology_dimensions)\n",
        "    else:\n",
        "        for i, dimension in enumerate(homology_dimensions):\n",
        "            fig = gobj.Figure()\n",
        "            fig.update_layout(scene=scene, title=f\"Betti surface for homology \"\n",
        "                                                 f\"dimension {int(dimension)}\")\n",
        "            fig.add_trace(gobj.Surface(x=samplings,\n",
        "                                       y=np.arange(betti_curves.shape[0]),\n",
        "                                       z=betti_curves[:, i, :],\n",
        "                                       connectgaps=True, hoverinfo='none'))\n",
        "\n",
        "            fig.show()"
      ],
      "execution_count": null,
      "outputs": []
    },
    {
      "cell_type": "code",
      "metadata": {
        "id": "QglgLgeS3aqM",
        "colab": {
          "base_uri": "https://localhost:8080/",
          "height": 1000
        },
        "outputId": "fc4052e2-a801-4197-b5c3-e3750720c998"
      },
      "source": [
        "#X_betti_curves[0,:,:].shape\n",
        "diagrams"
      ],
      "execution_count": null,
      "outputs": [
        {
          "output_type": "execute_result",
          "data": {
            "text/plain": [
              "[[array([[0.00000000e+00, 1.18236176e-05],\n",
              "         [0.00000000e+00, 1.87819332e-05],\n",
              "         [0.00000000e+00, 3.78509867e-05],\n",
              "         [0.00000000e+00, 7.30724569e-05],\n",
              "         [0.00000000e+00, 7.68319296e-05],\n",
              "         [0.00000000e+00, 8.59657375e-05],\n",
              "         [0.00000000e+00, 1.04893639e-04],\n",
              "         [0.00000000e+00, 1.10739158e-04],\n",
              "         [0.00000000e+00, 1.13808448e-04],\n",
              "         [0.00000000e+00, 1.14638744e-04],\n",
              "         [0.00000000e+00, 1.16139134e-04],\n",
              "         [0.00000000e+00, 1.16346921e-04],\n",
              "         [0.00000000e+00, 1.38464122e-04],\n",
              "         [0.00000000e+00, 1.40604679e-04],\n",
              "         [0.00000000e+00, 1.46679580e-04],\n",
              "         [0.00000000e+00, 1.48270061e-04],\n",
              "         [0.00000000e+00, 1.60051582e-04],\n",
              "         [0.00000000e+00, 1.92062216e-04],\n",
              "         [0.00000000e+00, 1.95371525e-04],\n",
              "         [0.00000000e+00, 1.96924258e-04],\n",
              "         [0.00000000e+00, 2.38818713e-04],\n",
              "         [0.00000000e+00, 2.61462294e-04],\n",
              "         [0.00000000e+00, 3.03604902e-04],\n",
              "         [0.00000000e+00, 3.19231302e-04],\n",
              "         [0.00000000e+00, 3.74743686e-04],\n",
              "         [0.00000000e+00, 3.96532268e-04],\n",
              "         [0.00000000e+00, 4.48365463e-04],\n",
              "         [0.00000000e+00, 5.26901160e-04],\n",
              "         [0.00000000e+00, 5.27595636e-04],\n",
              "         [0.00000000e+00, 5.35271072e-04],\n",
              "         [0.00000000e+00, 5.36683074e-04],\n",
              "         [0.00000000e+00, 5.40608657e-04],\n",
              "         [0.00000000e+00, 5.53520862e-04],\n",
              "         [0.00000000e+00, 5.53590304e-04],\n",
              "         [0.00000000e+00, 5.70180651e-04],\n",
              "         [0.00000000e+00, 5.82152337e-04],\n",
              "         [0.00000000e+00, 5.83385001e-04],\n",
              "         [0.00000000e+00, 6.16384146e-04],\n",
              "         [0.00000000e+00, 6.16410398e-04],\n",
              "         [0.00000000e+00, 6.35032658e-04],\n",
              "         [0.00000000e+00, 6.38054742e-04],\n",
              "         [0.00000000e+00, 6.49503956e-04],\n",
              "         [0.00000000e+00, 6.87375141e-04],\n",
              "         [0.00000000e+00, 6.99884957e-04],\n",
              "         [0.00000000e+00, 7.05346873e-04],\n",
              "         [0.00000000e+00, 7.17236195e-04],\n",
              "         [0.00000000e+00, 7.26390164e-04],\n",
              "         [0.00000000e+00, 7.44161021e-04],\n",
              "         [0.00000000e+00, 7.47046666e-04],\n",
              "         [0.00000000e+00, 7.50605424e-04],\n",
              "         [0.00000000e+00, 7.53934844e-04],\n",
              "         [0.00000000e+00, 7.87428522e-04],\n",
              "         [0.00000000e+00, 8.11029749e-04],\n",
              "         [0.00000000e+00, 8.16741434e-04],\n",
              "         [0.00000000e+00, 8.19866313e-04],\n",
              "         [0.00000000e+00, 8.31809884e-04],\n",
              "         [0.00000000e+00, 8.46015639e-04],\n",
              "         [0.00000000e+00, 8.46449344e-04],\n",
              "         [0.00000000e+00, 8.67862196e-04],\n",
              "         [0.00000000e+00, 8.99713603e-04],\n",
              "         [0.00000000e+00, 9.04611836e-04],\n",
              "         [0.00000000e+00, 9.15300974e-04],\n",
              "         [0.00000000e+00, 9.24383930e-04],\n",
              "         [0.00000000e+00, 9.25588130e-04],\n",
              "         [0.00000000e+00, 9.27276618e-04],\n",
              "         [0.00000000e+00, 9.43308405e-04],\n",
              "         [0.00000000e+00, 9.43703228e-04],\n",
              "         [0.00000000e+00, 9.51425580e-04],\n",
              "         [0.00000000e+00, 9.54663206e-04],\n",
              "         [0.00000000e+00, 9.60530073e-04],\n",
              "         [0.00000000e+00, 9.64418927e-04],\n",
              "         [0.00000000e+00, 9.64599545e-04],\n",
              "         [0.00000000e+00, 9.67631815e-04],\n",
              "         [0.00000000e+00, 9.77570540e-04],\n",
              "         [0.00000000e+00, 9.86741041e-04],\n",
              "         [0.00000000e+00, 1.00113999e-03],\n",
              "         [0.00000000e+00, 1.00971991e-03],\n",
              "         [0.00000000e+00, 1.03382638e-03],\n",
              "         [0.00000000e+00, 1.04929728e-03],\n",
              "         [0.00000000e+00, 1.09245081e-03],\n",
              "         [0.00000000e+00, 1.09331391e-03],\n",
              "         [0.00000000e+00, 1.09603873e-03],\n",
              "         [0.00000000e+00, 1.10100885e-03],\n",
              "         [0.00000000e+00, 1.10398594e-03],\n",
              "         [0.00000000e+00, 1.10574276e-03],\n",
              "         [0.00000000e+00, 1.11202209e-03],\n",
              "         [0.00000000e+00, 1.11453224e-03],\n",
              "         [0.00000000e+00, 1.12118293e-03],\n",
              "         [0.00000000e+00, 1.12149899e-03],\n",
              "         [0.00000000e+00, 1.13211037e-03],\n",
              "         [0.00000000e+00, 1.13259582e-03],\n",
              "         [0.00000000e+00, 1.13271433e-03],\n",
              "         [0.00000000e+00, 1.13410654e-03],\n",
              "         [0.00000000e+00, 1.13550865e-03],\n",
              "         [0.00000000e+00, 1.15921849e-03],\n",
              "         [0.00000000e+00, 1.16849144e-03],\n",
              "         [0.00000000e+00, 1.17744901e-03],\n",
              "         [0.00000000e+00, 1.17832969e-03],\n",
              "         [0.00000000e+00, 1.18123635e-03],\n",
              "         [0.00000000e+00, 1.19043980e-03],\n",
              "         [0.00000000e+00, 1.19229034e-03],\n",
              "         [0.00000000e+00, 1.20700151e-03],\n",
              "         [0.00000000e+00, 1.20716740e-03],\n",
              "         [0.00000000e+00, 1.20830478e-03],\n",
              "         [0.00000000e+00, 1.21617923e-03],\n",
              "         [0.00000000e+00, 1.22651318e-03],\n",
              "         [0.00000000e+00, 1.22662273e-03],\n",
              "         [0.00000000e+00, 1.24522916e-03],\n",
              "         [0.00000000e+00, 1.25313969e-03],\n",
              "         [0.00000000e+00, 1.25486695e-03],\n",
              "         [0.00000000e+00, 1.25698955e-03],\n",
              "         [0.00000000e+00, 1.25711749e-03],\n",
              "         [0.00000000e+00, 1.28077797e-03],\n",
              "         [0.00000000e+00, 1.29050005e-03],\n",
              "         [0.00000000e+00, 1.30398455e-03],\n",
              "         [0.00000000e+00, 1.33004820e-03],\n",
              "         [0.00000000e+00, 1.33007858e-03],\n",
              "         [0.00000000e+00, 1.34766370e-03],\n",
              "         [0.00000000e+00, 1.35164789e-03],\n",
              "         [0.00000000e+00, 1.35216664e-03],\n",
              "         [0.00000000e+00, 1.36627257e-03],\n",
              "         [0.00000000e+00, 1.36860926e-03],\n",
              "         [0.00000000e+00, 1.37211289e-03],\n",
              "         [0.00000000e+00, 1.38059724e-03],\n",
              "         [0.00000000e+00, 1.38506433e-03],\n",
              "         [0.00000000e+00, 1.38624082e-03],\n",
              "         [0.00000000e+00, 1.39087194e-03],\n",
              "         [0.00000000e+00, 1.40398566e-03],\n",
              "         [0.00000000e+00, 1.40707230e-03],\n",
              "         [0.00000000e+00, 1.43028074e-03],\n",
              "         [0.00000000e+00, 1.43102393e-03],\n",
              "         [0.00000000e+00, 1.44994084e-03],\n",
              "         [0.00000000e+00, 1.45004375e-03],\n",
              "         [0.00000000e+00, 1.45718700e-03],\n",
              "         [0.00000000e+00, 1.46604562e-03],\n",
              "         [0.00000000e+00, 1.46984588e-03],\n",
              "         [0.00000000e+00, 1.47089525e-03],\n",
              "         [0.00000000e+00, 1.47527060e-03],\n",
              "         [0.00000000e+00, 1.48363120e-03],\n",
              "         [0.00000000e+00, 1.48638652e-03],\n",
              "         [0.00000000e+00, 1.48757955e-03],\n",
              "         [0.00000000e+00, 1.50092389e-03],\n",
              "         [0.00000000e+00, 1.50303519e-03],\n",
              "         [0.00000000e+00, 1.51477405e-03],\n",
              "         [0.00000000e+00, 1.51587860e-03],\n",
              "         [0.00000000e+00, 1.52395503e-03],\n",
              "         [0.00000000e+00, 1.53187173e-03],\n",
              "         [0.00000000e+00, 1.53331971e-03],\n",
              "         [0.00000000e+00, 1.55280333e-03],\n",
              "         [0.00000000e+00, 1.55859452e-03],\n",
              "         [0.00000000e+00, 1.57032127e-03],\n",
              "         [0.00000000e+00, 1.57338229e-03],\n",
              "         [0.00000000e+00, 1.57630246e-03],\n",
              "         [0.00000000e+00, 1.58427469e-03],\n",
              "         [0.00000000e+00, 1.59226276e-03],\n",
              "         [0.00000000e+00, 1.59715477e-03],\n",
              "         [0.00000000e+00, 1.60576496e-03],\n",
              "         [0.00000000e+00, 1.60982856e-03],\n",
              "         [0.00000000e+00, 1.61021296e-03],\n",
              "         [0.00000000e+00, 1.61476783e-03],\n",
              "         [0.00000000e+00, 1.63659453e-03],\n",
              "         [0.00000000e+00, 1.63857918e-03],\n",
              "         [0.00000000e+00, 1.64994225e-03],\n",
              "         [0.00000000e+00, 1.65726023e-03],\n",
              "         [0.00000000e+00, 1.66884775e-03],\n",
              "         [0.00000000e+00, 1.67241227e-03],\n",
              "         [0.00000000e+00, 1.69386563e-03],\n",
              "         [0.00000000e+00, 1.70119689e-03],\n",
              "         [0.00000000e+00, 1.72309892e-03],\n",
              "         [0.00000000e+00, 1.72658055e-03],\n",
              "         [0.00000000e+00, 1.76428852e-03],\n",
              "         [0.00000000e+00, 1.77043630e-03],\n",
              "         [0.00000000e+00, 1.77083432e-03],\n",
              "         [0.00000000e+00, 1.77093048e-03],\n",
              "         [0.00000000e+00, 1.77234365e-03],\n",
              "         [0.00000000e+00, 1.78370019e-03],\n",
              "         [0.00000000e+00, 1.78968033e-03],\n",
              "         [0.00000000e+00, 1.80013257e-03],\n",
              "         [0.00000000e+00, 1.80022675e-03],\n",
              "         [0.00000000e+00, 1.81343779e-03],\n",
              "         [0.00000000e+00, 1.81722012e-03],\n",
              "         [0.00000000e+00, 1.82810379e-03],\n",
              "         [0.00000000e+00, 1.83018728e-03],\n",
              "         [0.00000000e+00, 1.83190545e-03],\n",
              "         [0.00000000e+00, 1.83956092e-03],\n",
              "         [0.00000000e+00, 1.84528553e-03],\n",
              "         [0.00000000e+00, 1.84666330e-03],\n",
              "         [0.00000000e+00, 1.85140083e-03],\n",
              "         [0.00000000e+00, 1.85150187e-03],\n",
              "         [0.00000000e+00, 1.85400422e-03],\n",
              "         [0.00000000e+00, 1.85806875e-03],\n",
              "         [0.00000000e+00, 1.86891796e-03],\n",
              "         [0.00000000e+00, 1.87757472e-03],\n",
              "         [0.00000000e+00, 1.87978707e-03],\n",
              "         [0.00000000e+00, 1.89064187e-03],\n",
              "         [0.00000000e+00, 1.89356366e-03],\n",
              "         [0.00000000e+00, 1.90434570e-03],\n",
              "         [0.00000000e+00, 1.91176566e-03],\n",
              "         [0.00000000e+00, 1.92460336e-03],\n",
              "         [0.00000000e+00, 1.96103565e-03],\n",
              "         [0.00000000e+00, 1.97511818e-03],\n",
              "         [0.00000000e+00, 1.99130061e-03],\n",
              "         [0.00000000e+00, 1.99294789e-03],\n",
              "         [0.00000000e+00, 1.99457165e-03],\n",
              "         [0.00000000e+00, 1.99743989e-03],\n",
              "         [0.00000000e+00, 1.99913187e-03],\n",
              "         [0.00000000e+00, 2.03011883e-03],\n",
              "         [0.00000000e+00, 2.03106808e-03],\n",
              "         [0.00000000e+00, 2.03140662e-03],\n",
              "         [0.00000000e+00, 2.03749561e-03],\n",
              "         [0.00000000e+00, 2.04052473e-03],\n",
              "         [0.00000000e+00, 2.05456256e-03],\n",
              "         [0.00000000e+00, 2.06119078e-03],\n",
              "         [0.00000000e+00, 2.07217527e-03],\n",
              "         [0.00000000e+00, 2.09062663e-03],\n",
              "         [0.00000000e+00, 2.10065884e-03],\n",
              "         [0.00000000e+00, 2.11044378e-03],\n",
              "         [0.00000000e+00, 2.12292606e-03],\n",
              "         [0.00000000e+00, 2.12532468e-03],\n",
              "         [0.00000000e+00, 2.15410884e-03],\n",
              "         [0.00000000e+00, 2.16112426e-03],\n",
              "         [0.00000000e+00, 2.16750987e-03],\n",
              "         [0.00000000e+00, 2.17083725e-03],\n",
              "         [0.00000000e+00, 2.19323183e-03],\n",
              "         [0.00000000e+00, 2.22514826e-03],\n",
              "         [0.00000000e+00, 2.26478139e-03],\n",
              "         [0.00000000e+00, 2.27413955e-03],\n",
              "         [0.00000000e+00, 2.27566366e-03],\n",
              "         [0.00000000e+00, 2.30491930e-03],\n",
              "         [0.00000000e+00, 2.34521111e-03],\n",
              "         [0.00000000e+00, 2.34759343e-03],\n",
              "         [0.00000000e+00, 2.37435265e-03],\n",
              "         [0.00000000e+00, 2.40314263e-03],\n",
              "         [0.00000000e+00, 2.40817317e-03],\n",
              "         [0.00000000e+00, 2.44482770e-03],\n",
              "         [0.00000000e+00, 2.46787770e-03],\n",
              "         [0.00000000e+00, 2.47510872e-03],\n",
              "         [0.00000000e+00, 2.48394138e-03],\n",
              "         [0.00000000e+00, 2.52379407e-03],\n",
              "         [0.00000000e+00, 2.53745401e-03],\n",
              "         [0.00000000e+00, 2.57444452e-03],\n",
              "         [0.00000000e+00, 2.58985767e-03],\n",
              "         [0.00000000e+00, 2.59003602e-03],\n",
              "         [0.00000000e+00, 2.59166700e-03],\n",
              "         [0.00000000e+00, 2.61156890e-03],\n",
              "         [0.00000000e+00, 2.62631266e-03],\n",
              "         [0.00000000e+00, 2.67847581e-03],\n",
              "         [0.00000000e+00, 2.68693641e-03],\n",
              "         [0.00000000e+00, 2.69343820e-03],\n",
              "         [0.00000000e+00, 2.69845454e-03],\n",
              "         [0.00000000e+00, 2.72459863e-03],\n",
              "         [0.00000000e+00, 2.72653950e-03],\n",
              "         [0.00000000e+00, 2.74053472e-03],\n",
              "         [0.00000000e+00, 2.75715790e-03],\n",
              "         [0.00000000e+00, 2.80408119e-03],\n",
              "         [0.00000000e+00, 2.81283166e-03],\n",
              "         [0.00000000e+00, 2.83227768e-03],\n",
              "         [0.00000000e+00, 2.85716564e-03],\n",
              "         [0.00000000e+00, 2.86110071e-03],\n",
              "         [0.00000000e+00, 2.87089008e-03],\n",
              "         [0.00000000e+00, 2.89318245e-03],\n",
              "         [0.00000000e+00, 2.90220999e-03],\n",
              "         [0.00000000e+00, 2.90922448e-03],\n",
              "         [0.00000000e+00, 2.92255217e-03],\n",
              "         [0.00000000e+00, 2.97314790e-03],\n",
              "         [0.00000000e+00, 3.03339842e-03],\n",
              "         [0.00000000e+00, 3.10932077e-03],\n",
              "         [0.00000000e+00, 3.14119365e-03],\n",
              "         [0.00000000e+00, 3.20164440e-03],\n",
              "         [0.00000000e+00, 3.30366008e-03],\n",
              "         [0.00000000e+00, 3.35634034e-03],\n",
              "         [0.00000000e+00, 3.36310011e-03],\n",
              "         [0.00000000e+00, 3.42249754e-03],\n",
              "         [0.00000000e+00, 3.45527520e-03],\n",
              "         [0.00000000e+00, 3.60101392e-03],\n",
              "         [0.00000000e+00, 3.74382129e-03],\n",
              "         [0.00000000e+00, 3.92261241e-03],\n",
              "         [0.00000000e+00, 4.03820071e-03],\n",
              "         [0.00000000e+00, 4.08505835e-03],\n",
              "         [0.00000000e+00, 4.21291450e-03],\n",
              "         [0.00000000e+00, 4.39812569e-03],\n",
              "         [0.00000000e+00, 4.41683317e-03],\n",
              "         [0.00000000e+00, 4.41841409e-03],\n",
              "         [0.00000000e+00, 4.45695315e-03],\n",
              "         [0.00000000e+00, 4.55525797e-03],\n",
              "         [0.00000000e+00, 4.58873203e-03],\n",
              "         [0.00000000e+00, 4.68879100e-03],\n",
              "         [0.00000000e+00, 4.69509466e-03],\n",
              "         [0.00000000e+00, 4.95646428e-03],\n",
              "         [0.00000000e+00, 4.95696813e-03],\n",
              "         [0.00000000e+00, 5.02350787e-03],\n",
              "         [0.00000000e+00, 5.04436996e-03],\n",
              "         [0.00000000e+00, 5.34349075e-03],\n",
              "         [0.00000000e+00, 5.48404269e-03],\n",
              "         [0.00000000e+00, 5.63264498e-03],\n",
              "         [0.00000000e+00, 5.63998381e-03],\n",
              "         [0.00000000e+00, 5.79028530e-03],\n",
              "         [0.00000000e+00, 5.97810326e-03],\n",
              "         [0.00000000e+00, 6.03800314e-03],\n",
              "         [0.00000000e+00, 6.09002868e-03],\n",
              "         [0.00000000e+00, 6.24220353e-03],\n",
              "         [0.00000000e+00, 6.29092753e-03],\n",
              "         [0.00000000e+00, 6.53033378e-03],\n",
              "         [0.00000000e+00, 6.56381575e-03],\n",
              "         [0.00000000e+00, 6.58875005e-03],\n",
              "         [0.00000000e+00, 6.64533954e-03],\n",
              "         [0.00000000e+00, 6.77241478e-03],\n",
              "         [0.00000000e+00, 6.81445375e-03],\n",
              "         [0.00000000e+00, 6.90102810e-03],\n",
              "         [0.00000000e+00, 6.94456091e-03],\n",
              "         [0.00000000e+00, 6.95433142e-03],\n",
              "         [0.00000000e+00, 7.16483500e-03],\n",
              "         [0.00000000e+00, 7.42689380e-03],\n",
              "         [0.00000000e+00, 7.48631591e-03],\n",
              "         [0.00000000e+00, 7.49473926e-03],\n",
              "         [0.00000000e+00, 7.51428166e-03],\n",
              "         [0.00000000e+00, 7.53424270e-03],\n",
              "         [0.00000000e+00, 7.56814051e-03],\n",
              "         [0.00000000e+00, 7.76178576e-03],\n",
              "         [0.00000000e+00, 7.86038022e-03],\n",
              "         [0.00000000e+00, 7.87757803e-03],\n",
              "         [0.00000000e+00, 7.90790841e-03],\n",
              "         [0.00000000e+00, 8.10142886e-03],\n",
              "         [0.00000000e+00, 8.57126433e-03],\n",
              "         [0.00000000e+00, 8.60082638e-03],\n",
              "         [0.00000000e+00, 8.75898916e-03],\n",
              "         [0.00000000e+00, 8.79520830e-03],\n",
              "         [0.00000000e+00, 9.10789706e-03],\n",
              "         [0.00000000e+00, 9.48804803e-03],\n",
              "         [0.00000000e+00, 9.99756623e-03],\n",
              "         [0.00000000e+00, 1.01260766e-02],\n",
              "         [0.00000000e+00, 1.01585593e-02],\n",
              "         [0.00000000e+00, 1.02106100e-02],\n",
              "         [0.00000000e+00, 1.05477236e-02],\n",
              "         [0.00000000e+00, 1.12034194e-02],\n",
              "         [0.00000000e+00, 1.14082592e-02],\n",
              "         [0.00000000e+00, 1.17805470e-02],\n",
              "         [0.00000000e+00, 1.18485820e-02],\n",
              "         [0.00000000e+00, 1.21858576e-02],\n",
              "         [0.00000000e+00, 1.23457899e-02],\n",
              "         [0.00000000e+00, 1.24779055e-02],\n",
              "         [0.00000000e+00, 1.31754074e-02],\n",
              "         [0.00000000e+00, 1.37113072e-02],\n",
              "         [0.00000000e+00, 1.37772048e-02],\n",
              "         [0.00000000e+00, 1.38048446e-02],\n",
              "         [0.00000000e+00, 1.49031114e-02],\n",
              "         [0.00000000e+00, 1.52248815e-02],\n",
              "         [0.00000000e+00, 1.57947633e-02],\n",
              "         [0.00000000e+00, 1.68355033e-02],\n",
              "         [0.00000000e+00, 1.70987565e-02],\n",
              "         [0.00000000e+00, 1.74966250e-02],\n",
              "         [0.00000000e+00, 2.03211643e-02],\n",
              "         [0.00000000e+00, 2.09726188e-02],\n",
              "         [0.00000000e+00, 2.32501514e-02],\n",
              "         [0.00000000e+00, 2.48056594e-02],\n",
              "         [0.00000000e+00, 2.51340922e-02],\n",
              "         [0.00000000e+00, 2.51687877e-02],\n",
              "         [0.00000000e+00, 2.57423669e-02],\n",
              "         [0.00000000e+00, 2.62593776e-02],\n",
              "         [0.00000000e+00, 3.58614288e-02],\n",
              "         [0.00000000e+00, 3.81931029e-02],\n",
              "         [0.00000000e+00, 4.07276973e-02],\n",
              "         [0.00000000e+00, 4.69542518e-02],\n",
              "         [0.00000000e+00, 4.80450690e-02],\n",
              "         [0.00000000e+00, 4.81364578e-02],\n",
              "         [0.00000000e+00, 5.14558218e-02],\n",
              "         [0.00000000e+00, 5.14597297e-02],\n",
              "         [0.00000000e+00, 5.39033897e-02],\n",
              "         [0.00000000e+00, 5.47424667e-02],\n",
              "         [0.00000000e+00, 5.56738786e-02],\n",
              "         [0.00000000e+00, 5.61728738e-02],\n",
              "         [0.00000000e+00, 5.83774596e-02],\n",
              "         [0.00000000e+00, 5.85433133e-02],\n",
              "         [0.00000000e+00, 6.35448620e-02],\n",
              "         [0.00000000e+00, 6.42434210e-02],\n",
              "         [0.00000000e+00, 6.48513436e-02],\n",
              "         [0.00000000e+00, 6.58131391e-02],\n",
              "         [0.00000000e+00, 6.74684197e-02],\n",
              "         [0.00000000e+00, 6.75082654e-02],\n",
              "         [0.00000000e+00, 7.37988353e-02],\n",
              "         [0.00000000e+00, 7.46443570e-02],\n",
              "         [0.00000000e+00, 8.14678296e-02],\n",
              "         [0.00000000e+00, 8.29829425e-02],\n",
              "         [0.00000000e+00, 9.17399004e-02],\n",
              "         [0.00000000e+00, 9.54497904e-02],\n",
              "         [0.00000000e+00, 9.88715887e-02],\n",
              "         [0.00000000e+00, 1.01795480e-01],\n",
              "         [0.00000000e+00, 1.02951288e-01],\n",
              "         [0.00000000e+00, 1.03343673e-01],\n",
              "         [0.00000000e+00, 1.06296368e-01],\n",
              "         [0.00000000e+00, 1.06411867e-01],\n",
              "         [0.00000000e+00, 1.10024281e-01],\n",
              "         [0.00000000e+00, 1.10802881e-01],\n",
              "         [0.00000000e+00, 1.19565845e-01],\n",
              "         [0.00000000e+00, 1.21085212e-01],\n",
              "         [0.00000000e+00, 1.23281494e-01],\n",
              "         [0.00000000e+00, 1.29442737e-01],\n",
              "         [0.00000000e+00, 1.29452825e-01],\n",
              "         [0.00000000e+00, 1.31281406e-01],\n",
              "         [0.00000000e+00, 1.42200306e-01],\n",
              "         [0.00000000e+00, 1.46684289e-01],\n",
              "         [0.00000000e+00, 1.56117663e-01],\n",
              "         [0.00000000e+00, 1.64430335e-01],\n",
              "         [0.00000000e+00, 1.70830727e-01],\n",
              "         [0.00000000e+00, 1.97652191e-01],\n",
              "         [0.00000000e+00, 2.10737050e-01],\n",
              "         [0.00000000e+00, 2.27705762e-01],\n",
              "         [0.00000000e+00, 2.40923807e-01],\n",
              "         [0.00000000e+00, 2.48202503e-01],\n",
              "         [0.00000000e+00, 2.51683146e-01],\n",
              "         [0.00000000e+00, 2.55810827e-01],\n",
              "         [0.00000000e+00,            inf]]),\n",
              "  array([[2.92257071e-01, 3.13097984e-01],\n",
              "         [2.86434472e-01, 3.33281636e-01],\n",
              "         [2.68803179e-01, 3.42958868e-01],\n",
              "         [2.68309623e-01, 2.85163224e-01],\n",
              "         [2.60953307e-01, 2.90906638e-01],\n",
              "         [1.42831087e-01, 1.61186337e-01],\n",
              "         [1.29048079e-01, 1.30069286e-01],\n",
              "         [1.08679838e-01, 1.17249757e-01],\n",
              "         [9.82892811e-02, 1.01256676e-01],\n",
              "         [9.30655450e-02, 1.01256676e-01],\n",
              "         [8.58227238e-02, 9.79153663e-02],\n",
              "         [7.96389058e-02, 8.02917704e-02],\n",
              "         [7.90591091e-02, 8.33125934e-02],\n",
              "         [7.84255192e-02, 8.19381848e-02],\n",
              "         [7.24210590e-02, 8.41248259e-02],\n",
              "         [7.11202919e-02, 7.54099712e-02],\n",
              "         [7.11031407e-02, 7.24889711e-02],\n",
              "         [6.88445494e-02, 6.90343678e-02],\n",
              "         [6.83716610e-02, 7.17988983e-02],\n",
              "         [2.76518632e-02, 3.20267528e-02],\n",
              "         [1.02378177e-02, 1.04228072e-02],\n",
              "         [7.66386511e-03, 1.02948267e-02],\n",
              "         [7.01448461e-03, 7.13752350e-03],\n",
              "         [5.18532190e-03, 5.33638848e-03],\n",
              "         [5.01302909e-03, 5.42136654e-03],\n",
              "         [4.24501672e-03, 4.79412451e-03],\n",
              "         [4.17167181e-03, 4.32672538e-03],\n",
              "         [4.05025436e-03, 4.27083019e-03],\n",
              "         [4.04559216e-03, 4.08017915e-03],\n",
              "         [3.90184647e-03, 3.96163436e-03],\n",
              "         [3.55907180e-03, 3.61263286e-03],\n",
              "         [3.44402436e-03, 3.73207428e-03],\n",
              "         [3.41024459e-03, 3.54673481e-03],\n",
              "         [3.30083049e-03, 3.33885523e-03],\n",
              "         [3.21661471e-03, 3.21939215e-03],\n",
              "         [3.20358993e-03, 3.61263286e-03],\n",
              "         [3.12091666e-03, 3.12389433e-03],\n",
              "         [3.03649600e-03, 3.33962427e-03],\n",
              "         [2.98716198e-03, 3.52083612e-03],\n",
              "         [2.95911846e-03, 3.16639175e-03],\n",
              "         [2.95460946e-03, 3.35480436e-03],\n",
              "         [2.94804689e-03, 3.11275455e-03],\n",
              "         [2.91061448e-03, 3.35230818e-03],\n",
              "         [2.84403749e-03, 3.27531388e-03],\n",
              "         [2.78012012e-03, 2.97668111e-03],\n",
              "         [2.74454406e-03, 2.93676439e-03],\n",
              "         [2.71587959e-03, 3.23631614e-03],\n",
              "         [2.61768117e-03, 2.75997422e-03],\n",
              "         [2.50965706e-03, 3.34832887e-03],\n",
              "         [2.49433168e-03, 3.50057404e-03],\n",
              "         [2.43244204e-03, 3.18742311e-03],\n",
              "         [2.41131801e-03, 2.61829444e-03],\n",
              "         [2.32114363e-03, 2.36850115e-03],\n",
              "         [2.26187706e-03, 2.29614135e-03],\n",
              "         [2.24080752e-03, 2.24119402e-03],\n",
              "         [2.22341786e-03, 3.02028377e-03],\n",
              "         [2.17511016e-03, 2.77969916e-03],\n",
              "         [2.11410527e-03, 2.59170029e-03],\n",
              "         [2.10451847e-03, 2.15712399e-03],\n",
              "         [2.10230518e-03, 2.27289624e-03],\n",
              "         [2.03608628e-03, 2.26168148e-03],\n",
              "         [2.02799612e-03, 2.41070683e-03],\n",
              "         [1.97585556e-03, 2.06683017e-03],\n",
              "         [1.95051054e-03, 2.07332522e-03],\n",
              "         [1.94222189e-03, 2.10289750e-03],\n",
              "         [1.93159364e-03, 2.19225534e-03],\n",
              "         [1.93027256e-03, 2.12904648e-03],\n",
              "         [1.83340535e-03, 2.23781122e-03],\n",
              "         [1.79642311e-03, 2.13679275e-03],\n",
              "         [1.77802087e-03, 2.22363370e-03],\n",
              "         [1.77773763e-03, 1.83924485e-03],\n",
              "         [1.64994563e-03, 1.92372676e-03],\n",
              "         [1.60373375e-03, 1.93764712e-03],\n",
              "         [1.56242808e-03, 1.59635395e-03],\n",
              "         [1.36472122e-03, 1.61706947e-03],\n",
              "         [3.11580312e-04, 3.20526189e-04],\n",
              "         [2.11112856e-04, 2.24745279e-04],\n",
              "         [1.67179605e-04, 1.72953340e-04]])]]"
            ]
          },
          "metadata": {
            "tags": []
          },
          "execution_count": 27
        }
      ]
    },
    {
      "cell_type": "code",
      "metadata": {
        "id": "SIneIQof5EJY",
        "colab": {
          "base_uri": "https://localhost:8080/",
          "height": 34
        },
        "outputId": "a1f6b338-fe2a-4dc3-9125-630cb30f3361"
      },
      "source": [
        "data = [embedding]\n",
        "rips = Rips(maxdim=1, coeff=2)\n",
        "diagrams = [rips.fit_transform(datum) for datum in data]\n",
        "diagrams_h1 = [rips.fit_transform(datum)[1] for datum in data]"
      ],
      "execution_count": null,
      "outputs": [
        {
          "output_type": "stream",
          "text": [
            "Rips(maxdim=1, thresh=inf, coeff=2, do_cocycles=False, n_perm = None, verbose=True)\n"
          ],
          "name": "stdout"
        }
      ]
    },
    {
      "cell_type": "code",
      "metadata": {
        "id": "5AjsU0m8rZfa",
        "colab": {
          "base_uri": "https://localhost:8080/",
          "height": 366
        },
        "outputId": "e23202a8-9f5a-45ae-da14-22fc73f0e589"
      },
      "source": [
        "plt.figure(figsize=(12,6))\n",
        "plt.subplot(121)\n",
        "\n",
        "rips.plot(diagrams_h1[0], show=False)\n",
        "\n",
        "#plt.subplot(122)\n",
        "#rips.plot(diagrams_h1[-1], show=False)\n",
        "#plt.title(\"PD of $H_1$ for circle w/ noise\")\n",
        "\n",
        "plt.show()"
      ],
      "execution_count": null,
      "outputs": [
        {
          "output_type": "display_data",
          "data": {
            "image/png": "[encoded data removed]",
            "text/plain": [
              "<Figure size 864x432 with 1 Axes>"
            ]
          },
          "metadata": {
            "tags": [],
            "needs_background": "light"
          }
        }
      ]
    },
    {
      "cell_type": "code",
      "metadata": {
        "id": "gIe3JCoXrd1U",
        "colab": {
          "base_uri": "https://localhost:8080/",
          "height": 34
        },
        "outputId": "7950c2be-db7e-4712-9ff7-58b93004165d"
      },
      "source": [
        "\n",
        "pim = PersImage(pixels=[20,20], spread=1)\n",
        "imgs = pim.transform(diagrams_h1)"
      ],
      "execution_count": null,
      "outputs": [
        {
          "output_type": "stream",
          "text": [
            "PersImage(pixels=[20, 20], spread=1, specs=None, kernel_type=\"gaussian\", weighting_type=\"linear\")\n"
          ],
          "name": "stdout"
        }
      ]
    },
    {
      "cell_type": "code",
      "metadata": {
        "id": "i2JM_OAbsLrC",
        "colab": {
          "base_uri": "https://localhost:8080/",
          "height": 539
        },
        "outputId": "5d624912-3b0c-4168-ad13-d396132e957e"
      },
      "source": [
        "\n",
        "plt.figure(figsize=(15,7.5))\n",
        "\n",
        "for i in range(2):\n",
        "    ax = plt.subplot(240+i+1)\n",
        "    pim.show(imgs[i], ax)\n",
        "    plt.title(\"PI of $H_1$ for noise\")"
      ],
      "execution_count": null,
      "outputs": [
        {
          "output_type": "error",
          "ename": "IndexError",
          "evalue": "ignored",
          "traceback": [
            "\u001b[0;31m---------------------------------------------------------------------------\u001b[0m",
            "\u001b[0;31mIndexError\u001b[0m                                Traceback (most recent call last)",
            "\u001b[0;32m<ipython-input-148-b6d5174c2dba>\u001b[0m in \u001b[0;36m<module>\u001b[0;34m()\u001b[0m\n\u001b[1;32m      4\u001b[0m \u001b[0;32mfor\u001b[0m \u001b[0mi\u001b[0m \u001b[0;32min\u001b[0m \u001b[0mrange\u001b[0m\u001b[0;34m(\u001b[0m\u001b[0;36m2\u001b[0m\u001b[0;34m)\u001b[0m\u001b[0;34m:\u001b[0m\u001b[0;34m\u001b[0m\u001b[0;34m\u001b[0m\u001b[0m\n\u001b[1;32m      5\u001b[0m     \u001b[0max\u001b[0m \u001b[0;34m=\u001b[0m \u001b[0mplt\u001b[0m\u001b[0;34m.\u001b[0m\u001b[0msubplot\u001b[0m\u001b[0;34m(\u001b[0m\u001b[0;36m240\u001b[0m\u001b[0;34m+\u001b[0m\u001b[0mi\u001b[0m\u001b[0;34m+\u001b[0m\u001b[0;36m1\u001b[0m\u001b[0;34m)\u001b[0m\u001b[0;34m\u001b[0m\u001b[0;34m\u001b[0m\u001b[0m\n\u001b[0;32m----> 6\u001b[0;31m     \u001b[0mpim\u001b[0m\u001b[0;34m.\u001b[0m\u001b[0mshow\u001b[0m\u001b[0;34m(\u001b[0m\u001b[0mimgs\u001b[0m\u001b[0;34m[\u001b[0m\u001b[0mi\u001b[0m\u001b[0;34m]\u001b[0m\u001b[0;34m,\u001b[0m \u001b[0max\u001b[0m\u001b[0;34m)\u001b[0m\u001b[0;34m\u001b[0m\u001b[0;34m\u001b[0m\u001b[0m\n\u001b[0m\u001b[1;32m      7\u001b[0m     \u001b[0mplt\u001b[0m\u001b[0;34m.\u001b[0m\u001b[0mtitle\u001b[0m\u001b[0;34m(\u001b[0m\u001b[0;34m\"PI of $H_1$ for noise\"\u001b[0m\u001b[0;34m)\u001b[0m\u001b[0;34m\u001b[0m\u001b[0;34m\u001b[0m\u001b[0m\n",
            "\u001b[0;31mIndexError\u001b[0m: list index out of range"
          ]
        },
        {
          "output_type": "display_data",
          "data": {
            "image/png": "[encoded data removed]",
            "text/plain": [
              "<Figure size 1500x750 with 2 Axes>"
            ]
          },
          "metadata": {
            "tags": []
          }
        }
      ]
    },
    {
      "cell_type": "code",
      "metadata": {
        "id": "aDSzbi5dsrnx",
        "colab": {
          "base_uri": "https://localhost:8080/",
          "height": 34
        },
        "outputId": "60c48b10-ae1c-40ee-b7c1-4ef48bf40d51"
      },
      "source": [
        "embeddings = []\n",
        "d=3\n",
        "tau=4\n",
        "\n",
        "for idx in range(X_train.shape[0]):\n",
        "  ts_max = X_train.iloc[idx].max()\n",
        "\n",
        "  temp_embedding = TimeDelayEmbedding(dim=d, delay=tau)(X_train.iloc[idx].dropna()[0:]/ts_max)\n",
        "  embeddings.append(temp_embedding)\n",
        "\n",
        "rips = Rips(maxdim=1, coeff=2)\n",
        "#diagrams = [rips.fit_transform(embedding) for embedding in embeddings[0:10]]\n",
        "diagrams_h1 = [rips.fit_transform(embedding)[1] for embedding in embeddings[100:108]]"
      ],
      "execution_count": null,
      "outputs": [
        {
          "output_type": "stream",
          "text": [
            "Rips(maxdim=1, thresh=inf, coeff=2, do_cocycles=False, n_perm = None, verbose=True)\n"
          ],
          "name": "stdout"
        }
      ]
    },
    {
      "cell_type": "code",
      "metadata": {
        "id": "AHaMFjg0ugaS",
        "colab": {
          "base_uri": "https://localhost:8080/",
          "height": 34
        },
        "outputId": "18deb37c-b83a-4885-c52d-ef20d51d9538"
      },
      "source": [
        "pim = PersImage(pixels=[28,28], spread=0.5)\n",
        "imgs = pim.transform(diagrams_h1)"
      ],
      "execution_count": null,
      "outputs": [
        {
          "output_type": "stream",
          "text": [
            "PersImage(pixels=[28, 28], spread=0.5, specs=None, kernel_type=\"gaussian\", weighting_type=\"linear\")\n"
          ],
          "name": "stdout"
        }
      ]
    },
    {
      "cell_type": "code",
      "metadata": {
        "id": "YFqXGo18t0cH",
        "colab": {
          "base_uri": "https://localhost:8080/",
          "height": 629
        },
        "outputId": "39d4255b-fa67-4f82-a4ae-c436510cafc4"
      },
      "source": [
        "plt.figure(figsize=(15,7.5))\n",
        "\n",
        "for i in range(8):\n",
        "    ax = plt.subplot(240+i+1)\n",
        "    pim.show(imgs[i], ax)\n",
        "    plt.title(\"PI of $H_1$ for {}\".format(y_train.iloc[10+i]))"
      ],
      "execution_count": null,
      "outputs": [
        {
          "output_type": "display_data",
          "data": {
            "image/png": "[encoded data removed]",
            "text/plain": [
              "<Figure size 1500x750 with 8 Axes>"
            ]
          },
          "metadata": {
            "tags": []
          }
        }
      ]
    },
    {
      "cell_type": "code",
      "metadata": {
        "id": "OWhCS-jnwfQw",
        "colab": {
          "base_uri": "https://localhost:8080/",
          "height": 447
        },
        "outputId": "29dff955-c5ac-4e7f-e99d-68d731ae1e10"
      },
      "source": [
        "plt.plot(X_train.iloc[250].dropna())"
      ],
      "execution_count": null,
      "outputs": [
        {
          "output_type": "execute_result",
          "data": {
            "text/plain": [
              "[<matplotlib.lines.Line2D at 0x7f286afc5c50>]"
            ]
          },
          "metadata": {
            "tags": []
          },
          "execution_count": 149
        },
        {
          "output_type": "display_data",
          "data": {
            "image/png": "[encoded data removed]",
            "text/plain": [
              "<Figure size 640x480 with 1 Axes>"
            ]
          },
          "metadata": {
            "tags": []
          }
        }
      ]
    },
    {
      "cell_type": "code",
      "metadata": {
        "id": "iDTB7Fqcw4w0",
        "colab": {
          "base_uri": "https://localhost:8080/",
          "height": 447
        },
        "outputId": "d166bb6c-b623-4c1e-8945-ba26a110715b"
      },
      "source": [
        "embed_idx = 2\n",
        "plt.scatter(embeddings[embed_idx][:,0], embeddings[embed_idx][:,1])\n"
      ],
      "execution_count": null,
      "outputs": [
        {
          "output_type": "execute_result",
          "data": {
            "text/plain": [
              "<matplotlib.collections.PathCollection at 0x7f2868c054e0>"
            ]
          },
          "metadata": {
            "tags": []
          },
          "execution_count": 168
        },
        {
          "output_type": "display_data",
          "data": {
            "image/png": "[encoded data removed]",
            "text/plain": [
              "<Figure size 640x480 with 1 Axes>"
            ]
          },
          "metadata": {
            "tags": []
          }
        }
      ]
    },
    {
      "cell_type": "code",
      "metadata": {
        "id": "3AxztZ3pzI3o"
      },
      "source": [
        ""
      ],
      "execution_count": null,
      "outputs": []
    }
  ]
}