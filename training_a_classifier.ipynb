{
  "nbformat": 4,
  "nbformat_minor": 0,
  "metadata": {
    "colab": {
      "name": "training_a_classifier.ipynb",
      "provenance": [],
      "collapsed_sections": [],
      "authorship_tag": "ABX9TyODYcrwZ22pcCW6Z2yk4OR8",
      "include_colab_link": true
    },
    "kernelspec": {
      "name": "python3",
      "display_name": "Python 3"
    },
    "accelerator": "GPU",
    "widgets": {
      "application/vnd.jupyter.widget-state+json": {
        "24d4036e06394ed0ad6262873b4f2b23": {
          "model_module": "@jupyter-widgets/controls",
          "model_name": "HBoxModel",
          "state": {
            "_view_name": "HBoxView",
            "_dom_classes": [],
            "_model_name": "HBoxModel",
            "_view_module": "@jupyter-widgets/controls",
            "_model_module_version": "1.5.0",
            "_view_count": null,
            "_view_module_version": "1.5.0",
            "box_style": "",
            "layout": "IPY_MODEL_0b67f9f2c08540bdb0db330340d0d6bb",
            "_model_module": "@jupyter-widgets/controls",
            "children": [
              "IPY_MODEL_ec99ca97e4b0411181fc0deb36947bfa",
              "IPY_MODEL_b6911c1d0aa44f0494c346ab925708d4"
            ]
          }
        },
        "0b67f9f2c08540bdb0db330340d0d6bb": {
          "model_module": "@jupyter-widgets/base",
          "model_name": "LayoutModel",
          "state": {
            "_view_name": "LayoutView",
            "grid_template_rows": null,
            "right": null,
            "justify_content": null,
            "_view_module": "@jupyter-widgets/base",
            "overflow": null,
            "_model_module_version": "1.2.0",
            "_view_count": null,
            "flex_flow": null,
            "width": null,
            "min_width": null,
            "border": null,
            "align_items": null,
            "bottom": null,
            "_model_module": "@jupyter-widgets/base",
            "top": null,
            "grid_column": null,
            "overflow_y": null,
            "overflow_x": null,
            "grid_auto_flow": null,
            "grid_area": null,
            "grid_template_columns": null,
            "flex": null,
            "_model_name": "LayoutModel",
            "justify_items": null,
            "grid_row": null,
            "max_height": null,
            "align_content": null,
            "visibility": null,
            "align_self": null,
            "height": null,
            "min_height": null,
            "padding": null,
            "grid_auto_rows": null,
            "grid_gap": null,
            "max_width": null,
            "order": null,
            "_view_module_version": "1.2.0",
            "grid_template_areas": null,
            "object_position": null,
            "object_fit": null,
            "grid_auto_columns": null,
            "margin": null,
            "display": null,
            "left": null
          }
        },
        "ec99ca97e4b0411181fc0deb36947bfa": {
          "model_module": "@jupyter-widgets/controls",
          "model_name": "IntProgressModel",
          "state": {
            "_view_name": "ProgressView",
            "style": "IPY_MODEL_9c195ad987e84f56a542a42aaee5fb9e",
            "_dom_classes": [],
            "description": "",
            "_model_name": "IntProgressModel",
            "bar_style": "info",
            "max": 1,
            "_view_module": "@jupyter-widgets/controls",
            "_model_module_version": "1.5.0",
            "value": 1,
            "_view_count": null,
            "_view_module_version": "1.5.0",
            "orientation": "horizontal",
            "min": 0,
            "description_tooltip": null,
            "_model_module": "@jupyter-widgets/controls",
            "layout": "IPY_MODEL_fe45314431704447ae75b8144864a63c"
          }
        },
        "b6911c1d0aa44f0494c346ab925708d4": {
          "model_module": "@jupyter-widgets/controls",
          "model_name": "HTMLModel",
          "state": {
            "_view_name": "HTMLView",
            "style": "IPY_MODEL_00602de6246c46188648fc467a629252",
            "_dom_classes": [],
            "description": "",
            "_model_name": "HTMLModel",
            "placeholder": "​",
            "_view_module": "@jupyter-widgets/controls",
            "_model_module_version": "1.5.0",
            "value": " 170500096/? [00:19&lt;00:00, 51335224.15it/s]",
            "_view_count": null,
            "_view_module_version": "1.5.0",
            "description_tooltip": null,
            "_model_module": "@jupyter-widgets/controls",
            "layout": "IPY_MODEL_98e45847362740a08ffe8c7ab46d7fdd"
          }
        },
        "9c195ad987e84f56a542a42aaee5fb9e": {
          "model_module": "@jupyter-widgets/controls",
          "model_name": "ProgressStyleModel",
          "state": {
            "_view_name": "StyleView",
            "_model_name": "ProgressStyleModel",
            "description_width": "initial",
            "_view_module": "@jupyter-widgets/base",
            "_model_module_version": "1.5.0",
            "_view_count": null,
            "_view_module_version": "1.2.0",
            "bar_color": null,
            "_model_module": "@jupyter-widgets/controls"
          }
        },
        "fe45314431704447ae75b8144864a63c": {
          "model_module": "@jupyter-widgets/base",
          "model_name": "LayoutModel",
          "state": {
            "_view_name": "LayoutView",
            "grid_template_rows": null,
            "right": null,
            "justify_content": null,
            "_view_module": "@jupyter-widgets/base",
            "overflow": null,
            "_model_module_version": "1.2.0",
            "_view_count": null,
            "flex_flow": null,
            "width": null,
            "min_width": null,
            "border": null,
            "align_items": null,
            "bottom": null,
            "_model_module": "@jupyter-widgets/base",
            "top": null,
            "grid_column": null,
            "overflow_y": null,
            "overflow_x": null,
            "grid_auto_flow": null,
            "grid_area": null,
            "grid_template_columns": null,
            "flex": null,
            "_model_name": "LayoutModel",
            "justify_items": null,
            "grid_row": null,
            "max_height": null,
            "align_content": null,
            "visibility": null,
            "align_self": null,
            "height": null,
            "min_height": null,
            "padding": null,
            "grid_auto_rows": null,
            "grid_gap": null,
            "max_width": null,
            "order": null,
            "_view_module_version": "1.2.0",
            "grid_template_areas": null,
            "object_position": null,
            "object_fit": null,
            "grid_auto_columns": null,
            "margin": null,
            "display": null,
            "left": null
          }
        },
        "00602de6246c46188648fc467a629252": {
          "model_module": "@jupyter-widgets/controls",
          "model_name": "DescriptionStyleModel",
          "state": {
            "_view_name": "StyleView",
            "_model_name": "DescriptionStyleModel",
            "description_width": "",
            "_view_module": "@jupyter-widgets/base",
            "_model_module_version": "1.5.0",
            "_view_count": null,
            "_view_module_version": "1.2.0",
            "_model_module": "@jupyter-widgets/controls"
          }
        },
        "98e45847362740a08ffe8c7ab46d7fdd": {
          "model_module": "@jupyter-widgets/base",
          "model_name": "LayoutModel",
          "state": {
            "_view_name": "LayoutView",
            "grid_template_rows": null,
            "right": null,
            "justify_content": null,
            "_view_module": "@jupyter-widgets/base",
            "overflow": null,
            "_model_module_version": "1.2.0",
            "_view_count": null,
            "flex_flow": null,
            "width": null,
            "min_width": null,
            "border": null,
            "align_items": null,
            "bottom": null,
            "_model_module": "@jupyter-widgets/base",
            "top": null,
            "grid_column": null,
            "overflow_y": null,
            "overflow_x": null,
            "grid_auto_flow": null,
            "grid_area": null,
            "grid_template_columns": null,
            "flex": null,
            "_model_name": "LayoutModel",
            "justify_items": null,
            "grid_row": null,
            "max_height": null,
            "align_content": null,
            "visibility": null,
            "align_self": null,
            "height": null,
            "min_height": null,
            "padding": null,
            "grid_auto_rows": null,
            "grid_gap": null,
            "max_width": null,
            "order": null,
            "_view_module_version": "1.2.0",
            "grid_template_areas": null,
            "object_position": null,
            "object_fit": null,
            "grid_auto_columns": null,
            "margin": null,
            "display": null,
            "left": null
          }
        }
      }
    }
  },
  "cells": [
    {
      "cell_type": "markdown",
      "metadata": {
        "id": "view-in-github",
        "colab_type": "text"
      },
      "source": [
        "<a href=\"https://colab.research.google.com/github/DrLennon666/DAT4-students/blob/master/training_a_classifier.ipynb\" target=\"_parent\"><img src=\"https://colab.research.google.com/assets/colab-badge.svg\" alt=\"Open In Colab\"/></a>"
      ]
    },
    {
      "cell_type": "markdown",
      "metadata": {
        "id": "0qnx0iTVjSr8",
        "colab_type": "text"
      },
      "source": [
        "#TRAINING A CLASSIFIER\n",
        "This is it. You have seen how to define neural networks, compute loss and make updates to the weights of the network.\n",
        "\n",
        "Now you might be thinking,\n",
        "\n",
        "What about data?\n",
        "Generally, when you have to deal with image, text, audio or video data, you can use standard python packages that load data into a numpy array. Then you can convert this array into a `torch.*Tensor`.\n",
        "\n",
        "For images, packages such as Pillow, OpenCV are useful\n",
        "For audio, packages such as scipy and librosa\n",
        "For text, either raw Python or Cython based loading, or NLTK and SpaCy are useful\n",
        "Specifically for vision, we have created a package called `torchvision`, that has data loaders for common datasets such as Imagenet, CIFAR10, MNIST, etc. and data transformers for images, viz., `torchvision.datasets` and `torch.utils.data.DataLoader`.\n",
        "\n",
        "This provides a huge convenience and avoids writing boilerplate code.\n",
        "\n",
        "For this tutorial, we will use the CIFAR10 dataset. It has the classes: ‘airplane’, ‘automobile’, ‘bird’, ‘cat’, ‘deer’, ‘dog’, ‘frog’, ‘horse’, ‘ship’, ‘truck’. The images in CIFAR-10 are of size 3x32x32, i.e. 3-channel color images of 32x32 pixels in size.\n",
        "\n",
        "\n",
        "![alt text](https://pytorch.org/tutorials/_images/cifar10.png)\n",
        "cifar10\n",
        "\n",
        "# Training an image classifier\n",
        "We will do the following steps in order:\n",
        "\n",
        "1. Load and normalizing the CIFAR10 training and test datasets using torchvision\n",
        "2. Define a Convolutional Neural Network\n",
        "3. Define a loss function\n",
        "4. Train the network on the training data\n",
        "5. Test the network on the test data\n",
        "\n",
        "#1. Loading and normalizing CIFAR10\n",
        "Using torchvision, it’s extremely easy to load CIFAR10."
      ]
    },
    {
      "cell_type": "code",
      "metadata": {
        "id": "jO9cFe01iDaS",
        "colab_type": "code",
        "colab": {}
      },
      "source": [
        "import torch\n",
        "import torchvision\n",
        "import torchvision.transforms as transforms\n",
        "from torchvision import datasets\n",
        "import torch.nn as nn\n",
        "import torch.nn.functional as F\n",
        "import torch.optim as optim\n",
        "\n",
        "import numpy as np\n",
        "import matplotlib.pyplot as plt"
      ],
      "execution_count": 0,
      "outputs": []
    },
    {
      "cell_type": "markdown",
      "metadata": {
        "id": "eLJvqq38kNJ2",
        "colab_type": "text"
      },
      "source": [
        "The output of torchvision datasets are PILImage images of range [0, 1]. We transform them to Tensors of normalized range [-1, 1]."
      ]
    },
    {
      "cell_type": "code",
      "metadata": {
        "id": "eIqLDNvDkVmG",
        "colab_type": "code",
        "outputId": "3e884b8d-7a90-4405-97cd-c67f3cf9f0c2",
        "colab": {
          "base_uri": "https://localhost:8080/",
          "height": 100,
          "referenced_widgets": [
            "24d4036e06394ed0ad6262873b4f2b23",
            "0b67f9f2c08540bdb0db330340d0d6bb",
            "ec99ca97e4b0411181fc0deb36947bfa",
            "b6911c1d0aa44f0494c346ab925708d4",
            "9c195ad987e84f56a542a42aaee5fb9e",
            "fe45314431704447ae75b8144864a63c",
            "00602de6246c46188648fc467a629252",
            "98e45847362740a08ffe8c7ab46d7fdd"
          ]
        }
      },
      "source": [
        "transform = transforms.Compose(\n",
        "    [transforms.ToTensor(), transforms.Normalize((0.5,0.5,0.5), (0.5,0.5,0.5))])\n",
        "\n",
        "trainset = torchvision.datasets.CIFAR10(root='./data', train=True,\n",
        "                                  download=True, transform=transform)\n",
        "trainloader = torch.utils.data.DataLoader(trainset, batch_size=4,\n",
        "                                          shuffle=True, num_workers=2)\n",
        "\n",
        "testset = torchvision.datasets.CIFAR10(root='./data', train=False,\n",
        "                                 download=True, transform=transform)\n",
        "testloader = torch.utils.data.DataLoader(testset, batch_size=4,\n",
        "                                         shuffle=False, num_workers=2)\n",
        "\n",
        "classes = ('plane', 'car', 'bird', 'cat',\n",
        "           'deer', 'dog', 'frog', 'horse', 'ship', 'truck')"
      ],
      "execution_count": 0,
      "outputs": [
        {
          "output_type": "stream",
          "text": [
            "Downloading https://www.cs.toronto.edu/~kriz/cifar-10-python.tar.gz to ./data/cifar-10-python.tar.gz\n"
          ],
          "name": "stdout"
        },
        {
          "output_type": "display_data",
          "data": {
            "application/vnd.jupyter.widget-view+json": {
              "model_id": "24d4036e06394ed0ad6262873b4f2b23",
              "version_minor": 0,
              "version_major": 2
            },
            "text/plain": [
              "HBox(children=(IntProgress(value=1, bar_style='info', max=1), HTML(value='')))"
            ]
          },
          "metadata": {
            "tags": []
          }
        },
        {
          "output_type": "stream",
          "text": [
            "Extracting ./data/cifar-10-python.tar.gz to ./data\n",
            "Files already downloaded and verified\n"
          ],
          "name": "stdout"
        }
      ]
    },
    {
      "cell_type": "code",
      "metadata": {
        "id": "r04FdYBim4dD",
        "colab_type": "code",
        "outputId": "606019ed-12bf-4c50-8a4d-af42043e54f5",
        "colab": {
          "base_uri": "https://localhost:8080/",
          "height": 155
        }
      },
      "source": [
        "# Function to show an image\n",
        "\n",
        "def imshow(img):\n",
        "  img = img/2 + 0.5 # unnormalize images back to [0, 1] values\n",
        "  img = img.numpy() # convert Torch Tensor to Numpy array\n",
        "  img = np.transpose(img, (1, 2, 0)) # transpose Numpy array from channels first to channels last\n",
        "\n",
        "  plt.imshow(img)\n",
        "  plt.show()\n",
        "\n",
        "# get some random training images\n",
        "images, labels = iter(trainloader).next() # get batch from iterator\n",
        "\n",
        "# show images\n",
        "image_grid = torchvision.utils.make_grid(images) # combines Tensors in batch into a grid, cute but will use sparingly\n",
        "imshow(image_grid)\n",
        "\n",
        "print(' '.join('%5s' % classes[labels[j]] for j in range(4)))"
      ],
      "execution_count": 0,
      "outputs": [
        {
          "output_type": "display_data",
          "data": {
            "image/png": "[encoded data removed]",
            "text/plain": [
              "<Figure size 432x288 with 1 Axes>"
            ]
          },
          "metadata": {
            "tags": [],
            "needs_background": "light"
          }
        },
        {
          "output_type": "stream",
          "text": [
            "horse truck  deer  deer\n"
          ],
          "name": "stdout"
        }
      ]
    },
    {
      "cell_type": "markdown",
      "metadata": {
        "id": "OJz7A8xDs8Pm",
        "colab_type": "text"
      },
      "source": [
        "#2. Define a Convolutional Neural Network\n",
        "Copy the neural network from the Neural Networks section before and modify it to take 3-channel images (instead of 1-channel images as it was defined).\n",
        "\n",
        "Recall: the resulting tensor size after a convolution is\n",
        "$$[\\frac{n+2p-f}{s}+1] \\times [\\frac{n+2p-f}{s}+1] $$\n",
        "\n",
        "where $n$ is the original Tensor dimension, $p$ is the padding size, and $s$ is the stride length."
      ]
    },
    {
      "cell_type": "code",
      "metadata": {
        "id": "mJru0dg0x4vB",
        "colab_type": "code",
        "outputId": "8941e8a5-94ab-4d1a-9259-46e87c804cd6",
        "colab": {
          "base_uri": "https://localhost:8080/",
          "height": 68
        }
      },
      "source": [
        "def tensor_size(n,f, p=0, s=1):\n",
        "  ''' quickly determine resulting tensor size after\n",
        "      a convolution. padding is 0 by default and stride\n",
        "      is 1 by default. Assumes a square tensor.\n",
        "      n: original tensor size\n",
        "      f: kernel size\n",
        "      '''\n",
        "  t_size = (n + 2*p -f)/s + 1\n",
        "  return (t_size, t_size)\n",
        "\n",
        "print('first convolution:', tensor_size(32, 5))\n",
        "print('second convolution:', tensor_size(28/2, 5)) # after maxpool of 2\n",
        "\n",
        "# first fully connected layer\n",
        "channels = 16\n",
        "second_conv = tensor_size(28/2, 5)\n",
        "channels*second_conv[0]*second_conv[1]"
      ],
      "execution_count": 0,
      "outputs": [
        {
          "output_type": "stream",
          "text": [
            "first convolution: (28.0, 28.0)\n",
            "second convolution: (10.0, 10.0)\n"
          ],
          "name": "stdout"
        },
        {
          "output_type": "execute_result",
          "data": {
            "text/plain": [
              "1600.0"
            ]
          },
          "metadata": {
            "tags": []
          },
          "execution_count": 4
        }
      ]
    },
    {
      "cell_type": "code",
      "metadata": {
        "id": "w2KXYvXpj6_3",
        "colab_type": "code",
        "colab": {}
      },
      "source": [
        "class Net(nn.Module):\n",
        "  def __init__(self):\n",
        "    super(Net, self).__init__()\n",
        "    # define layers from nn.Module here\n",
        "    self.conv1 = nn.Conv2d(3,6,5) # (in channels, out channels, kernel)\n",
        "    self.conv2 = nn.Conv2d(6, 16, 5)\n",
        "    #self.pool = nn.MaxPool2d(2,2) # 2x2 square with stride of 2\n",
        "    self.fc1 = nn.Linear(16 * 5 * 5, 120)\n",
        "    self.fc2 = nn.Linear(120, 84)\n",
        "    self.fc3 = nn.Linear(84, 10) # final layer nodes=num classes\n",
        "\n",
        "  def forward(self, x):\n",
        "    x = F.relu(self.conv1(x))\n",
        "    x = F.max_pool2d(x, (2,2), 2) # 2x2 square with stride of 2\n",
        "    x = F.relu(self.conv2(x))\n",
        "    x = F.max_pool2d(x, (2,2),2)\n",
        "    x = x.view(-1, 16*5*5) # reshape prior to fully connected layer\n",
        "    x = F.relu(self.fc1(x))\n",
        "    x = F.relu(self.fc2(x))\n",
        "    x = self.fc3(x) # no activation function as nn.CrossEntropy contains softmax\n",
        "    return x\n",
        "\n",
        "net = Net()"
      ],
      "execution_count": 0,
      "outputs": []
    },
    {
      "cell_type": "code",
      "metadata": {
        "id": "99QL9rJEENOA",
        "colab_type": "code",
        "colab": {}
      },
      "source": [
        "# This network class was copied from the pytorch tutorial and is nominally\n",
        "# the same as the network above. The difference being that the maxpool layer was\n",
        "# defined in the __init__ function and not called through the functional module\n",
        "# which really just calls nn.MaxPool2d. They both work, but choose a convention\n",
        "# and stick with it going forward.\n",
        "\n",
        "class Net(nn.Module):\n",
        "    def __init__(self):\n",
        "        super(Net, self).__init__()\n",
        "        self.conv1 = nn.Conv2d(3, 6, 5)\n",
        "        self.pool = nn.MaxPool2d(2, 2)\n",
        "        self.conv2 = nn.Conv2d(6, 16, 5)\n",
        "        self.fc1 = nn.Linear(16 * 5 * 5, 120)\n",
        "        self.fc2 = nn.Linear(120, 84)\n",
        "        self.fc3 = nn.Linear(84, 10)\n",
        "\n",
        "    def forward(self, x):\n",
        "        x = self.pool(F.relu(self.conv1(x)))\n",
        "        x = self.pool(F.relu(self.conv2(x)))\n",
        "        x = x.view(-1, 16 * 5 * 5)\n",
        "        x = F.relu(self.fc1(x))\n",
        "        x = F.relu(self.fc2(x))\n",
        "        x = self.fc3(x)\n",
        "        return x\n",
        "\n",
        "\n",
        "net = Net()"
      ],
      "execution_count": 0,
      "outputs": []
    },
    {
      "cell_type": "markdown",
      "metadata": {
        "id": "c1lGooae6RPR",
        "colab_type": "text"
      },
      "source": [
        "#3. Define a Loss function and optimizer\n",
        "Let’s use a Classification Cross-Entropy loss and SGD with momentum."
      ]
    },
    {
      "cell_type": "code",
      "metadata": {
        "id": "8F79Y-c16lQx",
        "colab_type": "code",
        "colab": {}
      },
      "source": [
        "criterion = nn.CrossEntropyLoss()\n",
        "optimizer = optim.SGD(net.parameters(), lr=0.001, momentum=0.9)"
      ],
      "execution_count": 0,
      "outputs": []
    },
    {
      "cell_type": "markdown",
      "metadata": {
        "id": "k-Sj8DBl7zZT",
        "colab_type": "text"
      },
      "source": [
        "# 4. Train the network\n",
        "This is when things start to get interesting. We simply have to loop over our data iterator, and feed the inputs to the network and optimize."
      ]
    },
    {
      "cell_type": "code",
      "metadata": {
        "id": "4MJ5937H8lpI",
        "colab_type": "code",
        "outputId": "ca0c6415-b01d-4e5b-c277-054cc92dbd34",
        "colab": {
          "base_uri": "https://localhost:8080/",
          "height": 238
        }
      },
      "source": [
        "for epoch in range(2):\n",
        "\n",
        "  running_loss = 0.0\n",
        "  for i, data in enumerate(trainloader, 0):\n",
        "    # get the inputs; data is list of [inputs, labels]\n",
        "    inputs, labels = data\n",
        "\n",
        "    # zero the paramter gradients\n",
        "    optimizer.zero_grad()\n",
        "\n",
        "    # forward + backward + optimize\n",
        "    outputs = net(inputs)\n",
        "    loss = criterion(outputs, labels)\n",
        "    loss.backward()\n",
        "    optimizer.step()\n",
        "\n",
        "    # print statistics\n",
        "    running_loss += loss.item()\n",
        "    if i%2000 == 1999: # print every 2000 mini-batches\n",
        "      print('[%d, %5d loss: %.3f' % \n",
        "            (epoch + 1, i+1, running_loss/2000))\n",
        "      running_loss = 0.0\n",
        "print('Finished Training')\n"
      ],
      "execution_count": 0,
      "outputs": [
        {
          "output_type": "stream",
          "text": [
            "[1,  2000 loss: 2.185\n",
            "[1,  4000 loss: 1.852\n",
            "[1,  6000 loss: 1.711\n",
            "[1,  8000 loss: 1.605\n",
            "[1, 10000 loss: 1.516\n",
            "[1, 12000 loss: 1.482\n",
            "[2,  2000 loss: 1.394\n",
            "[2,  4000 loss: 1.379\n",
            "[2,  6000 loss: 1.362\n",
            "[2,  8000 loss: 1.316\n",
            "[2, 10000 loss: 1.291\n",
            "[2, 12000 loss: 1.296\n",
            "Finished Training\n"
          ],
          "name": "stdout"
        }
      ]
    },
    {
      "cell_type": "markdown",
      "metadata": {
        "id": "WatLu9WtDnQk",
        "colab_type": "text"
      },
      "source": [
        "Let’s quickly save our trained model:\n",
        "\n"
      ]
    },
    {
      "cell_type": "code",
      "metadata": {
        "id": "2RwBL3O7qVWj",
        "colab_type": "code",
        "colab": {}
      },
      "source": [
        "PATH = './cifar_net.pth'\n",
        "torch.save(net.state_dict(), PATH)"
      ],
      "execution_count": 0,
      "outputs": []
    },
    {
      "cell_type": "markdown",
      "metadata": {
        "id": "adJ6XolkDuks",
        "colab_type": "text"
      },
      "source": [
        "See [here](https://pytorch.org/docs/stable/notes/serialization.html) for more details on saving PyTorch models.\n",
        "\n",
        "#5. Test the network on the test data\n",
        "We have trained the network for 2 passes over the training dataset. But we need to check if the network has learnt anything at all.\n",
        "\n",
        "We will check this by predicting the class label that the neural network outputs, and checking it against the ground-truth. If the prediction is correct, we add the sample to the list of correct predictions.\n",
        "\n",
        "Okay, first step. Let us display an image from the test set to get familiar."
      ]
    },
    {
      "cell_type": "code",
      "metadata": {
        "id": "fZNZFXWcrsz1",
        "colab_type": "code",
        "outputId": "c4f57489-86c5-431a-eb2a-c790e9fe0665",
        "colab": {
          "base_uri": "https://localhost:8080/",
          "height": 155
        }
      },
      "source": [
        "dataiter = iter(testloader)\n",
        "images, labels = dataiter.next()\n",
        "\n",
        "# print images\n",
        "imshow(torchvision.utils.make_grid(images))\n",
        "print('GroundTruth: ', ' '.join('%5s' % classes[labels[j]] for j in range(4)))"
      ],
      "execution_count": 0,
      "outputs": [
        {
          "output_type": "display_data",
          "data": {
            "image/png": "[encoded data removed]",
            "text/plain": [
              "<Figure size 432x288 with 1 Axes>"
            ]
          },
          "metadata": {
            "tags": [],
            "needs_background": "light"
          }
        },
        {
          "output_type": "stream",
          "text": [
            "GroundTruth:    cat  ship  ship plane\n"
          ],
          "name": "stdout"
        }
      ]
    },
    {
      "cell_type": "markdown",
      "metadata": {
        "id": "zO42KzUFsnKK",
        "colab_type": "text"
      },
      "source": [
        "Next, let’s load back in our saved model (note: saving and re-loading the model wasn’t necessary here, we only did it to illustrate how to do so):"
      ]
    },
    {
      "cell_type": "code",
      "metadata": {
        "id": "YXyiBjZbAg6K",
        "colab_type": "code",
        "outputId": "82f74d13-f359-4ecb-e71b-471dccde1048",
        "colab": {
          "base_uri": "https://localhost:8080/",
          "height": 34
        }
      },
      "source": [
        "net = Net()\n",
        "net.load_state_dict(torch.load(PATH))"
      ],
      "execution_count": 0,
      "outputs": [
        {
          "output_type": "execute_result",
          "data": {
            "text/plain": [
              "<All keys matched successfully>"
            ]
          },
          "metadata": {
            "tags": []
          },
          "execution_count": 15
        }
      ]
    },
    {
      "cell_type": "markdown",
      "metadata": {
        "id": "c7-1kVEmtlKk",
        "colab_type": "text"
      },
      "source": [
        "Okay, now let us see what the neural network thinks these examples above are:"
      ]
    },
    {
      "cell_type": "code",
      "metadata": {
        "id": "y8QJHz_QA5km",
        "colab_type": "code",
        "colab": {}
      },
      "source": [
        "outputs = net(images)"
      ],
      "execution_count": 0,
      "outputs": []
    },
    {
      "cell_type": "markdown",
      "metadata": {
        "id": "aUJwHahhuvnv",
        "colab_type": "text"
      },
      "source": [
        "The outputs are energies for the 10 classes. The higher the energy for a class, the more the network thinks that the image is of the particular class. \n",
        "\n",
        "As an example for `outputs[0]` the result is \n",
        "\n",
        "`tensor([-0.7494, -2.3089,  1.0740,  2.2455, -0.7364,  0.8663,  0.9730, -1.2540,\n",
        "        -0.5367, -1.5057], grad_fn=<SelectBackward>)`\n",
        "\n",
        "So, let’s get the index of the highest energy:"
      ]
    },
    {
      "cell_type": "code",
      "metadata": {
        "id": "P-USXxk1tSQ9",
        "colab_type": "code",
        "outputId": "df85e83f-27d7-4c13-d446-2478430d42e4",
        "colab": {
          "base_uri": "https://localhost:8080/",
          "height": 34
        }
      },
      "source": [
        "energy, prediction_idx = torch.max(outputs,1) # if the dimension to reduce '1' is not given a single value corresponding to the max in the mini-batch is given\n",
        "\n",
        "print('Predicted: ', ' '.join('%5s' % classes[prediction_idx[j]]\n",
        "                              for j in range(4)))"
      ],
      "execution_count": 0,
      "outputs": [
        {
          "output_type": "stream",
          "text": [
            "Predicted:   frog   dog   car horse\n"
          ],
          "name": "stdout"
        }
      ]
    },
    {
      "cell_type": "markdown",
      "metadata": {
        "id": "wv0oq__8yaY6",
        "colab_type": "text"
      },
      "source": [
        "The results seem pretty good.\n",
        "\n",
        "Let us look at how the network performs on the whole dataset."
      ]
    },
    {
      "cell_type": "code",
      "metadata": {
        "id": "6RQjTIqByfB_",
        "colab_type": "code",
        "outputId": "ed984ff1-f3c7-4762-e5e3-06fef1e1f98a",
        "colab": {
          "base_uri": "https://localhost:8080/",
          "height": 34
        }
      },
      "source": [
        "correct = 0\n",
        "total = 0\n",
        "with torch.no_grad():\n",
        "  for data in testloader:\n",
        "    images, labels = data\n",
        "    outputs = net(images)\n",
        "    _, predicted = torch.max(outputs.data,1)\n",
        "    total += labels.size(0)\n",
        "    correct += (predicted == labels).sum().item()\n",
        "\n",
        "print('Accuracy of the network on 10000 test images: %d %%' % (\n",
        "    100 * correct / total\n",
        "))"
      ],
      "execution_count": 0,
      "outputs": [
        {
          "output_type": "stream",
          "text": [
            "Accuracy of the network on 10000 test images: 55 %\n"
          ],
          "name": "stdout"
        }
      ]
    },
    {
      "cell_type": "markdown",
      "metadata": {
        "id": "8RBHhDzNzI7N",
        "colab_type": "text"
      },
      "source": [
        "That looks way better than chance, which is 10% accuracy (randomly picking a class out of 10 classes). Seems like the network learnt something.\n",
        "\n",
        "Hmmm, what are the classes that performed well, and the classes that did not perform well:"
      ]
    },
    {
      "cell_type": "code",
      "metadata": {
        "id": "P4sn-HlfzVO6",
        "colab_type": "code",
        "outputId": "3a5cf0bc-28e3-42a7-9741-493af0190c3b",
        "colab": {
          "base_uri": "https://localhost:8080/",
          "height": 187
        }
      },
      "source": [
        "class_correct = list(0. for i in range(10))\n",
        "class_total = list(0. for i in range(10))\n",
        "\n",
        "with torch.no_grad():\n",
        "  for data in testloader:\n",
        "    images, labels = data\n",
        "    outputs = net(images)\n",
        "    _, predicted = torch.max(outputs, 1)\n",
        "    c = (predicted == labels).squeeze()\n",
        "    for i in range(4):\n",
        "      label = labels[i]\n",
        "      class_correct[label] += c[i].item()\n",
        "      class_total[label] += 1\n",
        "\n",
        "  for i in range(10):\n",
        "    print('Accuracy of %5s : %2d %%' % (\n",
        "        classes[i], 100 * class_correct[i]/class_total[i]\n",
        "    ))"
      ],
      "execution_count": 0,
      "outputs": [
        {
          "output_type": "stream",
          "text": [
            "Accuracy of plane : 58 %\n",
            "Accuracy of   car : 67 %\n",
            "Accuracy of  bird : 44 %\n",
            "Accuracy of   cat : 18 %\n",
            "Accuracy of  deer : 34 %\n",
            "Accuracy of   dog : 68 %\n",
            "Accuracy of  frog : 63 %\n",
            "Accuracy of horse : 63 %\n",
            "Accuracy of  ship : 77 %\n",
            "Accuracy of truck : 59 %\n"
          ],
          "name": "stdout"
        }
      ]
    },
    {
      "cell_type": "markdown",
      "metadata": {
        "id": "LAcVNf5K1C3b",
        "colab_type": "text"
      },
      "source": [
        "Okay, so what next?\n",
        "\n",
        "How do we run these neural networks on the GPU?\n",
        "\n",
        "# Training on GPU\n",
        "Just like how you transfer a Tensor onto the GPU, you transfer the neural net onto the GPU.\n",
        "\n",
        "Let’s first define our device as the first visible cuda device if we have CUDA available:"
      ]
    },
    {
      "cell_type": "code",
      "metadata": {
        "id": "haXMt6yK2SHm",
        "colab_type": "code",
        "outputId": "2181459c-b0e9-4c89-aab5-05efe40ba3cf",
        "colab": {
          "base_uri": "https://localhost:8080/",
          "height": 34
        }
      },
      "source": [
        "device = torch.device(\"cuda:0\" if torch.cuda.is_available() else \"cpu\")\n",
        "print(device)"
      ],
      "execution_count": 0,
      "outputs": [
        {
          "output_type": "stream",
          "text": [
            "cuda:0\n"
          ],
          "name": "stdout"
        }
      ]
    },
    {
      "cell_type": "markdown",
      "metadata": {
        "id": "NouBZvAW2hBj",
        "colab_type": "text"
      },
      "source": [
        "The rest of this section assumes that device is a CUDA device.\n",
        "\n",
        "Then these methods will recursively go over all modules and convert their parameters and buffers to CUDA tensors:"
      ]
    },
    {
      "cell_type": "markdown",
      "metadata": {
        "id": "XqHeRqX62ndC",
        "colab_type": "text"
      },
      "source": [
        "The rest of this section assumes that device is a CUDA `device`.\n",
        "\n",
        "Then these methods will recursively go over all modules and convert their parameters and buffers to CUDA tensors:\n",
        "\n",
        "`net.to(device)`\n",
        "\n",
        "Remember that you will have to send the inputs and targets at every step to the GPU too:\n",
        "\n",
        "`inputs, labels = data[0].to(device), data[1].to(device)`\n",
        "\n",
        "Why dont I notice MASSIVE speedup compared to CPU? Because your network is really small."
      ]
    },
    {
      "cell_type": "code",
      "metadata": {
        "id": "cKnBdO8g29JB",
        "colab_type": "code",
        "outputId": "9d49178a-05cc-47e2-c94a-6169f7fe85c4",
        "colab": {
          "base_uri": "https://localhost:8080/",
          "height": 136
        }
      },
      "source": [
        "class Net(nn.Module):\n",
        "  def __init__(self):\n",
        "    super(Net, self).__init__()\n",
        "    # define layers from nn.Module here\n",
        "    self.conv1 = nn.Conv2d(3,6,5) # (in channels, out channels, kernel)\n",
        "    self.conv2 = nn.Conv2d(6, 16, 5)\n",
        "    self.fc1 = nn.Linear(16 * 5 * 5, 120)\n",
        "    self.fc2 = nn.Linear(120, 84)\n",
        "    self.fc3 = nn.Linear(84, 10) # final layer nodes=num classes\n",
        "\n",
        "  def forward(self, x):\n",
        "    x = F.relu(self.conv1(x))\n",
        "    x = F.max_pool2d(x, (2,2), 2) # 2x2 square with stride of 2\n",
        "    x = F.relu(self.conv2(x))\n",
        "    x = F.max_pool2d(x, (2,2),2)\n",
        "    x = x.view(-1, 16*5*5) # reshape prior to fully connected layer\n",
        "    x = F.relu(self.fc1(x))\n",
        "    x = F.relu(self.fc2(x))\n",
        "    x = self.fc3(x) # no activation function as nn.CrossEntropy contains softmax\n",
        "    return x\n",
        "\n",
        "net = Net()\n",
        "\n",
        "# Move network to GPU\n",
        "net.to(device)"
      ],
      "execution_count": 0,
      "outputs": [
        {
          "output_type": "execute_result",
          "data": {
            "text/plain": [
              "Net(\n",
              "  (conv1): Conv2d(3, 6, kernel_size=(5, 5), stride=(1, 1))\n",
              "  (conv2): Conv2d(6, 16, kernel_size=(5, 5), stride=(1, 1))\n",
              "  (fc1): Linear(in_features=400, out_features=120, bias=True)\n",
              "  (fc2): Linear(in_features=120, out_features=84, bias=True)\n",
              "  (fc3): Linear(in_features=84, out_features=10, bias=True)\n",
              ")"
            ]
          },
          "metadata": {
            "tags": []
          },
          "execution_count": 8
        }
      ]
    },
    {
      "cell_type": "code",
      "metadata": {
        "id": "LUPxa7LI64mP",
        "colab_type": "code",
        "outputId": "8bbe5c99-cde1-4a6f-edee-405a2762d026",
        "colab": {
          "base_uri": "https://localhost:8080/",
          "height": 34
        }
      },
      "source": [
        "criterion = nn.CrossEntropyLoss()\n",
        "optimizer = optim.SGD(net.parameters(), lr=0.001, momentum=0.9)\n",
        "\n",
        "# Add loss to GPU\n",
        "criterion.to(device)"
      ],
      "execution_count": 0,
      "outputs": [
        {
          "output_type": "execute_result",
          "data": {
            "text/plain": [
              "CrossEntropyLoss()"
            ]
          },
          "metadata": {
            "tags": []
          },
          "execution_count": 9
        }
      ]
    },
    {
      "cell_type": "code",
      "metadata": {
        "id": "sRcGfOcD3Izo",
        "colab_type": "code",
        "outputId": "03ca3c0e-1bd2-4402-a958-8cf85734905b",
        "colab": {
          "base_uri": "https://localhost:8080/",
          "height": 544
        }
      },
      "source": [
        "for epoch in range(5):\n",
        "\n",
        "  running_loss = 0.0\n",
        "  for i, data in enumerate(trainloader, 0):\n",
        "    # get the inputs; data is list of [inputs, labels]\n",
        "    inputs, labels = data[0].to(device), data[1].to(device)\n",
        "\n",
        "    # zero the paramter gradients\n",
        "    optimizer.zero_grad()\n",
        "\n",
        "    # forward + backward + optimize\n",
        "    outputs = net(inputs)\n",
        "    loss = criterion(outputs, labels)\n",
        "    loss.backward()\n",
        "    optimizer.step()\n",
        "\n",
        "    # print statistics\n",
        "    running_loss += loss.item()\n",
        "    if i%2000 == 1999: # print every 2000 mini-batches\n",
        "      print('[%d, %5d loss: %.3f' % \n",
        "            (epoch + 1, i+1, running_loss/2000))\n",
        "      running_loss = 0.0\n",
        "print('Finished Training')"
      ],
      "execution_count": 0,
      "outputs": [
        {
          "output_type": "stream",
          "text": [
            "[1,  2000 loss: 2.211\n",
            "[1,  4000 loss: 1.866\n",
            "[1,  6000 loss: 1.689\n",
            "[1,  8000 loss: 1.583\n",
            "[1, 10000 loss: 1.513\n",
            "[1, 12000 loss: 1.453\n",
            "[2,  2000 loss: 1.350\n",
            "[2,  4000 loss: 1.341\n",
            "[2,  6000 loss: 1.314\n",
            "[2,  8000 loss: 1.281\n",
            "[2, 10000 loss: 1.256\n",
            "[2, 12000 loss: 1.253\n",
            "[3,  2000 loss: 1.180\n",
            "[3,  4000 loss: 1.191\n",
            "[3,  6000 loss: 1.172\n",
            "[3,  8000 loss: 1.181\n",
            "[3, 10000 loss: 1.147\n",
            "[3, 12000 loss: 1.140\n",
            "[4,  2000 loss: 1.079\n",
            "[4,  4000 loss: 1.116\n",
            "[4,  6000 loss: 1.096\n",
            "[4,  8000 loss: 1.090\n",
            "[4, 10000 loss: 1.090\n",
            "[4, 12000 loss: 1.081\n",
            "[5,  2000 loss: 1.009\n",
            "[5,  4000 loss: 1.028\n",
            "[5,  6000 loss: 1.045\n",
            "[5,  8000 loss: 1.008\n",
            "[5, 10000 loss: 1.027\n",
            "[5, 12000 loss: 1.030\n",
            "Finished Training\n"
          ],
          "name": "stdout"
        }
      ]
    },
    {
      "cell_type": "markdown",
      "metadata": {
        "id": "AU7IHC0F22dV",
        "colab_type": "text"
      },
      "source": [
        "**Exercise:** Try increasing the width of your network (argument 2 of the first nn.Conv2d, and argument 1 of the second nn.Conv2d – they need to be the same number), see what kind of speedup you get."
      ]
    },
    {
      "cell_type": "code",
      "metadata": {
        "id": "GOp4msbwVvfD",
        "colab_type": "code",
        "colab": {}
      },
      "source": [
        "# Check if CUDA  is available and if so set the device.\n",
        "device = torch.device('cuda:0' if torch.cuda.is_available() else 'cpu')"
      ],
      "execution_count": 0,
      "outputs": []
    },
    {
      "cell_type": "code",
      "metadata": {
        "id": "ak1nvlCfw2YY",
        "colab_type": "code",
        "outputId": "d051a2eb-349e-4a2e-b4c0-3a02386e8a41",
        "colab": {
          "base_uri": "https://localhost:8080/",
          "height": 153
        }
      },
      "source": [
        "# Define and instantantiate the network\n",
        "\n",
        "class WideNet(nn.Module):\n",
        "  def __init__(self):\n",
        "    super(WideNet, self).__init__()\n",
        "    self.conv1 = nn.Conv2d(3, 16, 5)\n",
        "    self.conv2 = nn.Conv2d(16, 32, 5)\n",
        "    self.pool = nn.MaxPool2d(2, stride=2)\n",
        "    self.fc1 = nn.Linear(32*5*5, 120)\n",
        "    self.fc2 = nn.Linear(120, 84)\n",
        "    self.fc3 = nn.Linear(84, 10)\n",
        "\n",
        "  def forward(self, x):\n",
        "    x = self.pool(F.relu(self.conv1(x)))\n",
        "    x = self.pool(F.relu(self.conv2(x)))\n",
        "    x = x.view(-1, 32*5*5)\n",
        "    x = F.relu(self.fc1(x))\n",
        "    x = F.relu(self.fc2(x))\n",
        "    x = self.fc3(x)\n",
        "    return x\n",
        "\n",
        "wide_net = WideNet()\n",
        "print(wide_net)"
      ],
      "execution_count": 0,
      "outputs": [
        {
          "output_type": "stream",
          "text": [
            "WideNet(\n",
            "  (conv1): Conv2d(3, 16, kernel_size=(5, 5), stride=(1, 1))\n",
            "  (conv2): Conv2d(16, 32, kernel_size=(5, 5), stride=(1, 1))\n",
            "  (pool): MaxPool2d(kernel_size=2, stride=2, padding=0, dilation=1, ceil_mode=False)\n",
            "  (fc1): Linear(in_features=800, out_features=120, bias=True)\n",
            "  (fc2): Linear(in_features=120, out_features=84, bias=True)\n",
            "  (fc3): Linear(in_features=84, out_features=10, bias=True)\n",
            ")\n"
          ],
          "name": "stdout"
        }
      ]
    },
    {
      "cell_type": "code",
      "metadata": {
        "id": "U8WR4CJS09--",
        "colab_type": "code",
        "colab": {}
      },
      "source": [
        "# Define loss function and instantantiate optimizer\n",
        "criterion = nn.CrossEntropyLoss()\n",
        "optimizer = optim.SGD(wide_net.parameters(), lr=0.001, momentum=0.9)"
      ],
      "execution_count": 0,
      "outputs": []
    },
    {
      "cell_type": "code",
      "metadata": {
        "id": "IgMtJG8Oa9uH",
        "colab_type": "code",
        "outputId": "7c8a4a0b-893f-4946-8402-c066b16cbf50",
        "colab": {
          "base_uri": "https://localhost:8080/",
          "height": 34
        }
      },
      "source": [
        "# Move  network and loss to GPU\n",
        "wide_net.to(device)\n",
        "criterion.to(device)"
      ],
      "execution_count": 0,
      "outputs": [
        {
          "output_type": "execute_result",
          "data": {
            "text/plain": [
              "CrossEntropyLoss()"
            ]
          },
          "metadata": {
            "tags": []
          },
          "execution_count": 71
        }
      ]
    },
    {
      "cell_type": "code",
      "metadata": {
        "id": "qyrSVR-aZMfp",
        "colab_type": "code",
        "outputId": "3cddaa12-c168-48a3-fd1c-ab47611c214f",
        "colab": {
          "base_uri": "https://localhost:8080/",
          "height": 1000
        }
      },
      "source": [
        "# Traing loop\n",
        "num_epochs = 50\n",
        "\n",
        "for epoch in range(num_epochs):\n",
        "  running_loss=0.0\n",
        "  for i, data in enumerate(trainloader, 0):\n",
        "    # get the inputs; data is list of [inputs, labels]\n",
        "    inputs, labels = data[0].to(device), data[1].to(device)\n",
        "    # zero gradients\n",
        "  \n",
        "    optimizer.zero_grad()\n",
        "\n",
        "    # send batch through network\n",
        "    outputs = wide_net(inputs)\n",
        "    loss = criterion(outputs, labels)\n",
        "    # backprop\n",
        "    loss.backward()\n",
        "    optimizer.step()\n",
        "\n",
        "\n",
        "    #print statistics\n",
        "    running_loss += loss.item()\n",
        "    if i%2000 == 1999: # print every 2000 mini-batches\n",
        "        print('[%d, %5d loss: %.3f' % \n",
        "            (epoch + 1, i+1, running_loss/2000))\n",
        "        running_loss = 0.0\n",
        "print('Finished Training')"
      ],
      "execution_count": 0,
      "outputs": [
        {
          "output_type": "stream",
          "text": [
            "[1,  2000 loss: 0.711\n",
            "[1,  4000 loss: 0.742\n",
            "[1,  6000 loss: 0.745\n",
            "[1,  8000 loss: 0.767\n",
            "[1, 10000 loss: 0.755\n",
            "[1, 12000 loss: 0.767\n",
            "[2,  2000 loss: 0.635\n",
            "[2,  4000 loss: 0.657\n",
            "[2,  6000 loss: 0.707\n",
            "[2,  8000 loss: 0.679\n",
            "[2, 10000 loss: 0.709\n",
            "[2, 12000 loss: 0.721\n",
            "[3,  2000 loss: 0.590\n",
            "[3,  4000 loss: 0.600\n",
            "[3,  6000 loss: 0.649\n",
            "[3,  8000 loss: 0.639\n",
            "[3, 10000 loss: 0.669\n",
            "[3, 12000 loss: 0.661\n",
            "[4,  2000 loss: 0.543\n",
            "[4,  4000 loss: 0.573\n",
            "[4,  6000 loss: 0.570\n",
            "[4,  8000 loss: 0.609\n",
            "[4, 10000 loss: 0.591\n",
            "[4, 12000 loss: 0.628\n",
            "[5,  2000 loss: 0.491\n",
            "[5,  4000 loss: 0.532\n",
            "[5,  6000 loss: 0.555\n",
            "[5,  8000 loss: 0.551\n",
            "[5, 10000 loss: 0.555\n",
            "[5, 12000 loss: 0.619\n",
            "[6,  2000 loss: 0.452\n",
            "[6,  4000 loss: 0.481\n",
            "[6,  6000 loss: 0.514\n",
            "[6,  8000 loss: 0.524\n",
            "[6, 10000 loss: 0.559\n",
            "[6, 12000 loss: 0.551\n",
            "[7,  2000 loss: 0.435\n",
            "[7,  4000 loss: 0.450\n",
            "[7,  6000 loss: 0.472\n",
            "[7,  8000 loss: 0.487\n",
            "[7, 10000 loss: 0.508\n",
            "[7, 12000 loss: 0.540\n",
            "[8,  2000 loss: 0.398\n",
            "[8,  4000 loss: 0.433\n",
            "[8,  6000 loss: 0.456\n",
            "[8,  8000 loss: 0.475\n",
            "[8, 10000 loss: 0.502\n",
            "[8, 12000 loss: 0.485\n",
            "[9,  2000 loss: 0.361\n",
            "[9,  4000 loss: 0.414\n",
            "[9,  6000 loss: 0.432\n",
            "[9,  8000 loss: 0.456\n",
            "[9, 10000 loss: 0.477\n",
            "[9, 12000 loss: 0.469\n",
            "[10,  2000 loss: 0.341\n",
            "[10,  4000 loss: 0.378\n",
            "[10,  6000 loss: 0.433\n",
            "[10,  8000 loss: 0.443\n",
            "[10, 10000 loss: 0.445\n",
            "[10, 12000 loss: 0.474\n",
            "[11,  2000 loss: 0.314\n",
            "[11,  4000 loss: 0.353\n",
            "[11,  6000 loss: 0.386\n",
            "[11,  8000 loss: 0.411\n",
            "[11, 10000 loss: 0.446\n",
            "[11, 12000 loss: 0.436\n",
            "[12,  2000 loss: 0.328\n",
            "[12,  4000 loss: 0.354\n",
            "[12,  6000 loss: 0.394\n",
            "[12,  8000 loss: 0.405\n",
            "[12, 10000 loss: 0.440\n",
            "[12, 12000 loss: 0.428\n",
            "[13,  2000 loss: 0.308\n",
            "[13,  4000 loss: 0.337\n",
            "[13,  6000 loss: 0.368\n",
            "[13,  8000 loss: 0.413\n",
            "[13, 10000 loss: 0.421\n",
            "[13, 12000 loss: 0.419\n",
            "[14,  2000 loss: 0.311\n",
            "[14,  4000 loss: 0.359\n",
            "[14,  6000 loss: 0.346\n",
            "[14,  8000 loss: 0.395\n",
            "[14, 10000 loss: 0.396\n",
            "[14, 12000 loss: 0.406\n",
            "[15,  2000 loss: 0.272\n",
            "[15,  4000 loss: 0.335\n",
            "[15,  6000 loss: 0.337\n",
            "[15,  8000 loss: 0.355\n",
            "[15, 10000 loss: 0.389\n",
            "[15, 12000 loss: 0.402\n",
            "[16,  2000 loss: 0.303\n",
            "[16,  4000 loss: 0.320\n",
            "[16,  6000 loss: 0.322\n",
            "[16,  8000 loss: 0.355\n",
            "[16, 10000 loss: 0.383\n",
            "[16, 12000 loss: 0.377\n",
            "[17,  2000 loss: 0.296\n",
            "[17,  4000 loss: 0.332\n",
            "[17,  6000 loss: 0.347\n",
            "[17,  8000 loss: 0.358\n",
            "[17, 10000 loss: 0.380\n",
            "[17, 12000 loss: 0.388\n",
            "[18,  2000 loss: 0.258\n",
            "[18,  4000 loss: 0.298\n",
            "[18,  6000 loss: 0.336\n",
            "[18,  8000 loss: 0.342\n",
            "[18, 10000 loss: 0.359\n",
            "[18, 12000 loss: 0.376\n",
            "[19,  2000 loss: 0.266\n",
            "[19,  4000 loss: 0.300\n",
            "[19,  6000 loss: 0.296\n",
            "[19,  8000 loss: 0.320\n",
            "[19, 10000 loss: 0.342\n",
            "[19, 12000 loss: 0.383\n",
            "[20,  2000 loss: 0.273\n",
            "[20,  4000 loss: 0.295\n",
            "[20,  6000 loss: 0.315\n",
            "[20,  8000 loss: 0.351\n",
            "[20, 10000 loss: 0.385\n",
            "[20, 12000 loss: 0.358\n",
            "[21,  2000 loss: 0.272\n",
            "[21,  4000 loss: 0.300\n",
            "[21,  6000 loss: 0.327\n",
            "[21,  8000 loss: 0.347\n",
            "[21, 10000 loss: 0.367\n",
            "[21, 12000 loss: 0.380\n",
            "[22,  2000 loss: 0.286\n",
            "[22,  4000 loss: 0.313\n",
            "[22,  6000 loss: 0.293\n",
            "[22,  8000 loss: 0.359\n",
            "[22, 10000 loss: 0.335\n",
            "[22, 12000 loss: 0.378\n",
            "[23,  2000 loss: 0.271\n",
            "[23,  4000 loss: 0.285\n",
            "[23,  6000 loss: 0.323\n",
            "[23,  8000 loss: 0.288\n",
            "[23, 10000 loss: 0.350\n",
            "[23, 12000 loss: 0.340\n",
            "[24,  2000 loss: 0.255\n",
            "[24,  4000 loss: 0.255\n",
            "[24,  6000 loss: 0.315\n",
            "[24,  8000 loss: 0.339\n",
            "[24, 10000 loss: 0.367\n",
            "[24, 12000 loss: 0.353\n",
            "[25,  2000 loss: 0.287\n",
            "[25,  4000 loss: 0.285\n",
            "[25,  6000 loss: 0.309\n",
            "[25,  8000 loss: 0.320\n",
            "[25, 10000 loss: 0.340\n",
            "[25, 12000 loss: 0.348\n",
            "[26,  2000 loss: 0.228\n",
            "[26,  4000 loss: 0.301\n",
            "[26,  6000 loss: 0.298\n",
            "[26,  8000 loss: 0.328\n",
            "[26, 10000 loss: 0.346\n",
            "[26, 12000 loss: 0.357\n",
            "[27,  2000 loss: 0.258\n",
            "[27,  4000 loss: 0.310\n",
            "[27,  6000 loss: 0.299\n",
            "[27,  8000 loss: 0.346\n",
            "[27, 10000 loss: 0.351\n",
            "[27, 12000 loss: 0.344\n",
            "[28,  2000 loss: 0.267\n",
            "[28,  4000 loss: 0.263\n",
            "[28,  6000 loss: 0.312\n",
            "[28,  8000 loss: 0.338\n",
            "[28, 10000 loss: 0.367\n",
            "[28, 12000 loss: 0.345\n",
            "[29,  2000 loss: 0.274\n",
            "[29,  4000 loss: 0.279\n",
            "[29,  6000 loss: 0.305\n",
            "[29,  8000 loss: 0.321\n",
            "[29, 10000 loss: 0.383\n",
            "[29, 12000 loss: 0.385\n",
            "[30,  2000 loss: 0.235\n",
            "[30,  4000 loss: 0.336\n",
            "[30,  6000 loss: 0.311\n",
            "[30,  8000 loss: 0.325\n",
            "[30, 10000 loss: 0.341\n",
            "[30, 12000 loss: 0.362\n",
            "[31,  2000 loss: 0.260\n",
            "[31,  4000 loss: 0.289\n",
            "[31,  6000 loss: 0.338\n",
            "[31,  8000 loss: 0.347\n",
            "[31, 10000 loss: 0.364\n",
            "[31, 12000 loss: 0.355\n",
            "[32,  2000 loss: 0.259\n",
            "[32,  4000 loss: 0.313\n",
            "[32,  6000 loss: 0.319\n",
            "[32,  8000 loss: 0.334\n",
            "[32, 10000 loss: 0.351\n",
            "[32, 12000 loss: 0.327\n",
            "[33,  2000 loss: 0.228\n",
            "[33,  4000 loss: 0.337\n",
            "[33,  6000 loss: 0.301\n",
            "[33,  8000 loss: 0.359\n",
            "[33, 10000 loss: 0.325\n",
            "[33, 12000 loss: 0.377\n",
            "[34,  2000 loss: 0.259\n",
            "[34,  4000 loss: 0.257\n",
            "[34,  6000 loss: 0.321\n",
            "[34,  8000 loss: 0.338\n",
            "[34, 10000 loss: 0.377\n",
            "[34, 12000 loss: 0.365\n",
            "[35,  2000 loss: 0.278\n",
            "[35,  4000 loss: 0.297\n",
            "[35,  6000 loss: 0.313\n",
            "[35,  8000 loss: 0.289\n",
            "[35, 10000 loss: 0.371\n",
            "[35, 12000 loss: 0.353\n",
            "[36,  2000 loss: 0.301\n",
            "[36,  4000 loss: 0.310\n",
            "[36,  6000 loss: 0.300\n",
            "[36,  8000 loss: 0.342\n",
            "[36, 10000 loss: 0.354\n",
            "[36, 12000 loss: 0.362\n",
            "[37,  2000 loss: 0.296\n",
            "[37,  4000 loss: 0.309\n",
            "[37,  6000 loss: 0.321\n",
            "[37,  8000 loss: 0.364\n",
            "[37, 10000 loss: 0.366\n",
            "[37, 12000 loss: 0.398\n",
            "[38,  2000 loss: 0.285\n",
            "[38,  4000 loss: 0.321\n",
            "[38,  6000 loss: 0.362\n",
            "[38,  8000 loss: 0.330\n",
            "[38, 10000 loss: 0.354\n",
            "[38, 12000 loss: 0.349\n",
            "[39,  2000 loss: 0.265\n",
            "[39,  4000 loss: 0.275\n",
            "[39,  6000 loss: 0.308\n",
            "[39,  8000 loss: 0.346\n",
            "[39, 10000 loss: 0.344\n",
            "[39, 12000 loss: 0.347\n",
            "[40,  2000 loss: 0.284\n",
            "[40,  4000 loss: 0.291\n",
            "[40,  6000 loss: 0.302\n",
            "[40,  8000 loss: 0.334\n",
            "[40, 10000 loss: 0.369\n",
            "[40, 12000 loss: 0.404\n",
            "[41,  2000 loss: 0.301\n",
            "[41,  4000 loss: 0.312\n",
            "[41,  6000 loss: 0.296\n",
            "[41,  8000 loss: 0.360\n",
            "[41, 10000 loss: 0.374\n",
            "[41, 12000 loss: 0.359\n",
            "[42,  2000 loss: 0.297\n",
            "[42,  4000 loss: 0.325\n",
            "[42,  6000 loss: 0.302\n",
            "[42,  8000 loss: 0.325\n",
            "[42, 10000 loss: 0.377\n",
            "[42, 12000 loss: 0.387\n",
            "[43,  2000 loss: 0.280\n",
            "[43,  4000 loss: 0.308\n",
            "[43,  6000 loss: 0.330\n",
            "[43,  8000 loss: 0.333\n",
            "[43, 10000 loss: 0.347\n",
            "[43, 12000 loss: 0.347\n",
            "[44,  2000 loss: 0.308\n",
            "[44,  4000 loss: 0.323\n",
            "[44,  6000 loss: 0.318\n",
            "[44,  8000 loss: 0.333\n",
            "[44, 10000 loss: 0.354\n",
            "[44, 12000 loss: 0.358\n",
            "[45,  2000 loss: 0.279\n",
            "[45,  4000 loss: 0.309\n",
            "[45,  6000 loss: 0.356\n",
            "[45,  8000 loss: 0.346\n",
            "[45, 10000 loss: 0.360\n",
            "[45, 12000 loss: 0.388\n",
            "[46,  2000 loss: 0.282\n",
            "[46,  4000 loss: 0.348\n",
            "[46,  6000 loss: 0.336\n",
            "[46,  8000 loss: 0.379\n",
            "[46, 10000 loss: 0.364\n",
            "[46, 12000 loss: 0.387\n",
            "[47,  2000 loss: 0.275\n",
            "[47,  4000 loss: 0.299\n",
            "[47,  6000 loss: 0.331\n",
            "[47,  8000 loss: 0.330\n",
            "[47, 10000 loss: 0.373\n",
            "[47, 12000 loss: 0.431\n",
            "[48,  2000 loss: 0.276\n",
            "[48,  4000 loss: 0.313\n",
            "[48,  6000 loss: 0.291\n",
            "[48,  8000 loss: 0.385\n",
            "[48, 10000 loss: 0.378\n",
            "[48, 12000 loss: 0.391\n",
            "[49,  2000 loss: 0.290\n",
            "[49,  4000 loss: 0.396\n",
            "[49,  6000 loss: 0.326\n",
            "[49,  8000 loss: 0.365\n",
            "[49, 10000 loss: 0.356\n",
            "[49, 12000 loss: 0.432\n",
            "[50,  2000 loss: 0.307\n",
            "[50,  4000 loss: 0.292\n",
            "[50,  6000 loss: 0.353\n",
            "[50,  8000 loss: 0.365\n",
            "[50, 10000 loss: 0.391\n",
            "[50, 12000 loss: 0.369\n",
            "Finished Training\n"
          ],
          "name": "stdout"
        }
      ]
    },
    {
      "cell_type": "code",
      "metadata": {
        "id": "e3wBQOzfb4MW",
        "colab_type": "code",
        "outputId": "f192b98d-e9f9-43b6-93ea-8a98b9be08da",
        "colab": {
          "base_uri": "https://localhost:8080/",
          "height": 170
        }
      },
      "source": [
        "net(inputs)"
      ],
      "execution_count": 0,
      "outputs": [
        {
          "output_type": "execute_result",
          "data": {
            "text/plain": [
              "tensor([[ -3.4317,  -2.6435,   1.0037,   2.1649,   1.3610,   2.8814,   6.5350,\n",
              "          -0.0853,  -3.3463,  -2.9442],\n",
              "        [ -0.0429,   0.6195,  -0.5626,  -0.1992,  -0.1536,  -0.2989,  -0.1867,\n",
              "          -0.0885,   0.1379,   0.6079],\n",
              "        [  0.1318,  -3.7458,   2.8672,   0.5345,   3.8533,   0.8145,   2.6642,\n",
              "          -1.3094,  -0.6920,  -3.1790],\n",
              "        [  9.5001,   0.8170,  -1.7760,  -4.0523,   1.8881,  -5.2958, -10.0040,\n",
              "           0.3007,   5.2733,   4.6268]], device='cuda:0',\n",
              "       grad_fn=<AddmmBackward>)"
            ]
          },
          "metadata": {
            "tags": []
          },
          "execution_count": 55
        }
      ]
    },
    {
      "cell_type": "code",
      "metadata": {
        "id": "hTOcD-bfdP-G",
        "colab_type": "code",
        "outputId": "da89c05b-c762-430a-9ea3-8d4c96a3d138",
        "colab": {
          "base_uri": "https://localhost:8080/",
          "height": 34
        }
      },
      "source": [
        "criterion(outputs, labels)"
      ],
      "execution_count": 0,
      "outputs": [
        {
          "output_type": "execute_result",
          "data": {
            "text/plain": [
              "tensor(0.5962, device='cuda:0', grad_fn=<NllLossBackward>)"
            ]
          },
          "metadata": {
            "tags": []
          },
          "execution_count": 57
        }
      ]
    },
    {
      "cell_type": "code",
      "metadata": {
        "id": "Jh-pZD2Fel59",
        "colab_type": "code",
        "colab": {}
      },
      "source": [
        "nn.CrossEntropyLoss()"
      ],
      "execution_count": 0,
      "outputs": []
    }
  ]
}