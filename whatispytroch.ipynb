{
  "nbformat": 4,
  "nbformat_minor": 0,
  "metadata": {
    "colab": {
      "name": "whatispytroch.ipynb",
      "provenance": [],
      "collapsed_sections": [],
      "authorship_tag": "ABX9TyMjcmCMrBY2evN+8LZ+FKEG",
      "include_colab_link": true
    },
    "kernelspec": {
      "name": "python3",
      "display_name": "Python 3"
    },
    "accelerator": "GPU"
  },
  "cells": [
    {
      "cell_type": "markdown",
      "metadata": {
        "id": "view-in-github",
        "colab_type": "text"
      },
      "source": [
        "<a href=\"https://colab.research.google.com/github/DrLennon666/DAT4-students/blob/master/whatispytroch.ipynb\" target=\"_parent\"><img src=\"https://colab.research.google.com/assets/colab-badge.svg\" alt=\"Open In Colab\"/></a>"
      ]
    },
    {
      "cell_type": "markdown",
      "metadata": {
        "id": "aUTv8-i4c20b",
        "colab_type": "text"
      },
      "source": [
        "WHAT IS PYTORCH?\n",
        "\n",
        "It’s a Python-based scientific computing package targeted at two sets of audiences:\n",
        "\n",
        "A replacement for NumPy to use the power of GPUs\n",
        "a deep learning research platform that provides maximum flexibility and speed\n",
        "Getting Started\n",
        "\n",
        "**Tensors**\n",
        "\n",
        "Tensors are similar to NumPy’s ndarrays, with the addition being that Tensors can also be used on a GPU to accelerate computing."
      ]
    },
    {
      "cell_type": "code",
      "metadata": {
        "id": "LpxkTVx2daQL",
        "colab_type": "code",
        "colab": {}
      },
      "source": [
        "from __future__ import print_function\n",
        "import torch"
      ],
      "execution_count": 0,
      "outputs": []
    },
    {
      "cell_type": "markdown",
      "metadata": {
        "id": "NsJ_kM1RdkZv",
        "colab_type": "text"
      },
      "source": [
        "NOTE\n",
        "\n",
        "An uninitialized matrix is declared, but does not contain definite known values before it is used. When an uninitialized matrix is created, whatever values were in the allocated memory at the time will appear as the initial values.\n",
        "\n",
        "The next cell we show how to construct an empty tensor."
      ]
    },
    {
      "cell_type": "code",
      "metadata": {
        "id": "eoaGCR3adgL4",
        "colab_type": "code",
        "colab": {
          "base_uri": "https://localhost:8080/",
          "height": 102
        },
        "outputId": "1dca5654-2e05-4f9e-c41e-271d4c10548e"
      },
      "source": [
        "x = torch.empty(5,3)\n",
        "print(x)"
      ],
      "execution_count": 2,
      "outputs": [
        {
          "output_type": "stream",
          "text": [
            "tensor([[1.4892e-35, 0.0000e+00, 3.3631e-44],\n",
            "        [0.0000e+00,        nan, 6.1657e-44],\n",
            "        [1.1578e+27, 1.1362e+30, 7.1547e+22],\n",
            "        [4.5828e+30, 1.2121e+04, 7.1846e+22],\n",
            "        [9.2198e-39, 7.0374e+22, 0.0000e+00]])\n"
          ],
          "name": "stdout"
        }
      ]
    },
    {
      "cell_type": "code",
      "metadata": {
        "id": "B8bILje2dlcr",
        "colab_type": "code",
        "colab": {}
      },
      "source": [
        "x = torch.empty(5, 3)\n",
        "print(x)"
      ],
      "execution_count": 0,
      "outputs": []
    },
    {
      "cell_type": "markdown",
      "metadata": {
        "id": "8-XZ7nOEd9xN",
        "colab_type": "text"
      },
      "source": [
        "Construct a randomly initialized matrix:"
      ]
    },
    {
      "cell_type": "code",
      "metadata": {
        "id": "yGr6wA6Bd-ks",
        "colab_type": "code",
        "colab": {
          "base_uri": "https://localhost:8080/",
          "height": 102
        },
        "outputId": "91029be2-9e4c-449d-bad5-510a3a839687"
      },
      "source": [
        "x = torch.rand(5,3) #5 rows, 3 columns.\n",
        "print(x)"
      ],
      "execution_count": 3,
      "outputs": [
        {
          "output_type": "stream",
          "text": [
            "tensor([[0.3275, 0.8668, 0.9477],\n",
            "        [0.9231, 0.0662, 0.3769],\n",
            "        [0.2354, 0.4352, 0.5003],\n",
            "        [0.9434, 0.0414, 0.3469],\n",
            "        [0.2134, 0.5565, 0.3561]])\n"
          ],
          "name": "stdout"
        }
      ]
    },
    {
      "cell_type": "markdown",
      "metadata": {
        "id": "qD2CtOK2eW6c",
        "colab_type": "text"
      },
      "source": [
        "Construct a matrix filled zeros and of dtype long:\n"
      ]
    },
    {
      "cell_type": "code",
      "metadata": {
        "id": "gmMeu7AbeMNx",
        "colab_type": "code",
        "colab": {
          "base_uri": "https://localhost:8080/",
          "height": 102
        },
        "outputId": "55206bd9-033a-42f9-9468-81f73ac0d727"
      },
      "source": [
        "x = torch.zeros(5,3, dtype=torch.long)\n",
        "print(x)"
      ],
      "execution_count": 5,
      "outputs": [
        {
          "output_type": "stream",
          "text": [
            "tensor([[0, 0, 0],\n",
            "        [0, 0, 0],\n",
            "        [0, 0, 0],\n",
            "        [0, 0, 0],\n",
            "        [0, 0, 0]])\n"
          ],
          "name": "stdout"
        }
      ]
    },
    {
      "cell_type": "markdown",
      "metadata": {
        "id": "mHY34gn0eqED",
        "colab_type": "text"
      },
      "source": [
        "Construct a tensor directly from data:"
      ]
    },
    {
      "cell_type": "code",
      "metadata": {
        "id": "R0xtmp-fehB8",
        "colab_type": "code",
        "colab": {
          "base_uri": "https://localhost:8080/",
          "height": 34
        },
        "outputId": "7369eba1-0cce-4357-b84d-f2a66fc097f1"
      },
      "source": [
        "x= torch.tensor([5.5, 3])\n",
        "print(x)"
      ],
      "execution_count": 11,
      "outputs": [
        {
          "output_type": "stream",
          "text": [
            "tensor([5.5000, 3.0000])\n"
          ],
          "name": "stdout"
        }
      ]
    },
    {
      "cell_type": "markdown",
      "metadata": {
        "id": "U0YYfZ-Pe74O",
        "colab_type": "text"
      },
      "source": [
        "or create a tensor based on an existing tensor. These methods will reuse properties of the input tensor, e.g. dtype, unless new values are provided by user"
      ]
    },
    {
      "cell_type": "code",
      "metadata": {
        "id": "R37BE8BNewX1",
        "colab_type": "code",
        "colab": {
          "base_uri": "https://localhost:8080/",
          "height": 187
        },
        "outputId": "c60ba84b-fd15-47c7-c57b-e631596771ab"
      },
      "source": [
        "x = x.new_ones(5, 3, dtype=torch.double)      # new_* methods take in sizes\n",
        "print(x)\n",
        "\n",
        "x = torch.randn_like(x, dtype=torch.float)    # override dtype!\n",
        "print(x)                                      # result has the same size as ones x"
      ],
      "execution_count": 12,
      "outputs": [
        {
          "output_type": "stream",
          "text": [
            "tensor([[1., 1., 1.],\n",
            "        [1., 1., 1.],\n",
            "        [1., 1., 1.],\n",
            "        [1., 1., 1.],\n",
            "        [1., 1., 1.]], dtype=torch.float64)\n",
            "tensor([[-0.4938,  0.0683,  1.5487],\n",
            "        [ 2.2020, -1.1095, -0.2831],\n",
            "        [ 0.2488, -1.3457,  2.0103],\n",
            "        [-0.0178,  0.2657,  1.3322],\n",
            "        [ 0.3919, -0.1250,  0.1579]])\n"
          ],
          "name": "stdout"
        }
      ]
    },
    {
      "cell_type": "markdown",
      "metadata": {
        "id": "Wg3CwnI_gg1T",
        "colab_type": "text"
      },
      "source": [
        "Get its size:"
      ]
    },
    {
      "cell_type": "code",
      "metadata": {
        "id": "yYxqIrYGfeiU",
        "colab_type": "code",
        "colab": {
          "base_uri": "https://localhost:8080/",
          "height": 34
        },
        "outputId": "a75b3a7b-5b9e-4c1a-dbc0-5f96a946a3a4"
      },
      "source": [
        "x.size()"
      ],
      "execution_count": 14,
      "outputs": [
        {
          "output_type": "execute_result",
          "data": {
            "text/plain": [
              "torch.Size([5, 3])"
            ]
          },
          "metadata": {
            "tags": []
          },
          "execution_count": 14
        }
      ]
    },
    {
      "cell_type": "markdown",
      "metadata": {
        "id": "2XdxAFa9gpd_",
        "colab_type": "text"
      },
      "source": [
        "torch.Size is in fact a tuple, so it supports all tuple operations."
      ]
    },
    {
      "cell_type": "markdown",
      "metadata": {
        "id": "hC0z3K-OgxAr",
        "colab_type": "text"
      },
      "source": [
        "**Operations**\n",
        "\n",
        "There are multiple syntaxes for operations. In the following example, we will take a look at the addition operation.\n",
        "\n",
        "Addition: syntax 1"
      ]
    },
    {
      "cell_type": "code",
      "metadata": {
        "id": "dnI9WyOKgkFx",
        "colab_type": "code",
        "colab": {
          "base_uri": "https://localhost:8080/",
          "height": 272
        },
        "outputId": "39b1d4dc-b667-4e52-8bf3-27a25394e628"
      },
      "source": [
        "y = torch.rand(5,3)\n",
        "print(y)\n",
        "print(x)\n",
        "print(x+y) # this performs elementwise addition"
      ],
      "execution_count": 16,
      "outputs": [
        {
          "output_type": "stream",
          "text": [
            "tensor([[0.9921, 0.5185, 0.6631],\n",
            "        [0.4653, 0.6586, 0.7786],\n",
            "        [0.5036, 0.8762, 0.7100],\n",
            "        [0.8471, 0.9079, 0.8328],\n",
            "        [0.5360, 0.8683, 0.4260]])\n",
            "tensor([[-0.4938,  0.0683,  1.5487],\n",
            "        [ 2.2020, -1.1095, -0.2831],\n",
            "        [ 0.2488, -1.3457,  2.0103],\n",
            "        [-0.0178,  0.2657,  1.3322],\n",
            "        [ 0.3919, -0.1250,  0.1579]])\n",
            "tensor([[ 0.4983,  0.5868,  2.2118],\n",
            "        [ 2.6673, -0.4509,  0.4955],\n",
            "        [ 0.7524, -0.4695,  2.7202],\n",
            "        [ 0.8293,  1.1736,  2.1651],\n",
            "        [ 0.9279,  0.7433,  0.5838]])\n"
          ],
          "name": "stdout"
        }
      ]
    },
    {
      "cell_type": "markdown",
      "metadata": {
        "id": "26uHepNVhL7q",
        "colab_type": "text"
      },
      "source": [
        "Addition: syntax 2"
      ]
    },
    {
      "cell_type": "code",
      "metadata": {
        "id": "ie68QlOOhDGn",
        "colab_type": "code",
        "colab": {
          "base_uri": "https://localhost:8080/",
          "height": 102
        },
        "outputId": "49af4e3c-7263-4662-de76-3fd6215f513e"
      },
      "source": [
        "torch.add(x,y)"
      ],
      "execution_count": 17,
      "outputs": [
        {
          "output_type": "execute_result",
          "data": {
            "text/plain": [
              "tensor([[ 0.4983,  0.5868,  2.2118],\n",
              "        [ 2.6673, -0.4509,  0.4955],\n",
              "        [ 0.7524, -0.4695,  2.7202],\n",
              "        [ 0.8293,  1.1736,  2.1651],\n",
              "        [ 0.9279,  0.7433,  0.5838]])"
            ]
          },
          "metadata": {
            "tags": []
          },
          "execution_count": 17
        }
      ]
    },
    {
      "cell_type": "markdown",
      "metadata": {
        "id": "EhsYPSPGhvjO",
        "colab_type": "text"
      },
      "source": [
        "Addition: providing an output tensor as argument"
      ]
    },
    {
      "cell_type": "code",
      "metadata": {
        "id": "gz--qjmthO-x",
        "colab_type": "code",
        "colab": {
          "base_uri": "https://localhost:8080/",
          "height": 102
        },
        "outputId": "a174b983-7aa8-4ea9-db7b-73539bd9b179"
      },
      "source": [
        "result = torch.empty(5,3)  #create and empty tensor of shape 5x3\n",
        "torch.add(x,y, out=result) # add tensors x and y then save the sum to the empty result tensor\n",
        "print(result)"
      ],
      "execution_count": 18,
      "outputs": [
        {
          "output_type": "stream",
          "text": [
            "tensor([[ 0.4983,  0.5868,  2.2118],\n",
            "        [ 2.6673, -0.4509,  0.4955],\n",
            "        [ 0.7524, -0.4695,  2.7202],\n",
            "        [ 0.8293,  1.1736,  2.1651],\n",
            "        [ 0.9279,  0.7433,  0.5838]])\n"
          ],
          "name": "stdout"
        }
      ]
    },
    {
      "cell_type": "markdown",
      "metadata": {
        "id": "KrPogIR3h0n-",
        "colab_type": "text"
      },
      "source": [
        "Addition: in-place"
      ]
    },
    {
      "cell_type": "code",
      "metadata": {
        "id": "qRy7eqtih2KP",
        "colab_type": "code",
        "colab": {
          "base_uri": "https://localhost:8080/",
          "height": 102
        },
        "outputId": "8fc5afa9-5a94-40d6-fef4-e39f799aa444"
      },
      "source": [
        "# adds x to y\n",
        "y.add_(x)\n",
        "print(y)"
      ],
      "execution_count": 21,
      "outputs": [
        {
          "output_type": "stream",
          "text": [
            "tensor([[ 0.4983,  0.5868,  2.2118],\n",
            "        [ 2.6673, -0.4509,  0.4955],\n",
            "        [ 0.7524, -0.4695,  2.7202],\n",
            "        [ 0.8293,  1.1736,  2.1651],\n",
            "        [ 0.9279,  0.7433,  0.5838]])\n"
          ],
          "name": "stdout"
        }
      ]
    },
    {
      "cell_type": "markdown",
      "metadata": {
        "id": "Xaclj82Zid7b",
        "colab_type": "text"
      },
      "source": [
        "**NOTE**\n",
        "\n",
        "Any operation that mutates a tensor in-place is post-fixed with an `_`. For example: x.copy_(y), x.t_(), will change x.\n",
        "\n",
        "You can use standard NumPy-like indexing with all bells and whistles!"
      ]
    },
    {
      "cell_type": "code",
      "metadata": {
        "id": "szf4GTQsiLt8",
        "colab_type": "code",
        "colab": {
          "base_uri": "https://localhost:8080/",
          "height": 136
        },
        "outputId": "13801707-a7e8-4745-f588-2c59912ea475"
      },
      "source": [
        "print(x[:, 1]) # access all rows and col 1\n",
        "print('\\n',x)"
      ],
      "execution_count": 25,
      "outputs": [
        {
          "output_type": "stream",
          "text": [
            "tensor([ 0.0683, -1.1095, -1.3457,  0.2657, -0.1250])\n",
            "\n",
            " tensor([[-0.4938,  0.0683,  1.5487],\n",
            "        [ 2.2020, -1.1095, -0.2831],\n",
            "        [ 0.2488, -1.3457,  2.0103],\n",
            "        [-0.0178,  0.2657,  1.3322],\n",
            "        [ 0.3919, -0.1250,  0.1579]])\n"
          ],
          "name": "stdout"
        }
      ]
    },
    {
      "cell_type": "markdown",
      "metadata": {
        "id": "6MWghM6di_dh",
        "colab_type": "text"
      },
      "source": [
        "Resizing: If you want to resize/reshape tensor, you can use `torch.view`:\n",
        "\n"
      ]
    },
    {
      "cell_type": "code",
      "metadata": {
        "id": "NZRQF3sAizmb",
        "colab_type": "code",
        "colab": {
          "base_uri": "https://localhost:8080/",
          "height": 34
        },
        "outputId": "e2e1d2af-dcce-4bda-fd44-4266cc86af40"
      },
      "source": [
        "x = torch.randn(4, 4) # create random 4x4 tensor\n",
        "y = x.view(16)\n",
        "z = x.view(-1,8) # the size -1 is inferred from other dimenstions. i.e. it is 2 in this case as 2*8=16\n",
        "print(x.size(), y.size(), z.size())"
      ],
      "execution_count": 26,
      "outputs": [
        {
          "output_type": "stream",
          "text": [
            "torch.Size([4, 4]) torch.Size([16]) torch.Size([2, 8])\n"
          ],
          "name": "stdout"
        }
      ]
    },
    {
      "cell_type": "markdown",
      "metadata": {
        "id": "i7e6kY59jtI4",
        "colab_type": "text"
      },
      "source": [
        "If you have a one element tensor, use .item() to get the value as a Python number\n"
      ]
    },
    {
      "cell_type": "code",
      "metadata": {
        "id": "zNqdED80i18_",
        "colab_type": "code",
        "colab": {
          "base_uri": "https://localhost:8080/",
          "height": 68
        },
        "outputId": "39d0185d-34c1-41c9-f46a-10cf9b1c9b07"
      },
      "source": [
        "x = torch.randn(1) # create a 0d tensor\n",
        "print(x)\n",
        "print(x.item())\n",
        "type(x.item())"
      ],
      "execution_count": 27,
      "outputs": [
        {
          "output_type": "stream",
          "text": [
            "tensor([-0.1124])\n",
            "-0.11242961138486862\n"
          ],
          "name": "stdout"
        },
        {
          "output_type": "execute_result",
          "data": {
            "text/plain": [
              "float"
            ]
          },
          "metadata": {
            "tags": []
          },
          "execution_count": 27
        }
      ]
    },
    {
      "cell_type": "markdown",
      "metadata": {
        "id": "xltqW0JSmAFv",
        "colab_type": "text"
      },
      "source": [
        "Other tensor operations can be found [here](https://pytorch.org/docs/stable/torch.html)\n",
        "\n",
        "**NumPy Bridge**\n",
        "\n",
        "Converting a Torch Tensor to a NumPy array and vice versa is a breeze.\n",
        "\n",
        "The Torch Tensor and NumPy array will share their underlying memory locations (if the Torch Tensor is on CPU), and changing one will change the other.\n",
        "\n",
        "**Converting a Torch Tensor to a NumPy Array**"
      ]
    },
    {
      "cell_type": "code",
      "metadata": {
        "id": "9MSpcGD3l61W",
        "colab_type": "code",
        "colab": {
          "base_uri": "https://localhost:8080/",
          "height": 34
        },
        "outputId": "400f02e9-c083-41d8-c5c4-4f213a2df41b"
      },
      "source": [
        "a = torch.ones(5)\n",
        "print(a)"
      ],
      "execution_count": 28,
      "outputs": [
        {
          "output_type": "stream",
          "text": [
            "tensor([1., 1., 1., 1., 1.])\n"
          ],
          "name": "stdout"
        }
      ]
    },
    {
      "cell_type": "code",
      "metadata": {
        "id": "PcsKBtySmbbC",
        "colab_type": "code",
        "colab": {
          "base_uri": "https://localhost:8080/",
          "height": 34
        },
        "outputId": "62827862-73b2-468e-832c-038f6135aa60"
      },
      "source": [
        "b = a.numpy()\n",
        "print(b)"
      ],
      "execution_count": 29,
      "outputs": [
        {
          "output_type": "stream",
          "text": [
            "[1. 1. 1. 1. 1.]\n"
          ],
          "name": "stdout"
        }
      ]
    },
    {
      "cell_type": "markdown",
      "metadata": {
        "id": "TLzTGIMemifg",
        "colab_type": "text"
      },
      "source": [
        "See how the numpy array changed in value.\n",
        "\n",
        "recall: the `_` changed the tensor in-place. a and b share the same memory allocation since both are on the CPU, hence updating one changes both. "
      ]
    },
    {
      "cell_type": "code",
      "metadata": {
        "id": "QqNDOrQXmdrQ",
        "colab_type": "code",
        "colab": {
          "base_uri": "https://localhost:8080/",
          "height": 51
        },
        "outputId": "e0f38ca6-17f8-4831-d3bf-8dc44f32a80c"
      },
      "source": [
        "a.add_(1)\n",
        "print(a)\n",
        "print(b)"
      ],
      "execution_count": 30,
      "outputs": [
        {
          "output_type": "stream",
          "text": [
            "tensor([2., 2., 2., 2., 2.])\n",
            "[2. 2. 2. 2. 2.]\n"
          ],
          "name": "stdout"
        }
      ]
    },
    {
      "cell_type": "markdown",
      "metadata": {
        "id": "Mw6pt2RSm8C2",
        "colab_type": "text"
      },
      "source": [
        "**Converting NumPy Array to Torch Tensor**\n",
        "\n",
        "See how changing the np array changed the Torch Tensor automatically\n",
        "\n",
        "`.from_numpy` creates a torch tensor\n",
        "a and b share same memory allocation"
      ]
    },
    {
      "cell_type": "code",
      "metadata": {
        "id": "xzorBLwmmn1z",
        "colab_type": "code",
        "colab": {
          "base_uri": "https://localhost:8080/",
          "height": 51
        },
        "outputId": "24932cde-83ea-4d8c-e78d-c61e0cbd734d"
      },
      "source": [
        "import numpy as np\n",
        "a = np.ones(5)\n",
        "b = torch.from_numpy(a)\n",
        "np.add(a, 1, out=a)\n",
        "\n",
        "print(a)\n",
        "print(b)"
      ],
      "execution_count": 34,
      "outputs": [
        {
          "output_type": "stream",
          "text": [
            "[2. 2. 2. 2. 2.]\n",
            "tensor([2., 2., 2., 2., 2.], dtype=torch.float64)\n"
          ],
          "name": "stdout"
        }
      ]
    },
    {
      "cell_type": "markdown",
      "metadata": {
        "id": "tSC54UpgnrWC",
        "colab_type": "text"
      },
      "source": [
        "All the Tensors on the CPU except a CharTensor support converting to NumPy and back.\n",
        "\n",
        "**CUDA Tensors**\n",
        "\n",
        "Tensors can be moved onto any device using the `.to` method."
      ]
    },
    {
      "cell_type": "code",
      "metadata": {
        "id": "fEuLq2zLnPeZ",
        "colab_type": "code",
        "colab": {
          "base_uri": "https://localhost:8080/",
          "height": 68
        },
        "outputId": "0de4dc54-867f-4417-84e9-0880919da017"
      },
      "source": [
        "# Run this cell only if CUDA is available\n",
        "# We will use torch.device object to move tensors in and out of GPU\n",
        "\n",
        "print(torch.cuda.is_available()) # check if CUDA is available on machine\n",
        "\n",
        "if torch.cuda.is_available():\n",
        "  device = torch.device('cuda') # a CUDA device object\n",
        "  y = torch.ones_like(x, device=device) # directly create a tensor on GPU\n",
        "  x = x.to(device) # or just use strings such as '.to('cuda')'\n",
        "  z = x + y\n",
        "  print(z)\n",
        "  print(z.to('cpu', torch.double)) # `.to` can also change dtype togheter"
      ],
      "execution_count": 38,
      "outputs": [
        {
          "output_type": "stream",
          "text": [
            "True\n",
            "tensor([0.8876], device='cuda:0')\n",
            "tensor([0.8876], dtype=torch.float64)\n"
          ],
          "name": "stdout"
        }
      ]
    },
    {
      "cell_type": "code",
      "metadata": {
        "id": "H5jLXF07nz10",
        "colab_type": "code",
        "colab": {}
      },
      "source": [
        "# let us run this cell only if CUDA is available\n",
        "# We will use ``torch.device`` objects to move tensors in and out of GPU\n",
        "if torch.cuda.is_available():\n",
        "    device = torch.device(\"cuda\")          # a CUDA device object\n",
        "    y = torch.ones_like(x, device=device)  # directly create a tensor on GPU\n",
        "    x = x.to(device)                       # or just use strings ``.to(\"cuda\")``\n",
        "    z = x + y\n",
        "    print(z)\n",
        "    print(z.to(\"cpu\", torch.double))       # ``.to`` can also change dtype together!"
      ],
      "execution_count": 0,
      "outputs": []
    }
  ]
}